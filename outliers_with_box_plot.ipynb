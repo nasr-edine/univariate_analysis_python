{
 "cells": [
  {
   "cell_type": "code",
   "execution_count": 70,
   "id": "32129cb0-2b51-45cf-a202-e78a97c2a978",
   "metadata": {},
   "outputs": [],
   "source": [
    "import numpy as np\n",
    "import matplotlib.pyplot as plt\n",
    "import pandas as pd\n",
    "import seaborn as sns\n",
    "import statsmodels as sm"
   ]
  },
  {
   "cell_type": "code",
   "execution_count": 71,
   "id": "e453b448-dac4-49b2-813f-23f314482b3c",
   "metadata": {},
   "outputs": [],
   "source": [
    "df = pd.read_csv('data/p2_arbres_fr.csv', sep=';')  # Creating the dataframe"
   ]
  },
  {
   "cell_type": "markdown",
   "id": "e3810013-1158-49b0-aa3d-bf5e94fce4f0",
   "metadata": {},
   "source": [
    "## Mark Missing Values"
   ]
  },
  {
   "cell_type": "code",
   "execution_count": 72,
   "id": "056d8560-573c-497e-bdf2-c920d93be470",
   "metadata": {},
   "outputs": [
    {
     "name": "stdout",
     "output_type": "stream",
     "text": [
      "hauteur_m           39219\n",
      "circonference_cm    25867\n",
      "dtype: int64\n"
     ]
    }
   ],
   "source": [
    "# count the number of missing values for each column\n",
    "num_missing = (df[['hauteur_m', 'circonference_cm']] == 0).sum()\n",
    "# report the results\n",
    "print(num_missing)"
   ]
  },
  {
   "cell_type": "markdown",
   "id": "0d094852-213c-439c-950f-c466b9e2b178",
   "metadata": {},
   "source": [
    "marking missing values with nan values"
   ]
  },
  {
   "cell_type": "code",
   "execution_count": 75,
   "id": "0b718508-b19e-4985-855e-39c9a5ce9119",
   "metadata": {},
   "outputs": [],
   "source": [
    "# replace '0' values with 'nan'\n",
    "df[['hauteur_m','circonference_cm']] = df[['hauteur_m','circonference_cm']].replace(0, np.nan)"
   ]
  },
  {
   "cell_type": "markdown",
   "id": "98d27f4c-63a4-4e1d-b695-f4e85d002de8",
   "metadata": {},
   "source": [
    "summarize the number of rows with missing values for each column"
   ]
  },
  {
   "cell_type": "code",
   "execution_count": 76,
   "id": "36b2ec6c-1e35-4f9f-8c94-2abcca771747",
   "metadata": {},
   "outputs": [
    {
     "data": {
      "text/plain": [
       "hauteur_m           39219\n",
       "circonference_cm    25867\n",
       "dtype: int64"
      ]
     },
     "execution_count": 76,
     "metadata": {},
     "output_type": "execute_result"
    }
   ],
   "source": [
    "df[['hauteur_m', 'circonference_cm']].isnull().sum()"
   ]
  },
  {
   "cell_type": "markdown",
   "id": "7c388835-b508-4cc5-ac88-5f00dbdc60f9",
   "metadata": {},
   "source": [
    "[Records hauteur des arbres a Paris](https://www.monumentaltrees.com/fr/recordsdhauteur/fra/paris/)"
   ]
  },
  {
   "cell_type": "code",
   "execution_count": 77,
   "id": "16e4890a-0f77-4897-9d74-2552a830cb0d",
   "metadata": {},
   "outputs": [
    {
     "data": {
      "text/plain": [
       "458"
      ]
     },
     "execution_count": 77,
     "metadata": {},
     "output_type": "execute_result"
    }
   ],
   "source": [
    "len(df[df['hauteur_m'] >= 50])"
   ]
  },
  {
   "cell_type": "code",
   "execution_count": 79,
   "id": "6fc8015b-d3e3-4d1e-95d8-c312ae6f4eea",
   "metadata": {},
   "outputs": [],
   "source": [
    "df[df['hauteur_m'] >= 50] = np.nan"
   ]
  },
  {
   "cell_type": "markdown",
   "id": "6eee904a-ede0-4088-af27-1a5540e221a2",
   "metadata": {},
   "source": [
    "## Identify outliers with boxplot"
   ]
  },
  {
   "cell_type": "code",
   "execution_count": 80,
   "id": "f8979850-1ce4-4acb-91a0-89f660c682b9",
   "metadata": {},
   "outputs": [
    {
     "data": {
      "image/png": "[encoded data removed]",
      "text/plain": [
       "<Figure size 640x480 with 1 Axes>"
      ]
     },
     "metadata": {},
     "output_type": "display_data"
    }
   ],
   "source": [
    "import seaborn as sb\n",
    "\n",
    "sns.boxplot(x=df['hauteur_m']);"
   ]
  },
  {
   "cell_type": "markdown",
   "id": "83dc5064-2fc4-494b-971b-6e22c3b4bec0",
   "metadata": {},
   "source": [
    "## Standard Deviation Method"
   ]
  },
  {
   "cell_type": "code",
   "execution_count": 81,
   "id": "ab6d1b79-7e30-4edc-8944-3127fba5a06b",
   "metadata": {},
   "outputs": [
    {
     "name": "stdout",
     "output_type": "stream",
     "text": [
      "10.366945033030039 5.166432488376888 -5.132352432100625 25.8662424981607\n"
     ]
    }
   ],
   "source": [
    "# calculate summary statistics\n",
    "data_mean, data_std = np.mean(df.hauteur_m), np.std(df.hauteur_m)\n",
    "# define outliers\n",
    "cut_off = data_std * 3\n",
    "lower, upper = data_mean - cut_off, data_mean + cut_off\n",
    "print(data_mean, data_std, lower, upper)"
   ]
  },
  {
   "cell_type": "code",
   "execution_count": 82,
   "id": "e3b6e22e-0692-4623-91b8-b96506925dec",
   "metadata": {},
   "outputs": [
    {
     "data": {
      "text/plain": [
       "26.0"
      ]
     },
     "execution_count": 82,
     "metadata": {},
     "output_type": "execute_result"
    }
   ],
   "source": [
    "# identify outliers\n",
    "outliers = [x for x in df.hauteur_m if x < lower or x > upper]\n",
    "min(outliers)\n",
    "# max(outliers)"
   ]
  },
  {
   "cell_type": "markdown",
   "id": "e2c00244-7996-4542-8182-8509d3006e62",
   "metadata": {},
   "source": [
    "## Interquartile Range Method"
   ]
  },
  {
   "cell_type": "code",
   "execution_count": 83,
   "id": "c4a9903e-f4d6-4876-8379-84f8b99c6ef5",
   "metadata": {},
   "outputs": [
    {
     "name": "stdout",
     "output_type": "stream",
     "text": [
      "Percentiles: 25th=6.000, 75th=14.000, IQR=8.000\n"
     ]
    }
   ],
   "source": [
    "from numpy import percentile\n",
    "# calculate interquartile range\n",
    "data = df.hauteur_m[df.hauteur_m.notnull()]\n",
    "q25, q75 = percentile(data, 25), percentile(data, 75)\n",
    "iqr = q75 - q25\n",
    "print('Percentiles: 25th=%.3f, 75th=%.3f, IQR=%.3f' % (q25, q75, iqr))"
   ]
  },
  {
   "cell_type": "code",
   "execution_count": 84,
   "id": "818ebbf5-a946-4951-94c7-7db850677d0a",
   "metadata": {},
   "outputs": [
    {
     "name": "stdout",
     "output_type": "stream",
     "text": [
      "Identified outliers: 934\n"
     ]
    },
    {
     "data": {
      "text/plain": [
       "26.0"
      ]
     },
     "execution_count": 84,
     "metadata": {},
     "output_type": "execute_result"
    }
   ],
   "source": [
    "# identify outliers\n",
    "outliers = [x for x in data if x < lower or x > upper] \n",
    "print('Identified outliers: %d' % len(outliers))\n",
    "outliers.sort()\n",
    "min(outliers)"
   ]
  },
  {
   "cell_type": "code",
   "execution_count": null,
   "id": "8ee47267-8ca3-4bb1-aebd-07097204e90a",
   "metadata": {},
   "outputs": [],
   "source": []
  }
 ],
 "metadata": {
  "kernelspec": {
   "display_name": "Python 3 (ipykernel)",
   "language": "python",
   "name": "python3"
  },
  "language_info": {
   "codemirror_mode": {
    "name": "ipython",
    "version": 3
   },
   "file_extension": ".py",
   "mimetype": "text/x-python",
   "name": "python",
   "nbconvert_exporter": "python",
   "pygments_lexer": "ipython3",
   "version": "3.10.4"
  }
 },
 "nbformat": 4,
 "nbformat_minor": 5
}
