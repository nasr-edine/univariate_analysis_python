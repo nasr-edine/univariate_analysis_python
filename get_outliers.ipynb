{
 "cells": [
  {
   "cell_type": "code",
   "execution_count": 1,
   "id": "d2e4c730-2356-4abf-911b-8ec19da61c40",
   "metadata": {},
   "outputs": [],
   "source": [
    "import numpy as np\n",
    "import matplotlib.pyplot as plt\n",
    "import pandas as pd\n",
    "import seaborn as sns\n",
    "import statsmodels as sm"
   ]
  },
  {
   "cell_type": "code",
   "execution_count": 2,
   "id": "68441893-1536-4ec7-ba66-4b5e78e84d68",
   "metadata": {},
   "outputs": [],
   "source": [
    "df = pd.read_csv('data/p2_arbres_fr.csv', sep=';')  # Creating the dataframe"
   ]
  },
  {
   "cell_type": "markdown",
   "id": "4de2689c-174f-4b72-ad34-164ad70c4021",
   "metadata": {},
   "source": [
    "## Mark Missing Values"
   ]
  },
  {
   "cell_type": "code",
   "execution_count": 3,
   "id": "2f45dc98-c828-4b6d-acd5-14f5e53ae90b",
   "metadata": {},
   "outputs": [
    {
     "name": "stdout",
     "output_type": "stream",
     "text": [
      "hauteur_m           39219\n",
      "circonference_cm    25867\n",
      "dtype: int64\n"
     ]
    }
   ],
   "source": [
    "# count the number of missing values for each column\n",
    "num_missing = (df[['hauteur_m', 'circonference_cm']] == 0).sum()\n",
    "# report the results\n",
    "print(num_missing)"
   ]
  },
  {
   "cell_type": "markdown",
   "id": "8b1975dd-1ea6-43a9-bfec-e328eba798be",
   "metadata": {},
   "source": [
    "marking missing values with nan values"
   ]
  },
  {
   "cell_type": "code",
   "execution_count": 4,
   "id": "617cf5e9-0677-43ea-a012-f9e3c0de11e1",
   "metadata": {},
   "outputs": [],
   "source": [
    "# replace '0' values with 'nan'\n",
    "df[['hauteur_m','circonference_cm']] = df[['hauteur_m','circonference_cm']].replace(0, np.nan)"
   ]
  },
  {
   "cell_type": "markdown",
   "id": "079fcc9a-74e7-44a1-9ec0-7e015d24cf8a",
   "metadata": {},
   "source": [
    "summarize the number of rows with missing values for each column"
   ]
  },
  {
   "cell_type": "code",
   "execution_count": 5,
   "id": "55499804-a22d-4df8-879a-54d7c4413caf",
   "metadata": {},
   "outputs": [
    {
     "data": {
      "text/plain": [
       "hauteur_m           39219\n",
       "circonference_cm    25867\n",
       "dtype: int64"
      ]
     },
     "execution_count": 5,
     "metadata": {},
     "output_type": "execute_result"
    }
   ],
   "source": [
    "df[['hauteur_m', 'circonference_cm']].isnull().sum()"
   ]
  },
  {
   "cell_type": "markdown",
   "id": "b368c0af-8fe7-4d19-8825-ae6b98c523f0",
   "metadata": {},
   "source": [
    "## Standard Deviation Method"
   ]
  },
  {
   "cell_type": "code",
   "execution_count": 6,
   "id": "822c36e5-f02e-40c2-a62a-bf78fca98fc8",
   "metadata": {},
   "outputs": [
    {
     "name": "stdout",
     "output_type": "stream",
     "text": [
      "16.30580792701873 2198.327914504449 -6578.677935586328 6611.289551440365\n"
     ]
    }
   ],
   "source": [
    "# calculate summary statistics\n",
    "data_mean, data_std = np.mean(df.hauteur_m), np.std(df.hauteur_m)\n",
    "# define outliers\n",
    "cut_off = data_std * 3\n",
    "lower, upper = data_mean - cut_off, data_mean + cut_off\n",
    "print(data_mean, data_std, lower, upper)"
   ]
  },
  {
   "cell_type": "code",
   "execution_count": 7,
   "id": "d6379736-9ad2-40ac-afb8-b45c17d3b1a8",
   "metadata": {},
   "outputs": [
    {
     "data": {
      "text/plain": [
       "[881818.0]"
      ]
     },
     "execution_count": 7,
     "metadata": {},
     "output_type": "execute_result"
    }
   ],
   "source": [
    "# identify outliers\n",
    "outliers = [x for x in df.hauteur_m if x < lower or x > upper]\n",
    "outliers"
   ]
  },
  {
   "cell_type": "markdown",
   "id": "3b93d006-2006-49ef-b1a1-49cc3671684b",
   "metadata": {},
   "source": [
    "## Interquartile Range Method"
   ]
  },
  {
   "cell_type": "code",
   "execution_count": 8,
   "id": "8bb9df88-bbf1-4ce0-9f15-64b11f0f00d9",
   "metadata": {},
   "outputs": [
    {
     "name": "stdout",
     "output_type": "stream",
     "text": [
      "Percentiles: 25th=6.000, 75th=14.000, IQR=8.000\n"
     ]
    }
   ],
   "source": [
    "from numpy import percentile\n",
    "# calculate interquartile range\n",
    "data = df.hauteur_m[df.hauteur_m.notnull()]\n",
    "q25, q75 = percentile(data, 25), percentile(data, 75)\n",
    "iqr = q75 - q25\n",
    "print('Percentiles: 25th=%.3f, 75th=%.3f, IQR=%.3f' % (q25, q75, iqr))"
   ]
  },
  {
   "cell_type": "code",
   "execution_count": 9,
   "id": "cac2fec2-a4f9-4cf0-9b34-3904ca44e123",
   "metadata": {},
   "outputs": [
    {
     "name": "stdout",
     "output_type": "stream",
     "text": [
      "Identified outliers: 1\n"
     ]
    },
    {
     "data": {
      "text/plain": [
       "[881818.0]"
      ]
     },
     "execution_count": 9,
     "metadata": {},
     "output_type": "execute_result"
    }
   ],
   "source": [
    "# identify outliers\n",
    "outliers = [x for x in data if x < lower or x > upper] \n",
    "print('Identified outliers: %d' % len(outliers))\n",
    "outliers"
   ]
  },
  {
   "cell_type": "code",
   "execution_count": null,
   "id": "9a9eb3b9-dd64-4edc-8fa5-8da3b41668d8",
   "metadata": {},
   "outputs": [],
   "source": []
  }
 ],
 "metadata": {
  "kernelspec": {
   "display_name": "Python 3 (ipykernel)",
   "language": "python",
   "name": "python3"
  },
  "language_info": {
   "codemirror_mode": {
    "name": "ipython",
    "version": 3
   },
   "file_extension": ".py",
   "mimetype": "text/x-python",
   "name": "python",
   "nbconvert_exporter": "python",
   "pygments_lexer": "ipython3",
   "version": "3.10.4"
  }
 },
 "nbformat": 4,
 "nbformat_minor": 5
}
