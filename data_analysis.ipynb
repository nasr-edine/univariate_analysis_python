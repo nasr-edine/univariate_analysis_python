{
 "cells": [
  {
   "cell_type": "markdown",
   "id": "5db89203-f910-4aa0-8c44-6540e3c0dfe3",
   "metadata": {},
   "source": [
    "## Check the Version of the Python Interpreter"
   ]
  },
  {
   "cell_type": "code",
   "execution_count": 7,
   "id": "1c31d9b5-5502-4bfb-bd74-669cdd043b05",
   "metadata": {
    "collapsed": true,
    "jupyter": {
     "outputs_hidden": true
    }
   },
   "outputs": [
    {
     "name": "stdout",
     "output_type": "stream",
     "text": [
      "Python 3.10.4\n"
     ]
    }
   ],
   "source": [
    "!python --version"
   ]
  },
  {
   "cell_type": "markdown",
   "id": "cbfba95e-ea85-4e0f-bf18-19308ba89f29",
   "metadata": {},
   "source": [
    "## Verify that I'm using the right virtual environment"
   ]
  },
  {
   "cell_type": "code",
   "execution_count": 8,
   "id": "819a99cf-b2e8-4214-9e14-d5149af9f315",
   "metadata": {
    "collapsed": true,
    "jupyter": {
     "outputs_hidden": true
    }
   },
   "outputs": [
    {
     "name": "stdout",
     "output_type": "stream",
     "text": [
      "pip 22.3.1 from /Users/drainasr-edine/github/ingenieur_ia/P2_drai_nasr-edine/ia_project_3_env/lib/python3.10/site-packages/pip (python 3.10)\n"
     ]
    }
   ],
   "source": [
    "!pip -V"
   ]
  },
  {
   "cell_type": "markdown",
   "id": "1fece1d0-75fe-4579-ba73-e818268bdfdd",
   "metadata": {},
   "source": [
    "## Import Python library for data analysis, visualization, exploration"
   ]
  },
  {
   "cell_type": "code",
   "execution_count": 1,
   "id": "154b5f42-7e79-47e8-906a-2700b23d6893",
   "metadata": {
    "tags": []
   },
   "outputs": [],
   "source": [
    "# Importing important libraries\n",
    "import numpy as np\n",
    "import matplotlib.pyplot as plt\n",
    "import pandas as pd\n",
    "import seaborn as sns\n",
    "import statsmodels as sm"
   ]
  },
  {
   "cell_type": "markdown",
   "id": "44fcc0a4-efcc-4b1d-bfd9-f55529d73ee8",
   "metadata": {
    "tags": []
   },
   "source": [
    "## Creating a `DataFrame` by Reading in a CSV File\n",
    "We will read in a CSV file using `pandas`. "
   ]
  },
  {
   "cell_type": "code",
   "execution_count": 162,
   "id": "ec27bab3-1361-4d94-93f6-98174242bb8b",
   "metadata": {
    "tags": []
   },
   "outputs": [],
   "source": [
    "df = pd.read_csv('data/p2_arbres_fr.csv', sep=';')  # Creating the dataframe"
   ]
  },
  {
   "cell_type": "markdown",
   "id": "bd842bea-9e0f-45ef-93f0-b0408fa5c06f",
   "metadata": {},
   "source": [
    "## Examining dataframes\n",
    "### Is it empty?"
   ]
  },
  {
   "cell_type": "code",
   "execution_count": 47,
   "id": "80a5e41b-1bdd-447a-8858-51a1eed2bc03",
   "metadata": {
    "collapsed": true,
    "jupyter": {
     "outputs_hidden": true
    },
    "tags": []
   },
   "outputs": [
    {
     "data": {
      "text/plain": [
       "False"
      ]
     },
     "execution_count": 47,
     "metadata": {},
     "output_type": "execute_result"
    }
   ],
   "source": [
    "df.empty"
   ]
  },
  {
   "cell_type": "markdown",
   "id": "ef31af99-62bf-49e7-a764-b4db755c0efd",
   "metadata": {},
   "source": [
    "### What are the dimensions?"
   ]
  },
  {
   "cell_type": "markdown",
   "id": "f0994e4e-5e0b-4aa9-9cfb-0a9acf16c3ee",
   "metadata": {
    "tags": []
   },
   "source": [
    "We find the dimensions with the `shape` attribute as (rows, columns)."
   ]
  },
  {
   "cell_type": "code",
   "execution_count": 12,
   "id": "9e6f1af3-58a9-4e78-bd0c-913fac49ace6",
   "metadata": {
    "collapsed": true,
    "jupyter": {
     "outputs_hidden": true
    },
    "tags": []
   },
   "outputs": [
    {
     "data": {
      "text/plain": [
       "(200137, 18)"
      ]
     },
     "execution_count": 12,
     "metadata": {},
     "output_type": "execute_result"
    }
   ],
   "source": [
    "df.shape"
   ]
  },
  {
   "cell_type": "markdown",
   "id": "a2d71827-af70-45ff-b18d-7e55e8245219",
   "metadata": {
    "tags": []
   },
   "source": [
    "## Describing and Summarizing\n",
    "### Get summary statistics"
   ]
  },
  {
   "cell_type": "code",
   "execution_count": 76,
   "id": "8d0afee0-b39d-4f5d-b95d-072f08ade58f",
   "metadata": {
    "collapsed": true,
    "jupyter": {
     "outputs_hidden": true
    },
    "tags": []
   },
   "outputs": [
    {
     "data": {
      "text/html": [
       "<div>\n",
       "<style scoped>\n",
       "    .dataframe tbody tr th:only-of-type {\n",
       "        vertical-align: middle;\n",
       "    }\n",
       "\n",
       "    .dataframe tbody tr th {\n",
       "        vertical-align: top;\n",
       "    }\n",
       "\n",
       "    .dataframe thead th {\n",
       "        text-align: right;\n",
       "    }\n",
       "</style>\n",
       "<table border=\"1\" class=\"dataframe\">\n",
       "  <thead>\n",
       "    <tr style=\"text-align: right;\">\n",
       "      <th></th>\n",
       "      <th>id</th>\n",
       "      <th>numero</th>\n",
       "      <th>circonference_cm</th>\n",
       "      <th>hauteur_m</th>\n",
       "      <th>remarquable</th>\n",
       "      <th>geo_point_2d_a</th>\n",
       "      <th>geo_point_2d_b</th>\n",
       "    </tr>\n",
       "  </thead>\n",
       "  <tbody>\n",
       "    <tr>\n",
       "      <th>count</th>\n",
       "      <td>2.001370e+05</td>\n",
       "      <td>0.0</td>\n",
       "      <td>200137.000000</td>\n",
       "      <td>200137.000000</td>\n",
       "      <td>137039.000000</td>\n",
       "      <td>200137.000000</td>\n",
       "      <td>200137.000000</td>\n",
       "    </tr>\n",
       "    <tr>\n",
       "      <th>mean</th>\n",
       "      <td>3.872027e+05</td>\n",
       "      <td>NaN</td>\n",
       "      <td>83.380479</td>\n",
       "      <td>13.110509</td>\n",
       "      <td>0.001343</td>\n",
       "      <td>48.854491</td>\n",
       "      <td>2.348208</td>\n",
       "    </tr>\n",
       "    <tr>\n",
       "      <th>std</th>\n",
       "      <td>5.456032e+05</td>\n",
       "      <td>NaN</td>\n",
       "      <td>673.190213</td>\n",
       "      <td>1971.217387</td>\n",
       "      <td>0.036618</td>\n",
       "      <td>0.030234</td>\n",
       "      <td>0.051220</td>\n",
       "    </tr>\n",
       "    <tr>\n",
       "      <th>min</th>\n",
       "      <td>9.987400e+04</td>\n",
       "      <td>NaN</td>\n",
       "      <td>0.000000</td>\n",
       "      <td>0.000000</td>\n",
       "      <td>0.000000</td>\n",
       "      <td>48.742290</td>\n",
       "      <td>2.210241</td>\n",
       "    </tr>\n",
       "    <tr>\n",
       "      <th>25%</th>\n",
       "      <td>1.559270e+05</td>\n",
       "      <td>NaN</td>\n",
       "      <td>30.000000</td>\n",
       "      <td>5.000000</td>\n",
       "      <td>0.000000</td>\n",
       "      <td>48.835021</td>\n",
       "      <td>2.307530</td>\n",
       "    </tr>\n",
       "    <tr>\n",
       "      <th>50%</th>\n",
       "      <td>2.210780e+05</td>\n",
       "      <td>NaN</td>\n",
       "      <td>70.000000</td>\n",
       "      <td>8.000000</td>\n",
       "      <td>0.000000</td>\n",
       "      <td>48.854162</td>\n",
       "      <td>2.351095</td>\n",
       "    </tr>\n",
       "    <tr>\n",
       "      <th>75%</th>\n",
       "      <td>2.741020e+05</td>\n",
       "      <td>NaN</td>\n",
       "      <td>115.000000</td>\n",
       "      <td>12.000000</td>\n",
       "      <td>0.000000</td>\n",
       "      <td>48.876447</td>\n",
       "      <td>2.386838</td>\n",
       "    </tr>\n",
       "    <tr>\n",
       "      <th>max</th>\n",
       "      <td>2.024745e+06</td>\n",
       "      <td>NaN</td>\n",
       "      <td>250255.000000</td>\n",
       "      <td>881818.000000</td>\n",
       "      <td>1.000000</td>\n",
       "      <td>48.911485</td>\n",
       "      <td>2.469759</td>\n",
       "    </tr>\n",
       "  </tbody>\n",
       "</table>\n",
       "</div>"
      ],
      "text/plain": [
       "                 id  numero  circonference_cm      hauteur_m    remarquable  \\\n",
       "count  2.001370e+05     0.0     200137.000000  200137.000000  137039.000000   \n",
       "mean   3.872027e+05     NaN         83.380479      13.110509       0.001343   \n",
       "std    5.456032e+05     NaN        673.190213    1971.217387       0.036618   \n",
       "min    9.987400e+04     NaN          0.000000       0.000000       0.000000   \n",
       "25%    1.559270e+05     NaN         30.000000       5.000000       0.000000   \n",
       "50%    2.210780e+05     NaN         70.000000       8.000000       0.000000   \n",
       "75%    2.741020e+05     NaN        115.000000      12.000000       0.000000   \n",
       "max    2.024745e+06     NaN     250255.000000  881818.000000       1.000000   \n",
       "\n",
       "       geo_point_2d_a  geo_point_2d_b  \n",
       "count   200137.000000   200137.000000  \n",
       "mean        48.854491        2.348208  \n",
       "std          0.030234        0.051220  \n",
       "min         48.742290        2.210241  \n",
       "25%         48.835021        2.307530  \n",
       "50%         48.854162        2.351095  \n",
       "75%         48.876447        2.386838  \n",
       "max         48.911485        2.469759  "
      ]
     },
     "execution_count": 76,
     "metadata": {},
     "output_type": "execute_result"
    }
   ],
   "source": [
    "df.describe()"
   ]
  },
  {
   "cell_type": "code",
   "execution_count": 5,
   "id": "e54145e1-88ca-481f-b741-b38f83e57cdc",
   "metadata": {
    "collapsed": true,
    "jupyter": {
     "outputs_hidden": true
    }
   },
   "outputs": [
    {
     "data": {
      "text/plain": [
       "Index(['id', 'type_emplacement', 'domanialite', 'arrondissement',\n",
       "       'complement_addresse', 'numero', 'lieu', 'id_emplacement',\n",
       "       'libelle_francais', 'genre', 'espece', 'variete', 'circonference_cm',\n",
       "       'hauteur_m', 'stade_developpement', 'remarquable', 'geo_point_2d_a',\n",
       "       'geo_point_2d_b'],\n",
       "      dtype='object')"
      ]
     },
     "execution_count": 5,
     "metadata": {},
     "output_type": "execute_result"
    }
   ],
   "source": [
    "df.columns"
   ]
  },
  {
   "cell_type": "markdown",
   "id": "89256dbe-3f89-4993-84c7-0eb7411cf10c",
   "metadata": {},
   "source": [
    "### Getting extra info and finding nulls"
   ]
  },
  {
   "cell_type": "markdown",
   "id": "6dae169d-6fed-4951-b2bf-6834dd15908c",
   "metadata": {},
   "source": [
    "Let’s print the full summary of the dataframe."
   ]
  },
  {
   "cell_type": "code",
   "execution_count": 14,
   "id": "90085d8a-f7b4-44a2-89c4-c41d8423772e",
   "metadata": {
    "tags": []
   },
   "outputs": [
    {
     "name": "stdout",
     "output_type": "stream",
     "text": [
      "<class 'pandas.core.frame.DataFrame'>\n",
      "RangeIndex: 200137 entries, 0 to 200136\n",
      "Data columns (total 18 columns):\n",
      " #   Column               Non-Null Count   Dtype  \n",
      "---  ------               --------------   -----  \n",
      " 0   id                   200137 non-null  int64  \n",
      " 1   type_emplacement     200137 non-null  object \n",
      " 2   domanialite          200136 non-null  object \n",
      " 3   arrondissement       200137 non-null  object \n",
      " 4   complement_addresse  30902 non-null   object \n",
      " 5   numero               0 non-null       float64\n",
      " 6   lieu                 200137 non-null  object \n",
      " 7   id_emplacement       200137 non-null  object \n",
      " 8   libelle_francais     198640 non-null  object \n",
      " 9   genre                200121 non-null  object \n",
      " 10  espece               198385 non-null  object \n",
      " 11  variete              36777 non-null   object \n",
      " 12  circonference_cm     200137 non-null  int64  \n",
      " 13  hauteur_m            200137 non-null  int64  \n",
      " 14  stade_developpement  132932 non-null  object \n",
      " 15  remarquable          137039 non-null  float64\n",
      " 16  geo_point_2d_a       200137 non-null  float64\n",
      " 17  geo_point_2d_b       200137 non-null  float64\n",
      "dtypes: float64(4), int64(3), object(11)\n",
      "memory usage: 27.5+ MB\n"
     ]
    }
   ],
   "source": [
    "df.info()"
   ]
  },
  {
   "cell_type": "markdown",
   "id": "b9f6efc2-593c-48cc-8c67-85d70ce69d00",
   "metadata": {},
   "source": [
    "### What data types do we have?"
   ]
  },
  {
   "cell_type": "markdown",
   "id": "9052fc8b-4bea-4f99-9611-c51edd4dd253",
   "metadata": {
    "tags": []
   },
   "source": [
    "We find the data types with the `dtypes` attribute:"
   ]
  },
  {
   "cell_type": "code",
   "execution_count": 15,
   "id": "10d2fbc5-818f-4274-8004-2d7aa0a45bf3",
   "metadata": {
    "collapsed": true,
    "jupyter": {
     "outputs_hidden": true
    },
    "tags": []
   },
   "outputs": [
    {
     "data": {
      "text/plain": [
       "id                       int64\n",
       "type_emplacement        object\n",
       "domanialite             object\n",
       "arrondissement          object\n",
       "complement_addresse     object\n",
       "numero                 float64\n",
       "lieu                    object\n",
       "id_emplacement          object\n",
       "libelle_francais        object\n",
       "genre                   object\n",
       "espece                  object\n",
       "variete                 object\n",
       "circonference_cm         int64\n",
       "hauteur_m                int64\n",
       "stade_developpement     object\n",
       "remarquable            float64\n",
       "geo_point_2d_a         float64\n",
       "geo_point_2d_b         float64\n",
       "dtype: object"
      ]
     },
     "execution_count": 15,
     "metadata": {},
     "output_type": "execute_result"
    }
   ],
   "source": [
    "df.dtypes"
   ]
  },
  {
   "cell_type": "markdown",
   "id": "fb1abe68-be99-4e4d-95d0-75efe3d01af4",
   "metadata": {},
   "source": [
    "### What columns do we have?"
   ]
  },
  {
   "cell_type": "code",
   "execution_count": 11,
   "id": "2e86cad5-20a0-420b-9ce6-05ccdb9ec994",
   "metadata": {
    "collapsed": true,
    "jupyter": {
     "outputs_hidden": true
    },
    "tags": []
   },
   "outputs": [
    {
     "data": {
      "text/plain": [
       "Index(['ID', 'TYPE_EMPLACEMENT', 'DOMANIALITE', 'ARRONDISSEMENT',\n",
       "       'COMPLEMENT_ADDRESSE', 'NUMERO', 'LIEU', 'ID_EMPLACEMENT',\n",
       "       'LIBELLE_FRANCAIS', 'GENRE', 'ESPECE', 'VARIETE', 'CIRCONFERENCE_CM',\n",
       "       'HAUTEUR_M', 'STADE_DEVELOPPEMENT', 'REMARQUABLE', 'GEO_POINT_2D_A',\n",
       "       'GEO_POINT_2D_B'],\n",
       "      dtype='object')"
      ]
     },
     "execution_count": 11,
     "metadata": {},
     "output_type": "execute_result"
    }
   ],
   "source": [
    "df.columns"
   ]
  },
  {
   "cell_type": "markdown",
   "id": "c85563fd-e27d-47c3-9ec8-7c8851e9e283",
   "metadata": {},
   "source": [
    "We convert Pandas Column Names to uppercase with Pandas rename()"
   ]
  },
  {
   "cell_type": "code",
   "execution_count": 163,
   "id": "66f1a9d9-1c6c-42b8-a9a4-2869363f6ac1",
   "metadata": {
    "tags": []
   },
   "outputs": [],
   "source": [
    "df= df.rename(columns=str.upper)"
   ]
  },
  {
   "cell_type": "markdown",
   "id": "327c8348-fe2f-4389-94b7-fcb0287e136b",
   "metadata": {},
   "source": [
    "### What does the data look like?\n",
    "View rows from the top with `head()`:"
   ]
  },
  {
   "cell_type": "code",
   "execution_count": 18,
   "id": "c01131a1-738e-4e52-91a2-14a865741a60",
   "metadata": {
    "collapsed": true,
    "jupyter": {
     "outputs_hidden": true
    },
    "tags": []
   },
   "outputs": [
    {
     "data": {
      "text/html": [
       "<div>\n",
       "<style scoped>\n",
       "    .dataframe tbody tr th:only-of-type {\n",
       "        vertical-align: middle;\n",
       "    }\n",
       "\n",
       "    .dataframe tbody tr th {\n",
       "        vertical-align: top;\n",
       "    }\n",
       "\n",
       "    .dataframe thead th {\n",
       "        text-align: right;\n",
       "    }\n",
       "</style>\n",
       "<table border=\"1\" class=\"dataframe\">\n",
       "  <thead>\n",
       "    <tr style=\"text-align: right;\">\n",
       "      <th></th>\n",
       "      <th>ID</th>\n",
       "      <th>TYPE_EMPLACEMENT</th>\n",
       "      <th>DOMANIALITE</th>\n",
       "      <th>ARRONDISSEMENT</th>\n",
       "      <th>COMPLEMENT_ADDRESSE</th>\n",
       "      <th>NUMERO</th>\n",
       "      <th>LIEU</th>\n",
       "      <th>ID_EMPLACEMENT</th>\n",
       "      <th>LIBELLE_FRANCAIS</th>\n",
       "      <th>GENRE</th>\n",
       "      <th>ESPECE</th>\n",
       "      <th>VARIETE</th>\n",
       "      <th>CIRCONFERENCE_CM</th>\n",
       "      <th>HAUTEUR_M</th>\n",
       "      <th>STADE_DEVELOPPEMENT</th>\n",
       "      <th>REMARQUABLE</th>\n",
       "      <th>GEO_POINT_2D_A</th>\n",
       "      <th>GEO_POINT_2D_B</th>\n",
       "    </tr>\n",
       "  </thead>\n",
       "  <tbody>\n",
       "    <tr>\n",
       "      <th>0</th>\n",
       "      <td>99874</td>\n",
       "      <td>Arbre</td>\n",
       "      <td>Jardin</td>\n",
       "      <td>PARIS 7E ARRDT</td>\n",
       "      <td>NaN</td>\n",
       "      <td>NaN</td>\n",
       "      <td>MAIRIE DU 7E 116 RUE DE GRENELLE PARIS 7E</td>\n",
       "      <td>19</td>\n",
       "      <td>Marronnier</td>\n",
       "      <td>Aesculus</td>\n",
       "      <td>hippocastanum</td>\n",
       "      <td>NaN</td>\n",
       "      <td>20</td>\n",
       "      <td>5</td>\n",
       "      <td>NaN</td>\n",
       "      <td>0.0</td>\n",
       "      <td>48.857620</td>\n",
       "      <td>2.320962</td>\n",
       "    </tr>\n",
       "    <tr>\n",
       "      <th>1</th>\n",
       "      <td>99875</td>\n",
       "      <td>Arbre</td>\n",
       "      <td>Jardin</td>\n",
       "      <td>PARIS 7E ARRDT</td>\n",
       "      <td>NaN</td>\n",
       "      <td>NaN</td>\n",
       "      <td>MAIRIE DU 7E 116 RUE DE GRENELLE PARIS 7E</td>\n",
       "      <td>20</td>\n",
       "      <td>If</td>\n",
       "      <td>Taxus</td>\n",
       "      <td>baccata</td>\n",
       "      <td>NaN</td>\n",
       "      <td>65</td>\n",
       "      <td>8</td>\n",
       "      <td>A</td>\n",
       "      <td>NaN</td>\n",
       "      <td>48.857656</td>\n",
       "      <td>2.321031</td>\n",
       "    </tr>\n",
       "  </tbody>\n",
       "</table>\n",
       "</div>"
      ],
      "text/plain": [
       "      ID TYPE_EMPLACEMENT DOMANIALITE  ARRONDISSEMENT COMPLEMENT_ADDRESSE  \\\n",
       "0  99874            Arbre      Jardin  PARIS 7E ARRDT                 NaN   \n",
       "1  99875            Arbre      Jardin  PARIS 7E ARRDT                 NaN   \n",
       "\n",
       "   NUMERO                                       LIEU ID_EMPLACEMENT  \\\n",
       "0     NaN  MAIRIE DU 7E 116 RUE DE GRENELLE PARIS 7E             19   \n",
       "1     NaN  MAIRIE DU 7E 116 RUE DE GRENELLE PARIS 7E             20   \n",
       "\n",
       "  LIBELLE_FRANCAIS     GENRE         ESPECE VARIETE  CIRCONFERENCE_CM  \\\n",
       "0       Marronnier  Aesculus  hippocastanum     NaN                20   \n",
       "1               If     Taxus        baccata     NaN                65   \n",
       "\n",
       "   HAUTEUR_M STADE_DEVELOPPEMENT  REMARQUABLE  GEO_POINT_2D_A  GEO_POINT_2D_B  \n",
       "0          5                 NaN          0.0       48.857620        2.320962  \n",
       "1          8                   A          NaN       48.857656        2.321031  "
      ]
     },
     "execution_count": 18,
     "metadata": {},
     "output_type": "execute_result"
    }
   ],
   "source": [
    "df.head(2)"
   ]
  },
  {
   "cell_type": "markdown",
   "id": "ddef930c-3376-49a4-bb05-f1aff59f3f5b",
   "metadata": {},
   "source": [
    "View rows from the bottom with `tail()`."
   ]
  },
  {
   "cell_type": "code",
   "execution_count": 18,
   "id": "4461628f-2966-49a7-9a3a-29ec8a6b2284",
   "metadata": {
    "collapsed": true,
    "jupyter": {
     "outputs_hidden": true
    },
    "tags": []
   },
   "outputs": [
    {
     "data": {
      "text/html": [
       "<div>\n",
       "<style scoped>\n",
       "    .dataframe tbody tr th:only-of-type {\n",
       "        vertical-align: middle;\n",
       "    }\n",
       "\n",
       "    .dataframe tbody tr th {\n",
       "        vertical-align: top;\n",
       "    }\n",
       "\n",
       "    .dataframe thead th {\n",
       "        text-align: right;\n",
       "    }\n",
       "</style>\n",
       "<table border=\"1\" class=\"dataframe\">\n",
       "  <thead>\n",
       "    <tr style=\"text-align: right;\">\n",
       "      <th></th>\n",
       "      <th>id</th>\n",
       "      <th>type_emplacement</th>\n",
       "      <th>domanialite</th>\n",
       "      <th>arrondissement</th>\n",
       "      <th>complement_addresse</th>\n",
       "      <th>numero</th>\n",
       "      <th>lieu</th>\n",
       "      <th>id_emplacement</th>\n",
       "      <th>libelle_francais</th>\n",
       "      <th>genre</th>\n",
       "      <th>espece</th>\n",
       "      <th>variete</th>\n",
       "      <th>circonference_cm</th>\n",
       "      <th>hauteur_m</th>\n",
       "      <th>stade_developpement</th>\n",
       "      <th>remarquable</th>\n",
       "      <th>geo_point_2d_a</th>\n",
       "      <th>geo_point_2d_b</th>\n",
       "    </tr>\n",
       "  </thead>\n",
       "  <tbody>\n",
       "    <tr>\n",
       "      <th>200135</th>\n",
       "      <td>2024744</td>\n",
       "      <td>Arbre</td>\n",
       "      <td>Jardin</td>\n",
       "      <td>BOIS DE VINCENNES</td>\n",
       "      <td>NaN</td>\n",
       "      <td>NaN</td>\n",
       "      <td>ARBORETUM DE L ECOLE DU BREUIL - ROUTE DE LA F...</td>\n",
       "      <td>720170154</td>\n",
       "      <td>Chêne</td>\n",
       "      <td>Quercus</td>\n",
       "      <td>n. sp.</td>\n",
       "      <td>NaN</td>\n",
       "      <td>0</td>\n",
       "      <td>0</td>\n",
       "      <td>NaN</td>\n",
       "      <td>0.0</td>\n",
       "      <td>48.822522</td>\n",
       "      <td>2.455956</td>\n",
       "    </tr>\n",
       "    <tr>\n",
       "      <th>200136</th>\n",
       "      <td>2024745</td>\n",
       "      <td>Arbre</td>\n",
       "      <td>Jardin</td>\n",
       "      <td>BOIS DE VINCENNES</td>\n",
       "      <td>NaN</td>\n",
       "      <td>NaN</td>\n",
       "      <td>ARBORETUM DE L ECOLE DU BREUIL - ROUTE DE LA F...</td>\n",
       "      <td>720170155</td>\n",
       "      <td>Raisinier</td>\n",
       "      <td>Hovenia</td>\n",
       "      <td>dulcis</td>\n",
       "      <td>NaN</td>\n",
       "      <td>0</td>\n",
       "      <td>0</td>\n",
       "      <td>NaN</td>\n",
       "      <td>0.0</td>\n",
       "      <td>48.820445</td>\n",
       "      <td>2.454856</td>\n",
       "    </tr>\n",
       "  </tbody>\n",
       "</table>\n",
       "</div>"
      ],
      "text/plain": [
       "             id type_emplacement domanialite     arrondissement  \\\n",
       "200135  2024744            Arbre      Jardin  BOIS DE VINCENNES   \n",
       "200136  2024745            Arbre      Jardin  BOIS DE VINCENNES   \n",
       "\n",
       "       complement_addresse  numero  \\\n",
       "200135                 NaN     NaN   \n",
       "200136                 NaN     NaN   \n",
       "\n",
       "                                                     lieu id_emplacement  \\\n",
       "200135  ARBORETUM DE L ECOLE DU BREUIL - ROUTE DE LA F...      720170154   \n",
       "200136  ARBORETUM DE L ECOLE DU BREUIL - ROUTE DE LA F...      720170155   \n",
       "\n",
       "       libelle_francais    genre  espece variete  circonference_cm  hauteur_m  \\\n",
       "200135            Chêne  Quercus  n. sp.     NaN                 0          0   \n",
       "200136        Raisinier  Hovenia  dulcis     NaN                 0          0   \n",
       "\n",
       "       stade_developpement  remarquable  geo_point_2d_a  geo_point_2d_b  \n",
       "200135                 NaN          0.0       48.822522        2.455956  \n",
       "200136                 NaN          0.0       48.820445        2.454856  "
      ]
     },
     "execution_count": 18,
     "metadata": {},
     "output_type": "execute_result"
    }
   ],
   "source": [
    "df.tail(2)"
   ]
  },
  {
   "cell_type": "markdown",
   "id": "ca8261b6-fe48-4ba0-a148-dd482b5cecf3",
   "metadata": {},
   "source": [
    "## Columns That are empty"
   ]
  },
  {
   "cell_type": "code",
   "execution_count": 54,
   "id": "dc1b6f66-1435-4cb2-8e18-9cb22eb8d05e",
   "metadata": {
    "collapsed": true,
    "jupyter": {
     "outputs_hidden": true
    },
    "tags": []
   },
   "outputs": [
    {
     "data": {
      "text/plain": [
       "ID                          0\n",
       "DOMANIALITE                 1\n",
       "ARRONDISSEMENT              0\n",
       "COMPLEMENT_ADDRESSE    169235\n",
       "NUMERO                 200137\n",
       "LIEU                        0\n",
       "ID_EMPLACEMENT              0\n",
       "LIBELLE_FRANCAIS         1497\n",
       "GENRE                      16\n",
       "ESPECE                   1752\n",
       "VARIETE                163360\n",
       "CIRCONFERENCE_CM            0\n",
       "HAUTEUR_M                   0\n",
       "STADE_DEVELOPPEMENT     67205\n",
       "REMARQUABLE             63098\n",
       "GEO_POINT_2D_A              0\n",
       "GEO_POINT_2D_B              0\n",
       "dtype: int64"
      ]
     },
     "execution_count": 54,
     "metadata": {},
     "output_type": "execute_result"
    }
   ],
   "source": [
    "df.isnull().sum()"
   ]
  },
  {
   "cell_type": "markdown",
   "id": "6f748da8-2306-4ea5-97d0-ec3bd6f40db2",
   "metadata": {},
   "source": [
    "We have a column `numero` empty"
   ]
  },
  {
   "cell_type": "code",
   "execution_count": 56,
   "id": "3ce068b0-5cf9-40ff-a8eb-ecbee7dd5662",
   "metadata": {
    "tags": []
   },
   "outputs": [
    {
     "data": {
      "text/plain": [
       "True"
      ]
     },
     "execution_count": 56,
     "metadata": {},
     "output_type": "execute_result"
    }
   ],
   "source": [
    "df.NUMERO.isnull().values.all()"
   ]
  },
  {
   "cell_type": "markdown",
   "id": "4b0962bd-e175-431a-a75a-a27c2b45d18e",
   "metadata": {},
   "source": [
    "drop empty column"
   ]
  },
  {
   "cell_type": "code",
   "execution_count": 164,
   "id": "b503e5d4-ccf1-404f-957f-55ed1d0b8bfb",
   "metadata": {
    "tags": []
   },
   "outputs": [],
   "source": [
    "df.drop('numero'.upper(), axis=1, inplace=True)\n"
   ]
  },
  {
   "cell_type": "code",
   "execution_count": 61,
   "id": "9b958d01-de5e-411d-bef0-ce0d574bcaaf",
   "metadata": {
    "collapsed": true,
    "jupyter": {
     "outputs_hidden": true
    }
   },
   "outputs": [
    {
     "data": {
      "text/plain": [
       "(200137, 16)"
      ]
     },
     "execution_count": 61,
     "metadata": {},
     "output_type": "execute_result"
    }
   ],
   "source": [
    "df.shape"
   ]
  },
  {
   "cell_type": "markdown",
   "id": "8570b608-200a-40d6-825d-9e960b3ce374",
   "metadata": {},
   "source": [
    "## Columns That Contain a Single Value"
   ]
  },
  {
   "cell_type": "markdown",
   "id": "56b15068-94f3-43a7-9e29-f9665b5892f6",
   "metadata": {},
   "source": [
    "Identify Columns That Contain a Single Value"
   ]
  },
  {
   "cell_type": "code",
   "execution_count": 96,
   "id": "7034c6e5-8d15-4fa2-820f-3b2b07c75354",
   "metadata": {
    "tags": []
   },
   "outputs": [
    {
     "data": {
      "text/plain": [
       "ID                     200137\n",
       "TYPE_EMPLACEMENT            1\n",
       "DOMANIALITE                 9\n",
       "ARRONDISSEMENT             25\n",
       "COMPLEMENT_ADDRESSE      3795\n",
       "NUMERO                      0\n",
       "LIEU                     6921\n",
       "ID_EMPLACEMENT          69040\n",
       "LIBELLE_FRANCAIS          192\n",
       "GENRE                     175\n",
       "ESPECE                    539\n",
       "VARIETE                   436\n",
       "CIRCONFERENCE_CM          531\n",
       "HAUTEUR_M                 143\n",
       "STADE_DEVELOPPEMENT         4\n",
       "REMARQUABLE                 2\n",
       "GEO_POINT_2D_A         200107\n",
       "GEO_POINT_2D_B         200114\n",
       "dtype: int64"
      ]
     },
     "execution_count": 96,
     "metadata": {},
     "output_type": "execute_result"
    }
   ],
   "source": [
    "df.nunique()"
   ]
  },
  {
   "cell_type": "code",
   "execution_count": 100,
   "id": "2f8aeaff-fb75-4c75-a317-a2b5a27a7217",
   "metadata": {
    "tags": []
   },
   "outputs": [
    {
     "name": "stdout",
     "output_type": "stream",
     "text": [
      "TYPE_EMPLACEMENT\n"
     ]
    }
   ],
   "source": [
    "# get number of unique values for each column \n",
    "counts = df.nunique()\n",
    "# record columns to delete\n",
    "to_del = [i for i,v in enumerate(counts) if v == 1]\n",
    "for column in to_del:\n",
    "    print(df.columns[column])"
   ]
  },
  {
   "cell_type": "code",
   "execution_count": 52,
   "id": "5abefc53-8709-456e-984c-da19007c11f4",
   "metadata": {
    "collapsed": true,
    "jupyter": {
     "outputs_hidden": true
    }
   },
   "outputs": [],
   "source": [
    "# drop useless columns\n",
    "df.drop(df.columns[to_del], axis=1, inplace=True)"
   ]
  },
  {
   "cell_type": "code",
   "execution_count": 53,
   "id": "516ce8d1-948f-4fd6-8910-94bddd24a09e",
   "metadata": {
    "collapsed": true,
    "jupyter": {
     "outputs_hidden": true
    }
   },
   "outputs": [
    {
     "data": {
      "text/plain": [
       "(200137, 17)"
      ]
     },
     "execution_count": 53,
     "metadata": {},
     "output_type": "execute_result"
    }
   ],
   "source": [
    "df.shape"
   ]
  },
  {
   "cell_type": "markdown",
   "id": "79a543fd-35f9-46eb-98a5-9f144bf70d0e",
   "metadata": {},
   "source": [
    "## Columns That Have Very Few Values"
   ]
  },
  {
   "cell_type": "code",
   "execution_count": 75,
   "id": "8c89c37c-37a7-4d06-b59c-e4aabc203e15",
   "metadata": {
    "tags": []
   },
   "outputs": [
    {
     "name": "stdout",
     "output_type": "stream",
     "text": [
      "DOMANIALITE, 9, 0.0%\n",
      "ARRONDISSEMENT, 25, 0.0%\n",
      "LIBELLE_FRANCAIS, 192, 0.1%\n",
      "GENRE, 175, 0.1%\n",
      "ESPECE, 539, 0.3%\n",
      "VARIETE, 436, 0.2%\n",
      "CIRCONFERENCE_CM, 531, 0.3%\n",
      "HAUTEUR_M, 143, 0.1%\n",
      "STADE_DEVELOPPEMENT, 4, 0.0%\n",
      "REMARQUABLE, 2, 0.0%\n"
     ]
    }
   ],
   "source": [
    "# summarize the number of unique values in each column \n",
    "for column in  df.columns:\n",
    "    num = df[column].nunique()\n",
    "    percentage = float(num) / df.shape[0] * 100 \n",
    "    if percentage < 1:\n",
    "        print('%s, %d, %.1f%%' % (column, num, percentage))"
   ]
  },
  {
   "cell_type": "code",
   "execution_count": 82,
   "id": "1fdc1daf-dbf6-4d9e-9f14-b1b45b361c84",
   "metadata": {
    "tags": []
   },
   "outputs": [
    {
     "data": {
      "text/plain": [
       "0.0    136855\n",
       "1.0       184\n",
       "Name: REMARQUABLE, dtype: int64"
      ]
     },
     "execution_count": 82,
     "metadata": {},
     "output_type": "execute_result"
    }
   ],
   "source": [
    "df.REMARQUABLE.value_counts()"
   ]
  },
  {
   "cell_type": "markdown",
   "id": "32fbcd20-bb60-44ab-a58b-16c182c39c75",
   "metadata": {},
   "source": [
    "column REMARQUABLE has very few unique values and have a small variance."
   ]
  },
  {
   "cell_type": "code",
   "execution_count": 80,
   "id": "c4b74278-b4d2-4595-80a6-ca5a4110fd21",
   "metadata": {
    "tags": []
   },
   "outputs": [
    {
     "name": "stdout",
     "output_type": "stream",
     "text": [
      "0.0013408904555056327\n"
     ]
    }
   ],
   "source": [
    "df.REMARQUABLE.var()\n"
   ]
  },
  {
   "cell_type": "code",
   "execution_count": 105,
   "id": "c0aa9fa5-6c47-48d0-a037-f954fab46f6f",
   "metadata": {},
   "outputs": [
    {
     "name": "stdout",
     "output_type": "stream",
     "text": [
      "REMARQUABLE, 63098, 31.5%\n"
     ]
    }
   ],
   "source": [
    "null_value = df.REMARQUABLE.isnull().sum()\n",
    "percentage = float(null_value) / df.shape[0] * 100 \n",
    "print('%s, %d, %.1f%%' % (df.REMARQUABLE.name, null_value, percentage))"
   ]
  },
  {
   "cell_type": "code",
   "execution_count": 115,
   "id": "db43b25e-4d89-44d8-8077-d83953ecf5fb",
   "metadata": {},
   "outputs": [],
   "source": [
    "# drop useless columns\n",
    "df.drop('REMARQUABLE', axis=1, inplace=True)\n"
   ]
  },
  {
   "cell_type": "markdown",
   "id": "621c2317-5904-4afb-ac46-881dfec67406",
   "metadata": {},
   "source": [
    "## Rows That Contain Duplicate Data"
   ]
  },
  {
   "cell_type": "code",
   "execution_count": 119,
   "id": "ac178d35-2d8d-4b9a-9d54-eea9d6572858",
   "metadata": {},
   "outputs": [
    {
     "name": "stdout",
     "output_type": "stream",
     "text": [
      "False\n"
     ]
    }
   ],
   "source": [
    "# calculate duplicates\n",
    "dups = df.duplicated()\n",
    "# report if there are any duplicates \n",
    "print(dups.any())"
   ]
  },
  {
   "cell_type": "markdown",
   "id": "3792a60b-88b2-401d-a19d-6499da2874d1",
   "metadata": {},
   "source": [
    "We have values that do not correspond to arrondissement"
   ]
  },
  {
   "cell_type": "code",
   "execution_count": 35,
   "id": "8ec76979-eb38-40c5-b587-6e1b5e7d47ba",
   "metadata": {
    "collapsed": true,
    "jupyter": {
     "outputs_hidden": true
    },
    "tags": []
   },
   "outputs": [
    {
     "name": "stdout",
     "output_type": "stream",
     "text": [
      "BOIS DE BOULOGNE\n",
      "BOIS DE VINCENNES\n",
      "HAUTS-DE-SEINE\n",
      "PARIS 10E ARRDT\n",
      "PARIS 11E ARRDT\n",
      "PARIS 12E ARRDT\n",
      "PARIS 13E ARRDT\n",
      "PARIS 14E ARRDT\n",
      "PARIS 15E ARRDT\n",
      "PARIS 16E ARRDT\n",
      "PARIS 17E ARRDT\n",
      "PARIS 18E ARRDT\n",
      "PARIS 19E ARRDT\n",
      "PARIS 1ER ARRDT\n",
      "PARIS 20E ARRDT\n",
      "PARIS 2E ARRDT\n",
      "PARIS 3E ARRDT\n",
      "PARIS 4E ARRDT\n",
      "PARIS 5E ARRDT\n",
      "PARIS 6E ARRDT\n",
      "PARIS 7E ARRDT\n",
      "PARIS 8E ARRDT\n",
      "PARIS 9E ARRDT\n",
      "SEINE-SAINT-DENIS\n",
      "VAL-DE-MARNE\n"
     ]
    }
   ],
   "source": [
    "arr_list = df['arrondissement'.upper()].unique()\n",
    "arr_list.sort()\n",
    "for arr in arr_list:\n",
    "    print(arr)"
   ]
  },
  {
   "cell_type": "markdown",
   "id": "2ba59538-0fcf-49ed-b535-5f4f6f7a2b0b",
   "metadata": {},
   "source": [
    "Get the count of NULLs/NaN values in each column."
   ]
  },
  {
   "cell_type": "markdown",
   "id": "2bcc087b-9226-4a06-8981-b6de9b0b6641",
   "metadata": {
    "tags": []
   },
   "source": [
    "## Mark Missing Values"
   ]
  },
  {
   "cell_type": "code",
   "execution_count": 165,
   "id": "089613a3-4a81-42be-bc58-d6c3300dda37",
   "metadata": {
    "tags": []
   },
   "outputs": [
    {
     "name": "stdout",
     "output_type": "stream",
     "text": [
      "HAUTEUR_M           39219\n",
      "CIRCONFERENCE_CM    25867\n",
      "dtype: int64\n"
     ]
    }
   ],
   "source": [
    "# count the number of missing values for each column\n",
    "num_missing = (df[['HAUTEUR_M', 'CIRCONFERENCE_CM']] == 0).sum()\n",
    "# report the results\n",
    "print(num_missing)"
   ]
  },
  {
   "cell_type": "markdown",
   "id": "f232f8ae-2ff9-48d2-98dc-670c0fec41af",
   "metadata": {},
   "source": [
    "marking missing values with nan values"
   ]
  },
  {
   "cell_type": "code",
   "execution_count": 149,
   "id": "e460de96-df1e-4bfe-85c4-05320c28f55f",
   "metadata": {
    "tags": []
   },
   "outputs": [],
   "source": [
    "# replace '0' values with 'nan'\n",
    "df[['HAUTEUR_M','CIRCONFERENCE_CM']] = df[['HAUTEUR_M','CIRCONFERENCE_CM']].replace(0, np.nan)"
   ]
  },
  {
   "cell_type": "markdown",
   "id": "c8ba0061-f57a-466c-80be-5b6afe53a347",
   "metadata": {},
   "source": [
    "count the number of nan values in each column "
   ]
  },
  {
   "cell_type": "markdown",
   "id": "321888e5-222d-46fb-9e46-7ebff6a4fc88",
   "metadata": {},
   "source": [
    "summarize the number of rows with missing values for each column"
   ]
  },
  {
   "cell_type": "code",
   "execution_count": 150,
   "id": "6f697589-5261-41bb-8049-dada88064441",
   "metadata": {
    "tags": []
   },
   "outputs": [
    {
     "data": {
      "text/plain": [
       "HAUTEUR_M           39219\n",
       "CIRCONFERENCE_CM    25867\n",
       "dtype: int64"
      ]
     },
     "execution_count": 150,
     "metadata": {},
     "output_type": "execute_result"
    }
   ],
   "source": [
    "df[['HAUTEUR_M', 'CIRCONFERENCE_CM']].isnull().sum()"
   ]
  },
  {
   "cell_type": "code",
   "execution_count": 151,
   "id": "96f0563f-abd9-4343-bfdc-058d2b1dfa88",
   "metadata": {
    "tags": []
   },
   "outputs": [
    {
     "name": "stdout",
     "output_type": "stream",
     "text": [
      "> HAUTEUR_M, Missing: 39219 (19.6%)\n",
      "> CIRCONFERENCE_CM, Missing: 25867 (12.9%)\n"
     ]
    }
   ],
   "source": [
    "for column in ['HAUTEUR_M', 'CIRCONFERENCE_CM']:\n",
    "    n_miss = df[[column]].isnull().sum()\n",
    "    perc = n_miss / df.shape[0] * 100\n",
    "    print('> %s, Missing: %d (%.1f%%)' % (column, n_miss, perc))"
   ]
  },
  {
   "cell_type": "markdown",
   "id": "88dab2fe-5d99-4316-829e-b17fa4fd11d3",
   "metadata": {},
   "source": [
    "## Outlier Identification and Replace with mean"
   ]
  },
  {
   "cell_type": "code",
   "execution_count": 154,
   "id": "bfc57121-db20-4d85-ad13-c5278fcc1d45",
   "metadata": {
    "tags": []
   },
   "outputs": [
    {
     "data": {
      "text/plain": [
       "796"
      ]
     },
     "execution_count": 154,
     "metadata": {},
     "output_type": "execute_result"
    }
   ],
   "source": [
    "df[df.HAUTEUR_M >= 30].shape[0]"
   ]
  },
  {
   "cell_type": "markdown",
   "id": "c3b47a94-02ed-4d6c-b64b-55cdcb4faabc",
   "metadata": {},
   "source": [
    "#### Get outliers with Standard Deviation Method"
   ]
  },
  {
   "cell_type": "code",
   "execution_count": 170,
   "id": "6334f165-9ee6-4f54-bbf2-4fb08d760b23",
   "metadata": {
    "tags": []
   },
   "outputs": [],
   "source": [
    "# calculate summary statistics\n",
    "data_mean, data_std = np.mean(df.HAUTEUR_M), np.std(df.HAUTEUR_M)\n",
    "# define outliers\n",
    "cut_off = data_std * 1\n",
    "lower, upper = data_mean - cut_off, data_mean + cut_off"
   ]
  },
  {
   "cell_type": "code",
   "execution_count": 171,
   "id": "bfebd3c8-6454-4c44-aea7-b373f26fbbc5",
   "metadata": {
    "tags": []
   },
   "outputs": [
    {
     "name": "stdout",
     "output_type": "stream",
     "text": [
      "13.110509301128728 1971.2124619162362 -1958.1019526151074 1984.322971217365\n"
     ]
    }
   ],
   "source": [
    "print(data_mean, data_std, lower, upper)"
   ]
  },
  {
   "cell_type": "code",
   "execution_count": 172,
   "id": "3e64d36e-6dd2-4b03-8531-9f80ef8c20fa",
   "metadata": {
    "tags": []
   },
   "outputs": [],
   "source": [
    "# identify outliers\n",
    "outliers = [x for x in df.HAUTEUR_M if x < lower or x > upper]"
   ]
  },
  {
   "cell_type": "code",
   "execution_count": 169,
   "id": "fb79e54e-edc4-4783-98a3-223ca6dbe24d",
   "metadata": {
    "tags": []
   },
   "outputs": [
    {
     "data": {
      "text/plain": [
       "1"
      ]
     },
     "execution_count": 169,
     "metadata": {},
     "output_type": "execute_result"
    }
   ],
   "source": [
    "len(outliers)"
   ]
  },
  {
   "cell_type": "markdown",
   "id": "dda897af-ce5c-4164-80d7-d1a880fa5809",
   "metadata": {},
   "source": [
    "#### Get outliers with Interquartile Range Method"
   ]
  },
  {
   "cell_type": "code",
   "execution_count": 173,
   "id": "e16b4bc5-a576-4665-ab4c-1ba82426cc77",
   "metadata": {
    "tags": []
   },
   "outputs": [],
   "source": [
    "from numpy import percentile\n",
    "# calculate interquartile range\n",
    "data = df.HAUTEUR_M[df.HAUTEUR_M.notnull()]\n",
    "q25, q75 = percentile(data, 25), percentile(data, 75)\n",
    "iqr = q75 - q25"
   ]
  },
  {
   "cell_type": "code",
   "execution_count": 174,
   "id": "e0f4fc8e-ec82-4c43-85b9-3ccefdefa971",
   "metadata": {
    "tags": []
   },
   "outputs": [
    {
     "name": "stdout",
     "output_type": "stream",
     "text": [
      "Percentiles: 25th=5.000, 75th=12.000, IQR=7.000\n"
     ]
    }
   ],
   "source": [
    "print('Percentiles: 25th=%.3f, 75th=%.3f, IQR=%.3f' % (q25, q75, iqr))"
   ]
  },
  {
   "cell_type": "code",
   "execution_count": 175,
   "id": "02459d60-4e3b-4cb3-b1cd-0d43b510c91e",
   "metadata": {
    "tags": []
   },
   "outputs": [
    {
     "name": "stdout",
     "output_type": "stream",
     "text": [
      "Identified outliers: 4\n",
      "Non-outlier observations: 200133\n"
     ]
    }
   ],
   "source": [
    "# identify outliers\n",
    "outliers = [x for x in data if x < lower or x > upper] \n",
    "print('Identified outliers: %d' % len(outliers))\n",
    "\n",
    "# remove outliers\n",
    "outliers_removed = [x for x in data if x >= lower and x <= upper] \n",
    "print('Non-outlier observations: %d' % len(outliers_removed))"
   ]
  },
  {
   "cell_type": "code",
   "execution_count": 176,
   "id": "cc903d99-0658-45d7-9a61-352f4678c9b5",
   "metadata": {
    "tags": []
   },
   "outputs": [
    {
     "data": {
      "image/png": "[encoded data removed]",
      "text/plain": [
       "<Figure size 640x480 with 1 Axes>"
      ]
     },
     "metadata": {},
     "output_type": "display_data"
    }
   ],
   "source": [
    "plt.plot(outliers)\n",
    "plt.show()"
   ]
  },
  {
   "cell_type": "code",
   "execution_count": 177,
   "id": "56ab4021-c832-4570-8749-0e1ae5d35c79",
   "metadata": {
    "tags": []
   },
   "outputs": [],
   "source": [
    "from numpy import percentile\n",
    "# calculate interquartile range\n",
    "data = df.CIRCONFERENCE_CM[df.CIRCONFERENCE_CM.notnull()]\n",
    "q25, q75 = percentile(data, 25), percentile(data, 75)\n",
    "iqr = q75 - q25"
   ]
  },
  {
   "cell_type": "code",
   "execution_count": 115,
   "id": "eb9a5f01-8eb2-4c9f-9f29-264ae1540e02",
   "metadata": {
    "collapsed": true,
    "jupyter": {
     "outputs_hidden": true
    },
    "tags": []
   },
   "outputs": [
    {
     "name": "stdout",
     "output_type": "stream",
     "text": [
      "Percentiles: 25th=45.000, 75th=123.000, IQR=78.000\n"
     ]
    }
   ],
   "source": [
    "print('Percentiles: 25th=%.3f, 75th=%.3f, IQR=%.3f' % (q25, q75, iqr))"
   ]
  },
  {
   "cell_type": "code",
   "execution_count": 116,
   "id": "7f2db08a-3091-41a9-8577-84d323b4e6fe",
   "metadata": {
    "collapsed": true,
    "jupyter": {
     "outputs_hidden": true
    },
    "tags": []
   },
   "outputs": [
    {
     "name": "stdout",
     "output_type": "stream",
     "text": [
      "Identified outliers: 155008\n",
      "Non-outlier observations: 19262\n"
     ]
    }
   ],
   "source": [
    "# identify outliers\n",
    "outliers = [x for x in data if x < lower or x > upper] \n",
    "print('Identified outliers: %d' % len(outliers))\n",
    "\n",
    "# remove outliers\n",
    "outliers_removed = [x for x in data if x >= lower and x <= upper] \n",
    "print('Non-outlier observations: %d' % len(outliers_removed))"
   ]
  },
  {
   "cell_type": "code",
   "execution_count": 117,
   "id": "a78166e2-2da8-4ab8-89f8-115e4c412eb8",
   "metadata": {
    "collapsed": true,
    "jupyter": {
     "outputs_hidden": true
    },
    "tags": []
   },
   "outputs": [
    {
     "data": {
      "image/png": "[encoded data removed]",
      "text/plain": [
       "<Figure size 640x480 with 1 Axes>"
      ]
     },
     "metadata": {},
     "output_type": "display_data"
    }
   ],
   "source": [
    "plt.plot(outliers)\n",
    "plt.show()"
   ]
  },
  {
   "cell_type": "code",
   "execution_count": 87,
   "id": "dd48f86d-7c27-4eec-ace6-6ccf86b95c9a",
   "metadata": {
    "collapsed": true,
    "jupyter": {
     "outputs_hidden": true
    },
    "tags": []
   },
   "outputs": [
    {
     "data": {
      "text/plain": [
       "Series([], Name: HAUTEUR_M, dtype: float64)"
      ]
     },
     "execution_count": 87,
     "metadata": {},
     "output_type": "execute_result"
    }
   ],
   "source": [
    "df.HAUTEUR_M.loc[(df.HAUTEUR_M <= 50) & (df.HAUTEUR_M >= 1000)]"
   ]
  },
  {
   "cell_type": "code",
   "execution_count": 33,
   "id": "6b7b6edc-3908-42d7-aacf-66c9cf6ee162",
   "metadata": {
    "collapsed": true,
    "jupyter": {
     "outputs_hidden": true
    }
   },
   "outputs": [
    {
     "data": {
      "text/plain": [
       "genre\n",
       "Abelia               5.500000\n",
       "Abies                4.950000\n",
       "Acacia               3.333333\n",
       "Acca                 1.000000\n",
       "Acer                 7.049754\n",
       "                       ...   \n",
       "Zelkova              5.335260\n",
       "Ziziphus             0.000000\n",
       "x Chitalpa           3.235294\n",
       "x Cupressocyparis    5.957353\n",
       "x Sorbopyrus         0.000000\n",
       "Name: hauteur_m, Length: 175, dtype: float64"
      ]
     },
     "execution_count": 33,
     "metadata": {},
     "output_type": "execute_result"
    }
   ],
   "source": [
    "# Calculating mean on groupby\n",
    "result = df.groupby('genre')['hauteur_m'].mean()\n",
    "result"
   ]
  },
  {
   "cell_type": "code",
   "execution_count": 35,
   "id": "61bea889-8f80-4f4f-9179-4b49ff40ea2c",
   "metadata": {
    "collapsed": true,
    "jupyter": {
     "outputs_hidden": true
    }
   },
   "outputs": [
    {
     "data": {
      "text/plain": [
       "5.75"
      ]
     },
     "execution_count": 35,
     "metadata": {},
     "output_type": "execute_result"
    }
   ],
   "source": [
    "df[(df.genre == 'Abelia')].hauteur_m.quantile(0.75)"
   ]
  },
  {
   "cell_type": "code",
   "execution_count": 37,
   "id": "f1e983dd-9b03-4333-afbf-2012f2b5f5f3",
   "metadata": {
    "collapsed": true,
    "jupyter": {
     "outputs_hidden": true
    }
   },
   "outputs": [
    {
     "data": {
      "text/html": [
       "<div>\n",
       "<style scoped>\n",
       "    .dataframe tbody tr th:only-of-type {\n",
       "        vertical-align: middle;\n",
       "    }\n",
       "\n",
       "    .dataframe tbody tr th {\n",
       "        vertical-align: top;\n",
       "    }\n",
       "\n",
       "    .dataframe thead th {\n",
       "        text-align: right;\n",
       "    }\n",
       "</style>\n",
       "<table border=\"1\" class=\"dataframe\">\n",
       "  <thead>\n",
       "    <tr style=\"text-align: right;\">\n",
       "      <th></th>\n",
       "      <th>id</th>\n",
       "      <th>type_emplacement</th>\n",
       "      <th>domanialite</th>\n",
       "      <th>arrondissement</th>\n",
       "      <th>complement_addresse</th>\n",
       "      <th>numero</th>\n",
       "      <th>lieu</th>\n",
       "      <th>id_emplacement</th>\n",
       "      <th>libelle_francais</th>\n",
       "      <th>genre</th>\n",
       "      <th>espece</th>\n",
       "      <th>variete</th>\n",
       "      <th>circonference_cm</th>\n",
       "      <th>hauteur_m</th>\n",
       "      <th>stade_developpement</th>\n",
       "      <th>remarquable</th>\n",
       "      <th>geo_point_2d_a</th>\n",
       "      <th>geo_point_2d_b</th>\n",
       "    </tr>\n",
       "  </thead>\n",
       "  <tbody>\n",
       "    <tr>\n",
       "      <th>5266</th>\n",
       "      <td>106664</td>\n",
       "      <td>Arbre</td>\n",
       "      <td>Jardin</td>\n",
       "      <td>PARIS 7E ARRDT</td>\n",
       "      <td>NaN</td>\n",
       "      <td>NaN</td>\n",
       "      <td>JARDIN DU CHAMP DE MARS</td>\n",
       "      <td>P0090520</td>\n",
       "      <td>Abelia</td>\n",
       "      <td>Abelia</td>\n",
       "      <td>triflora</td>\n",
       "      <td>NaN</td>\n",
       "      <td>75</td>\n",
       "      <td>6</td>\n",
       "      <td>A</td>\n",
       "      <td>0.0</td>\n",
       "      <td>48.855167</td>\n",
       "      <td>2.300482</td>\n",
       "    </tr>\n",
       "    <tr>\n",
       "      <th>68353</th>\n",
       "      <td>186189</td>\n",
       "      <td>Arbre</td>\n",
       "      <td>DFPE</td>\n",
       "      <td>PARIS 3E ARRDT</td>\n",
       "      <td>NaN</td>\n",
       "      <td>NaN</td>\n",
       "      <td>HALTE GARDERIE / 22 BIS RUE DES FRANCS BOURGEOIS</td>\n",
       "      <td>247801002</td>\n",
       "      <td>Abelia</td>\n",
       "      <td>Abelia</td>\n",
       "      <td>n. sp.</td>\n",
       "      <td>NaN</td>\n",
       "      <td>20</td>\n",
       "      <td>5</td>\n",
       "      <td>NaN</td>\n",
       "      <td>0.0</td>\n",
       "      <td>48.857720</td>\n",
       "      <td>2.361163</td>\n",
       "    </tr>\n",
       "  </tbody>\n",
       "</table>\n",
       "</div>"
      ],
      "text/plain": [
       "           id type_emplacement domanialite  arrondissement  \\\n",
       "5266   106664            Arbre      Jardin  PARIS 7E ARRDT   \n",
       "68353  186189            Arbre        DFPE  PARIS 3E ARRDT   \n",
       "\n",
       "      complement_addresse  numero  \\\n",
       "5266                  NaN     NaN   \n",
       "68353                 NaN     NaN   \n",
       "\n",
       "                                                   lieu id_emplacement  \\\n",
       "5266                            JARDIN DU CHAMP DE MARS       P0090520   \n",
       "68353  HALTE GARDERIE / 22 BIS RUE DES FRANCS BOURGEOIS      247801002   \n",
       "\n",
       "      libelle_francais   genre    espece variete  circonference_cm  hauteur_m  \\\n",
       "5266            Abelia  Abelia  triflora     NaN                75          6   \n",
       "68353           Abelia  Abelia    n. sp.     NaN                20          5   \n",
       "\n",
       "      stade_developpement  remarquable  geo_point_2d_a  geo_point_2d_b  \n",
       "5266                    A          0.0       48.855167        2.300482  \n",
       "68353                 NaN          0.0       48.857720        2.361163  "
      ]
     },
     "execution_count": 37,
     "metadata": {},
     "output_type": "execute_result"
    }
   ],
   "source": [
    "df[(df.genre == 'Abelia')]"
   ]
  },
  {
   "cell_type": "code",
   "execution_count": null,
   "id": "3c23754a-51e8-42b4-8817-25517d27d09d",
   "metadata": {
    "collapsed": true,
    "jupyter": {
     "outputs_hidden": true
    }
   },
   "outputs": [],
   "source": []
  },
  {
   "cell_type": "code",
   "execution_count": 29,
   "id": "acf5b552-35f3-47cf-873f-b69c134cee65",
   "metadata": {
    "collapsed": true,
    "jupyter": {
     "outputs_hidden": true
    },
    "tags": []
   },
   "outputs": [
    {
     "data": {
      "text/html": [
       "<div>\n",
       "<style scoped>\n",
       "    .dataframe tbody tr th:only-of-type {\n",
       "        vertical-align: middle;\n",
       "    }\n",
       "\n",
       "    .dataframe tbody tr th {\n",
       "        vertical-align: top;\n",
       "    }\n",
       "\n",
       "    .dataframe thead th {\n",
       "        text-align: right;\n",
       "    }\n",
       "</style>\n",
       "<table border=\"1\" class=\"dataframe\">\n",
       "  <thead>\n",
       "    <tr style=\"text-align: right;\">\n",
       "      <th></th>\n",
       "      <th>id</th>\n",
       "      <th>type_emplacement</th>\n",
       "      <th>domanialite</th>\n",
       "      <th>arrondissement</th>\n",
       "      <th>complement_addresse</th>\n",
       "      <th>numero</th>\n",
       "      <th>lieu</th>\n",
       "      <th>id_emplacement</th>\n",
       "      <th>libelle_francais</th>\n",
       "      <th>genre</th>\n",
       "      <th>espece</th>\n",
       "      <th>variete</th>\n",
       "      <th>circonference_cm</th>\n",
       "      <th>hauteur_m</th>\n",
       "      <th>stade_developpement</th>\n",
       "      <th>remarquable</th>\n",
       "      <th>geo_point_2d_a</th>\n",
       "      <th>geo_point_2d_b</th>\n",
       "    </tr>\n",
       "  </thead>\n",
       "  <tbody>\n",
       "    <tr>\n",
       "      <th>4</th>\n",
       "      <td>99878</td>\n",
       "      <td>Arbre</td>\n",
       "      <td>Jardin</td>\n",
       "      <td>PARIS 17E ARRDT</td>\n",
       "      <td>NaN</td>\n",
       "      <td>NaN</td>\n",
       "      <td>PARC CLICHY-BATIGNOLLES-MARTIN LUTHER KING</td>\n",
       "      <td>000G0037</td>\n",
       "      <td>Arbre à miel</td>\n",
       "      <td>Tetradium</td>\n",
       "      <td>daniellii</td>\n",
       "      <td>NaN</td>\n",
       "      <td>38</td>\n",
       "      <td>0</td>\n",
       "      <td>NaN</td>\n",
       "      <td>NaN</td>\n",
       "      <td>48.890435</td>\n",
       "      <td>2.315289</td>\n",
       "    </tr>\n",
       "    <tr>\n",
       "      <th>5</th>\n",
       "      <td>99879</td>\n",
       "      <td>Arbre</td>\n",
       "      <td>Jardin</td>\n",
       "      <td>PARIS 17E ARRDT</td>\n",
       "      <td>NaN</td>\n",
       "      <td>NaN</td>\n",
       "      <td>PARC CLICHY-BATIGNOLLES-MARTIN LUTHER KING</td>\n",
       "      <td>000G0036</td>\n",
       "      <td>Arbre à miel</td>\n",
       "      <td>Tetradium</td>\n",
       "      <td>daniellii</td>\n",
       "      <td>NaN</td>\n",
       "      <td>38</td>\n",
       "      <td>0</td>\n",
       "      <td>NaN</td>\n",
       "      <td>NaN</td>\n",
       "      <td>48.890470</td>\n",
       "      <td>2.315228</td>\n",
       "    </tr>\n",
       "    <tr>\n",
       "      <th>6</th>\n",
       "      <td>99880</td>\n",
       "      <td>Arbre</td>\n",
       "      <td>Jardin</td>\n",
       "      <td>PARIS 17E ARRDT</td>\n",
       "      <td>NaN</td>\n",
       "      <td>NaN</td>\n",
       "      <td>PARC CLICHY-BATIGNOLLES-MARTIN LUTHER KING</td>\n",
       "      <td>000G0035</td>\n",
       "      <td>Arbre à miel</td>\n",
       "      <td>Tetradium</td>\n",
       "      <td>daniellii</td>\n",
       "      <td>NaN</td>\n",
       "      <td>37</td>\n",
       "      <td>0</td>\n",
       "      <td>NaN</td>\n",
       "      <td>NaN</td>\n",
       "      <td>48.890504</td>\n",
       "      <td>2.315168</td>\n",
       "    </tr>\n",
       "    <tr>\n",
       "      <th>11</th>\n",
       "      <td>99885</td>\n",
       "      <td>Arbre</td>\n",
       "      <td>Jardin</td>\n",
       "      <td>PARIS 16E ARRDT</td>\n",
       "      <td>NaN</td>\n",
       "      <td>NaN</td>\n",
       "      <td>JARDIN DU RANELAGH</td>\n",
       "      <td>20001</td>\n",
       "      <td>Hêtre</td>\n",
       "      <td>Fagus</td>\n",
       "      <td>sylvatica</td>\n",
       "      <td>Atropunicea'</td>\n",
       "      <td>30</td>\n",
       "      <td>0</td>\n",
       "      <td>NaN</td>\n",
       "      <td>NaN</td>\n",
       "      <td>48.858222</td>\n",
       "      <td>2.269287</td>\n",
       "    </tr>\n",
       "    <tr>\n",
       "      <th>12</th>\n",
       "      <td>99887</td>\n",
       "      <td>Arbre</td>\n",
       "      <td>Jardin</td>\n",
       "      <td>PARIS 16E ARRDT</td>\n",
       "      <td>NaN</td>\n",
       "      <td>NaN</td>\n",
       "      <td>JARDIN DU RANELAGH</td>\n",
       "      <td>20003</td>\n",
       "      <td>Micocoulier</td>\n",
       "      <td>Celtis</td>\n",
       "      <td>occidentalis</td>\n",
       "      <td>NaN</td>\n",
       "      <td>205</td>\n",
       "      <td>0</td>\n",
       "      <td>NaN</td>\n",
       "      <td>NaN</td>\n",
       "      <td>48.858212</td>\n",
       "      <td>2.268794</td>\n",
       "    </tr>\n",
       "  </tbody>\n",
       "</table>\n",
       "</div>"
      ],
      "text/plain": [
       "       id type_emplacement domanialite   arrondissement complement_addresse  \\\n",
       "4   99878            Arbre      Jardin  PARIS 17E ARRDT                 NaN   \n",
       "5   99879            Arbre      Jardin  PARIS 17E ARRDT                 NaN   \n",
       "6   99880            Arbre      Jardin  PARIS 17E ARRDT                 NaN   \n",
       "11  99885            Arbre      Jardin  PARIS 16E ARRDT                 NaN   \n",
       "12  99887            Arbre      Jardin  PARIS 16E ARRDT                 NaN   \n",
       "\n",
       "    numero                                        lieu id_emplacement  \\\n",
       "4      NaN  PARC CLICHY-BATIGNOLLES-MARTIN LUTHER KING       000G0037   \n",
       "5      NaN  PARC CLICHY-BATIGNOLLES-MARTIN LUTHER KING       000G0036   \n",
       "6      NaN  PARC CLICHY-BATIGNOLLES-MARTIN LUTHER KING       000G0035   \n",
       "11     NaN                          JARDIN DU RANELAGH          20001   \n",
       "12     NaN                          JARDIN DU RANELAGH          20003   \n",
       "\n",
       "   libelle_francais      genre        espece       variete  circonference_cm  \\\n",
       "4      Arbre à miel  Tetradium     daniellii           NaN                38   \n",
       "5      Arbre à miel  Tetradium     daniellii           NaN                38   \n",
       "6      Arbre à miel  Tetradium     daniellii           NaN                37   \n",
       "11            Hêtre      Fagus     sylvatica  Atropunicea'                30   \n",
       "12      Micocoulier     Celtis  occidentalis           NaN               205   \n",
       "\n",
       "    hauteur_m stade_developpement  remarquable  geo_point_2d_a  geo_point_2d_b  \n",
       "4           0                 NaN          NaN       48.890435        2.315289  \n",
       "5           0                 NaN          NaN       48.890470        2.315228  \n",
       "6           0                 NaN          NaN       48.890504        2.315168  \n",
       "11          0                 NaN          NaN       48.858222        2.269287  \n",
       "12          0                 NaN          NaN       48.858212        2.268794  "
      ]
     },
     "execution_count": 29,
     "metadata": {},
     "output_type": "execute_result"
    }
   ],
   "source": [
    "df[df.hauteur_m <= 0].head()"
   ]
  },
  {
   "cell_type": "code",
   "execution_count": 327,
   "id": "f0f7babf-9721-46ba-addb-7284e1278fe8",
   "metadata": {
    "collapsed": true,
    "jupyter": {
     "outputs_hidden": true
    }
   },
   "outputs": [
    {
     "data": {
      "text/plain": [
       "39219"
      ]
     },
     "execution_count": 327,
     "metadata": {},
     "output_type": "execute_result"
    }
   ],
   "source": [
    "df[df.hauteur_m <= 0].shape[0]"
   ]
  },
  {
   "cell_type": "code",
   "execution_count": 328,
   "id": "d7e32386-eef5-40a5-a5e4-cdc89c955a0b",
   "metadata": {
    "collapsed": true,
    "jupyter": {
     "outputs_hidden": true
    }
   },
   "outputs": [
    {
     "data": {
      "text/plain": [
       "39288"
      ]
     },
     "execution_count": 328,
     "metadata": {},
     "output_type": "execute_result"
    }
   ],
   "source": [
    "df.loc[df.circonference_cm/100 >= df.hauteur_m].shape[0]"
   ]
  },
  {
   "cell_type": "code",
   "execution_count": 362,
   "id": "a8b4c027-07b1-4805-934d-2d36e9a2c838",
   "metadata": {
    "collapsed": true,
    "jupyter": {
     "outputs_hidden": true
    },
    "tags": []
   },
   "outputs": [
    {
     "data": {
      "text/html": [
       "<div>\n",
       "<style scoped>\n",
       "    .dataframe tbody tr th:only-of-type {\n",
       "        vertical-align: middle;\n",
       "    }\n",
       "\n",
       "    .dataframe tbody tr th {\n",
       "        vertical-align: top;\n",
       "    }\n",
       "\n",
       "    .dataframe thead th {\n",
       "        text-align: right;\n",
       "    }\n",
       "</style>\n",
       "<table border=\"1\" class=\"dataframe\">\n",
       "  <thead>\n",
       "    <tr style=\"text-align: right;\">\n",
       "      <th></th>\n",
       "      <th>id</th>\n",
       "      <th>hauteur_m</th>\n",
       "    </tr>\n",
       "  </thead>\n",
       "  <tbody>\n",
       "    <tr>\n",
       "      <th>4</th>\n",
       "      <td>99878</td>\n",
       "      <td>0</td>\n",
       "    </tr>\n",
       "    <tr>\n",
       "      <th>5</th>\n",
       "      <td>99879</td>\n",
       "      <td>0</td>\n",
       "    </tr>\n",
       "    <tr>\n",
       "      <th>6</th>\n",
       "      <td>99880</td>\n",
       "      <td>0</td>\n",
       "    </tr>\n",
       "    <tr>\n",
       "      <th>11</th>\n",
       "      <td>99885</td>\n",
       "      <td>0</td>\n",
       "    </tr>\n",
       "    <tr>\n",
       "      <th>12</th>\n",
       "      <td>99887</td>\n",
       "      <td>0</td>\n",
       "    </tr>\n",
       "  </tbody>\n",
       "</table>\n",
       "</div>"
      ],
      "text/plain": [
       "       id  hauteur_m\n",
       "4   99878          0\n",
       "5   99879          0\n",
       "6   99880          0\n",
       "11  99885          0\n",
       "12  99887          0"
      ]
     },
     "execution_count": 362,
     "metadata": {},
     "output_type": "execute_result"
    }
   ],
   "source": [
    "df.loc[df.hauteur_m <= 1, ['id', 'hauteur_m']].head()"
   ]
  },
  {
   "cell_type": "markdown",
   "id": "a34c9f4e-2499-4b5d-b982-c467674ec4b3",
   "metadata": {},
   "source": [
    "We create a copy of our dataframe that we can change"
   ]
  },
  {
   "cell_type": "code",
   "execution_count": 4,
   "id": "91bb87ef-c31c-44a4-ad18-b834cf867883",
   "metadata": {
    "collapsed": true,
    "jupyter": {
     "outputs_hidden": true
    }
   },
   "outputs": [],
   "source": [
    "df_copy = df.copy()"
   ]
  },
  {
   "cell_type": "markdown",
   "id": "1cc4e55d-ffe2-4f34-90f6-c6c142996dde",
   "metadata": {},
   "source": [
    "## Deleting Unwanted Data\n",
    "Columns can be deleted using dictionary syntax with `del` or `pop`:"
   ]
  },
  {
   "cell_type": "code",
   "execution_count": 5,
   "id": "2a7fcec3-6d87-418a-8c02-152750834f8f",
   "metadata": {
    "collapsed": true,
    "jupyter": {
     "outputs_hidden": true
    },
    "tags": []
   },
   "outputs": [],
   "source": [
    "del df_copy['numero']"
   ]
  },
  {
   "cell_type": "code",
   "execution_count": 6,
   "id": "f54ed374-3989-44b9-89e6-d3540276763a",
   "metadata": {
    "collapsed": true,
    "jupyter": {
     "outputs_hidden": true
    }
   },
   "outputs": [
    {
     "data": {
      "text/plain": [
       "Index(['id', 'type_emplacement', 'domanialite', 'arrondissement',\n",
       "       'complement_addresse', 'lieu', 'id_emplacement', 'libelle_francais',\n",
       "       'genre', 'espece', 'variete', 'circonference_cm', 'hauteur_m',\n",
       "       'stade_developpement', 'remarquable', 'geo_point_2d_a',\n",
       "       'geo_point_2d_b'],\n",
       "      dtype='object')"
      ]
     },
     "execution_count": 6,
     "metadata": {},
     "output_type": "execute_result"
    }
   ],
   "source": [
    "df_copy.columns"
   ]
  },
  {
   "cell_type": "code",
   "execution_count": 365,
   "id": "3a571c38-3c19-4dd2-b55d-0e323242feb0",
   "metadata": {
    "collapsed": true,
    "jupyter": {
     "outputs_hidden": true
    }
   },
   "outputs": [
    {
     "data": {
      "text/plain": [
       "array([ 0., nan,  1.])"
      ]
     },
     "execution_count": 365,
     "metadata": {},
     "output_type": "execute_result"
    }
   ],
   "source": [
    "df_copy['remarquable'].unique()"
   ]
  },
  {
   "cell_type": "markdown",
   "id": "b288fb21-2250-43ea-a2c7-29cab246f585",
   "metadata": {},
   "source": [
    "My first plot"
   ]
  },
  {
   "cell_type": "code",
   "execution_count": 366,
   "id": "14571ab9-c804-44d3-9f29-430819628021",
   "metadata": {
    "collapsed": true,
    "jupyter": {
     "outputs_hidden": true
    },
    "tags": []
   },
   "outputs": [
    {
     "data": {
      "image/png": "[encoded data removed]",
      "text/plain": [
       "<Figure size 1500x500 with 1 Axes>"
      ]
     },
     "metadata": {},
     "output_type": "display_data"
    }
   ],
   "source": [
    "import matplotlib.pyplot as plt\n",
    "\n",
    "df_copy.loc[df['domanialite'].str.contains('DAC') & df['domanialite'].notnull()].plot(\n",
    "    kind='bar', y=['hauteur_m'], x='id', \n",
    "    title='Tree height in the 1st arrondissement',\n",
    "    figsize=(15, 5)\n",
    ").set_ylabel('Height in meters')\n",
    "plt.show()"
   ]
  },
  {
   "cell_type": "markdown",
   "id": "91bfaf98-2459-4bdd-a832-6c9d55506e0e",
   "metadata": {},
   "source": [
    "We put all the column names in uppercase: with `rename()`:"
   ]
  },
  {
   "cell_type": "code",
   "execution_count": 367,
   "id": "bd216650-bab1-43d2-b4ef-a43a130562e3",
   "metadata": {
    "collapsed": true,
    "jupyter": {
     "outputs_hidden": true
    },
    "tags": []
   },
   "outputs": [
    {
     "data": {
      "text/plain": [
       "Index(['ID', 'TYPE_EMPLACEMENT', 'DOMANIALITE', 'ARRONDISSEMENT',\n",
       "       'COMPLEMENT_ADDRESSE', 'LIEU', 'ID_EMPLACEMENT', 'LIBELLE_FRANCAIS',\n",
       "       'GENRE', 'ESPECE', 'VARIETE', 'CIRCONFERENCE_CM', 'HAUTEUR_M',\n",
       "       'STADE_DEVELOPPEMENT', 'REMARQUABLE', 'GEO_POINT_2D_A',\n",
       "       'GEO_POINT_2D_B'],\n",
       "      dtype='object')"
      ]
     },
     "execution_count": 367,
     "metadata": {},
     "output_type": "execute_result"
    }
   ],
   "source": [
    "df_copy.rename(str.upper, axis='columns').columns"
   ]
  },
  {
   "cell_type": "markdown",
   "id": "e97403ff-a94b-4124-a15b-066e92a2ccb1",
   "metadata": {},
   "source": [
    "We get useful information when we use `describe()` on this column:"
   ]
  },
  {
   "cell_type": "code",
   "execution_count": 368,
   "id": "6a7c28ab-8098-42c8-8130-d4fd83a8e49e",
   "metadata": {
    "collapsed": true,
    "jupyter": {
     "outputs_hidden": true
    },
    "tags": []
   },
   "outputs": [
    {
     "data": {
      "text/plain": [
       "count    200137.000000\n",
       "mean         83.380479\n",
       "std         673.190213\n",
       "min           0.000000\n",
       "25%          30.000000\n",
       "50%          70.000000\n",
       "75%         115.000000\n",
       "max      250255.000000\n",
       "Name: circonference_cm, dtype: float64"
      ]
     },
     "execution_count": 368,
     "metadata": {},
     "output_type": "execute_result"
    }
   ],
   "source": [
    "df_copy.circonference_cm.describe()"
   ]
  },
  {
   "cell_type": "code",
   "execution_count": 369,
   "id": "bea10231-0427-4952-93fc-ea0dc0d86307",
   "metadata": {
    "collapsed": true,
    "jupyter": {
     "outputs_hidden": true
    },
    "tags": []
   },
   "outputs": [
    {
     "data": {
      "text/plain": [
       "count    200137.000000\n",
       "mean         13.110509\n",
       "std        1971.217387\n",
       "min           0.000000\n",
       "25%           5.000000\n",
       "50%           8.000000\n",
       "75%          12.000000\n",
       "max      881818.000000\n",
       "Name: hauteur_m, dtype: float64"
      ]
     },
     "execution_count": 369,
     "metadata": {},
     "output_type": "execute_result"
    }
   ],
   "source": [
    "df_copy.hauteur_m.describe()"
   ]
  },
  {
   "cell_type": "code",
   "execution_count": 337,
   "id": "38fd1cb3-8cbd-4454-aa4a-a479db570db4",
   "metadata": {
    "collapsed": true,
    "jupyter": {
     "outputs_hidden": true
    },
    "tags": []
   },
   "outputs": [
    {
     "data": {
      "text/html": [
       "<div>\n",
       "<style scoped>\n",
       "    .dataframe tbody tr th:only-of-type {\n",
       "        vertical-align: middle;\n",
       "    }\n",
       "\n",
       "    .dataframe tbody tr th {\n",
       "        vertical-align: top;\n",
       "    }\n",
       "\n",
       "    .dataframe thead th {\n",
       "        text-align: right;\n",
       "    }\n",
       "</style>\n",
       "<table border=\"1\" class=\"dataframe\">\n",
       "  <thead>\n",
       "    <tr style=\"text-align: right;\">\n",
       "      <th></th>\n",
       "      <th>id</th>\n",
       "      <th>type_emplacement</th>\n",
       "      <th>domanialite</th>\n",
       "      <th>arrondissement</th>\n",
       "      <th>complement_addresse</th>\n",
       "      <th>lieu</th>\n",
       "      <th>id_emplacement</th>\n",
       "      <th>libelle_francais</th>\n",
       "      <th>genre</th>\n",
       "      <th>espece</th>\n",
       "      <th>variete</th>\n",
       "      <th>circonference_cm</th>\n",
       "      <th>hauteur_m</th>\n",
       "      <th>stade_developpement</th>\n",
       "      <th>remarquable</th>\n",
       "      <th>geo_point_2d_a</th>\n",
       "      <th>geo_point_2d_b</th>\n",
       "    </tr>\n",
       "  </thead>\n",
       "  <tbody>\n",
       "    <tr>\n",
       "      <th>200136</th>\n",
       "      <td>2024745</td>\n",
       "      <td>Arbre</td>\n",
       "      <td>Jardin</td>\n",
       "      <td>BOIS DE VINCENNES</td>\n",
       "      <td>NaN</td>\n",
       "      <td>ARBORETUM DE L ECOLE DU BREUIL - ROUTE DE LA F...</td>\n",
       "      <td>720170155</td>\n",
       "      <td>Raisinier</td>\n",
       "      <td>Hovenia</td>\n",
       "      <td>dulcis</td>\n",
       "      <td>NaN</td>\n",
       "      <td>0</td>\n",
       "      <td>0</td>\n",
       "      <td>NaN</td>\n",
       "      <td>0.0</td>\n",
       "      <td>48.820445</td>\n",
       "      <td>2.454856</td>\n",
       "    </tr>\n",
       "    <tr>\n",
       "      <th>200135</th>\n",
       "      <td>2024744</td>\n",
       "      <td>Arbre</td>\n",
       "      <td>Jardin</td>\n",
       "      <td>BOIS DE VINCENNES</td>\n",
       "      <td>NaN</td>\n",
       "      <td>ARBORETUM DE L ECOLE DU BREUIL - ROUTE DE LA F...</td>\n",
       "      <td>720170154</td>\n",
       "      <td>Chêne</td>\n",
       "      <td>Quercus</td>\n",
       "      <td>n. sp.</td>\n",
       "      <td>NaN</td>\n",
       "      <td>0</td>\n",
       "      <td>0</td>\n",
       "      <td>NaN</td>\n",
       "      <td>0.0</td>\n",
       "      <td>48.822522</td>\n",
       "      <td>2.455956</td>\n",
       "    </tr>\n",
       "    <tr>\n",
       "      <th>200134</th>\n",
       "      <td>2024743</td>\n",
       "      <td>Arbre</td>\n",
       "      <td>Jardin</td>\n",
       "      <td>BOIS DE VINCENNES</td>\n",
       "      <td>NaN</td>\n",
       "      <td>ARBORETUM DE L ECOLE DU BREUIL - ROUTE DE LA F...</td>\n",
       "      <td>720170153</td>\n",
       "      <td>Peuplier</td>\n",
       "      <td>Populus</td>\n",
       "      <td>simonii</td>\n",
       "      <td>NaN</td>\n",
       "      <td>0</td>\n",
       "      <td>0</td>\n",
       "      <td>NaN</td>\n",
       "      <td>0.0</td>\n",
       "      <td>48.822907</td>\n",
       "      <td>2.457970</td>\n",
       "    </tr>\n",
       "    <tr>\n",
       "      <th>200133</th>\n",
       "      <td>2024742</td>\n",
       "      <td>Arbre</td>\n",
       "      <td>Jardin</td>\n",
       "      <td>BOIS DE VINCENNES</td>\n",
       "      <td>NaN</td>\n",
       "      <td>ARBORETUM DE L ECOLE DU BREUIL - ROUTE DE LA F...</td>\n",
       "      <td>720170152</td>\n",
       "      <td>Arbre aux mouchoirs</td>\n",
       "      <td>Davidia</td>\n",
       "      <td>involucrata</td>\n",
       "      <td>NaN</td>\n",
       "      <td>0</td>\n",
       "      <td>0</td>\n",
       "      <td>NaN</td>\n",
       "      <td>0.0</td>\n",
       "      <td>48.823254</td>\n",
       "      <td>2.457935</td>\n",
       "    </tr>\n",
       "    <tr>\n",
       "      <th>200132</th>\n",
       "      <td>2024741</td>\n",
       "      <td>Arbre</td>\n",
       "      <td>Jardin</td>\n",
       "      <td>BOIS DE VINCENNES</td>\n",
       "      <td>NaN</td>\n",
       "      <td>ARBORETUM DE L ECOLE DU BREUIL - ROUTE DE LA F...</td>\n",
       "      <td>720170151</td>\n",
       "      <td>NaN</td>\n",
       "      <td>Castanea</td>\n",
       "      <td>fargesii</td>\n",
       "      <td>NaN</td>\n",
       "      <td>0</td>\n",
       "      <td>0</td>\n",
       "      <td>NaN</td>\n",
       "      <td>0.0</td>\n",
       "      <td>48.821957</td>\n",
       "      <td>2.456264</td>\n",
       "    </tr>\n",
       "    <tr>\n",
       "      <th>200131</th>\n",
       "      <td>2024740</td>\n",
       "      <td>Arbre</td>\n",
       "      <td>Jardin</td>\n",
       "      <td>BOIS DE VINCENNES</td>\n",
       "      <td>NaN</td>\n",
       "      <td>ARBORETUM DE L ECOLE DU BREUIL - ROUTE DE LA F...</td>\n",
       "      <td>720170150</td>\n",
       "      <td>Orme</td>\n",
       "      <td>Ulmus</td>\n",
       "      <td>n. sp.</td>\n",
       "      <td>NaN</td>\n",
       "      <td>0</td>\n",
       "      <td>0</td>\n",
       "      <td>NaN</td>\n",
       "      <td>0.0</td>\n",
       "      <td>48.821705</td>\n",
       "      <td>2.455181</td>\n",
       "    </tr>\n",
       "    <tr>\n",
       "      <th>200130</th>\n",
       "      <td>2024739</td>\n",
       "      <td>Arbre</td>\n",
       "      <td>Jardin</td>\n",
       "      <td>BOIS DE VINCENNES</td>\n",
       "      <td>NaN</td>\n",
       "      <td>ARBORETUM DE L ECOLE DU BREUIL - ROUTE DE LA F...</td>\n",
       "      <td>720170149</td>\n",
       "      <td>Chêne</td>\n",
       "      <td>Quercus</td>\n",
       "      <td>pyrenaica</td>\n",
       "      <td>NaN</td>\n",
       "      <td>0</td>\n",
       "      <td>0</td>\n",
       "      <td>NaN</td>\n",
       "      <td>0.0</td>\n",
       "      <td>48.821991</td>\n",
       "      <td>2.455122</td>\n",
       "    </tr>\n",
       "    <tr>\n",
       "      <th>200129</th>\n",
       "      <td>2024738</td>\n",
       "      <td>Arbre</td>\n",
       "      <td>Jardin</td>\n",
       "      <td>BOIS DE VINCENNES</td>\n",
       "      <td>NaN</td>\n",
       "      <td>ARBORETUM DE L ECOLE DU BREUIL - ROUTE DE LA F...</td>\n",
       "      <td>720170148</td>\n",
       "      <td>NaN</td>\n",
       "      <td>Non spécifié</td>\n",
       "      <td>sinensis</td>\n",
       "      <td>NaN</td>\n",
       "      <td>0</td>\n",
       "      <td>0</td>\n",
       "      <td>NaN</td>\n",
       "      <td>0.0</td>\n",
       "      <td>48.821991</td>\n",
       "      <td>2.454676</td>\n",
       "    </tr>\n",
       "    <tr>\n",
       "      <th>200128</th>\n",
       "      <td>2024737</td>\n",
       "      <td>Arbre</td>\n",
       "      <td>Jardin</td>\n",
       "      <td>BOIS DE VINCENNES</td>\n",
       "      <td>NaN</td>\n",
       "      <td>ARBORETUM DE L ECOLE DU BREUIL - ROUTE DE LA F...</td>\n",
       "      <td>720170147</td>\n",
       "      <td>NaN</td>\n",
       "      <td>Parrotia</td>\n",
       "      <td>n. sp.</td>\n",
       "      <td>NaN</td>\n",
       "      <td>0</td>\n",
       "      <td>0</td>\n",
       "      <td>NaN</td>\n",
       "      <td>0.0</td>\n",
       "      <td>48.820787</td>\n",
       "      <td>2.454569</td>\n",
       "    </tr>\n",
       "    <tr>\n",
       "      <th>200127</th>\n",
       "      <td>2024736</td>\n",
       "      <td>Arbre</td>\n",
       "      <td>Jardin</td>\n",
       "      <td>BOIS DE VINCENNES</td>\n",
       "      <td>NaN</td>\n",
       "      <td>ARBORETUM DE L ECOLE DU BREUIL - ROUTE DE LA F...</td>\n",
       "      <td>720170146</td>\n",
       "      <td>Marronnier</td>\n",
       "      <td>Aesculus</td>\n",
       "      <td>californica</td>\n",
       "      <td>NaN</td>\n",
       "      <td>0</td>\n",
       "      <td>0</td>\n",
       "      <td>NaN</td>\n",
       "      <td>0.0</td>\n",
       "      <td>48.820914</td>\n",
       "      <td>2.455458</td>\n",
       "    </tr>\n",
       "  </tbody>\n",
       "</table>\n",
       "</div>"
      ],
      "text/plain": [
       "             id type_emplacement domanialite     arrondissement  \\\n",
       "200136  2024745            Arbre      Jardin  BOIS DE VINCENNES   \n",
       "200135  2024744            Arbre      Jardin  BOIS DE VINCENNES   \n",
       "200134  2024743            Arbre      Jardin  BOIS DE VINCENNES   \n",
       "200133  2024742            Arbre      Jardin  BOIS DE VINCENNES   \n",
       "200132  2024741            Arbre      Jardin  BOIS DE VINCENNES   \n",
       "200131  2024740            Arbre      Jardin  BOIS DE VINCENNES   \n",
       "200130  2024739            Arbre      Jardin  BOIS DE VINCENNES   \n",
       "200129  2024738            Arbre      Jardin  BOIS DE VINCENNES   \n",
       "200128  2024737            Arbre      Jardin  BOIS DE VINCENNES   \n",
       "200127  2024736            Arbre      Jardin  BOIS DE VINCENNES   \n",
       "\n",
       "       complement_addresse                                               lieu  \\\n",
       "200136                 NaN  ARBORETUM DE L ECOLE DU BREUIL - ROUTE DE LA F...   \n",
       "200135                 NaN  ARBORETUM DE L ECOLE DU BREUIL - ROUTE DE LA F...   \n",
       "200134                 NaN  ARBORETUM DE L ECOLE DU BREUIL - ROUTE DE LA F...   \n",
       "200133                 NaN  ARBORETUM DE L ECOLE DU BREUIL - ROUTE DE LA F...   \n",
       "200132                 NaN  ARBORETUM DE L ECOLE DU BREUIL - ROUTE DE LA F...   \n",
       "200131                 NaN  ARBORETUM DE L ECOLE DU BREUIL - ROUTE DE LA F...   \n",
       "200130                 NaN  ARBORETUM DE L ECOLE DU BREUIL - ROUTE DE LA F...   \n",
       "200129                 NaN  ARBORETUM DE L ECOLE DU BREUIL - ROUTE DE LA F...   \n",
       "200128                 NaN  ARBORETUM DE L ECOLE DU BREUIL - ROUTE DE LA F...   \n",
       "200127                 NaN  ARBORETUM DE L ECOLE DU BREUIL - ROUTE DE LA F...   \n",
       "\n",
       "       id_emplacement     libelle_francais         genre       espece variete  \\\n",
       "200136      720170155            Raisinier       Hovenia       dulcis     NaN   \n",
       "200135      720170154                Chêne       Quercus       n. sp.     NaN   \n",
       "200134      720170153             Peuplier       Populus      simonii     NaN   \n",
       "200133      720170152  Arbre aux mouchoirs       Davidia  involucrata     NaN   \n",
       "200132      720170151                  NaN      Castanea     fargesii     NaN   \n",
       "200131      720170150                 Orme         Ulmus       n. sp.     NaN   \n",
       "200130      720170149                Chêne       Quercus    pyrenaica     NaN   \n",
       "200129      720170148                  NaN  Non spécifié     sinensis     NaN   \n",
       "200128      720170147                  NaN      Parrotia       n. sp.     NaN   \n",
       "200127      720170146           Marronnier      Aesculus  californica     NaN   \n",
       "\n",
       "        circonference_cm  hauteur_m stade_developpement  remarquable  \\\n",
       "200136                 0          0                 NaN          0.0   \n",
       "200135                 0          0                 NaN          0.0   \n",
       "200134                 0          0                 NaN          0.0   \n",
       "200133                 0          0                 NaN          0.0   \n",
       "200132                 0          0                 NaN          0.0   \n",
       "200131                 0          0                 NaN          0.0   \n",
       "200130                 0          0                 NaN          0.0   \n",
       "200129                 0          0                 NaN          0.0   \n",
       "200128                 0          0                 NaN          0.0   \n",
       "200127                 0          0                 NaN          0.0   \n",
       "\n",
       "        geo_point_2d_a  geo_point_2d_b  \n",
       "200136       48.820445        2.454856  \n",
       "200135       48.822522        2.455956  \n",
       "200134       48.822907        2.457970  \n",
       "200133       48.823254        2.457935  \n",
       "200132       48.821957        2.456264  \n",
       "200131       48.821705        2.455181  \n",
       "200130       48.821991        2.455122  \n",
       "200129       48.821991        2.454676  \n",
       "200128       48.820787        2.454569  \n",
       "200127       48.820914        2.455458  "
      ]
     },
     "execution_count": 337,
     "metadata": {},
     "output_type": "execute_result"
    }
   ],
   "source": [
    "df_copy.sort_values(by='id', ascending=False).head(10)"
   ]
  },
  {
   "cell_type": "code",
   "execution_count": 338,
   "id": "be9239c9-ac76-459d-9df8-fbc9986ac94b",
   "metadata": {
    "collapsed": true,
    "jupyter": {
     "outputs_hidden": true
    },
    "tags": []
   },
   "outputs": [
    {
     "data": {
      "text/html": [
       "<div>\n",
       "<style scoped>\n",
       "    .dataframe tbody tr th:only-of-type {\n",
       "        vertical-align: middle;\n",
       "    }\n",
       "\n",
       "    .dataframe tbody tr th {\n",
       "        vertical-align: top;\n",
       "    }\n",
       "\n",
       "    .dataframe thead th {\n",
       "        text-align: right;\n",
       "    }\n",
       "</style>\n",
       "<table border=\"1\" class=\"dataframe\">\n",
       "  <thead>\n",
       "    <tr style=\"text-align: right;\">\n",
       "      <th></th>\n",
       "      <th>id</th>\n",
       "      <th>type_emplacement</th>\n",
       "      <th>domanialite</th>\n",
       "      <th>arrondissement</th>\n",
       "      <th>complement_addresse</th>\n",
       "      <th>lieu</th>\n",
       "      <th>id_emplacement</th>\n",
       "      <th>libelle_francais</th>\n",
       "      <th>genre</th>\n",
       "      <th>espece</th>\n",
       "      <th>variete</th>\n",
       "      <th>circonference_cm</th>\n",
       "      <th>hauteur_m</th>\n",
       "      <th>stade_developpement</th>\n",
       "      <th>remarquable</th>\n",
       "      <th>geo_point_2d_a</th>\n",
       "      <th>geo_point_2d_b</th>\n",
       "    </tr>\n",
       "  </thead>\n",
       "  <tbody>\n",
       "    <tr>\n",
       "      <th>149056</th>\n",
       "      <td>272885</td>\n",
       "      <td>Arbre</td>\n",
       "      <td>Alignement</td>\n",
       "      <td>PARIS 18E ARRDT</td>\n",
       "      <td>NaN</td>\n",
       "      <td>PLACE DE LA CHAPELLE</td>\n",
       "      <td>101026</td>\n",
       "      <td>Platane</td>\n",
       "      <td>Platanus</td>\n",
       "      <td>x hispanica</td>\n",
       "      <td>NaN</td>\n",
       "      <td>250255</td>\n",
       "      <td>22</td>\n",
       "      <td>A</td>\n",
       "      <td>0.0</td>\n",
       "      <td>48.884837</td>\n",
       "      <td>2.360229</td>\n",
       "    </tr>\n",
       "    <tr>\n",
       "      <th>160432</th>\n",
       "      <td>284823</td>\n",
       "      <td>Arbre</td>\n",
       "      <td>Alignement</td>\n",
       "      <td>PARIS 18E ARRDT</td>\n",
       "      <td>NaN</td>\n",
       "      <td>AVENUE DE LA PORTE DE CLIGNANCOURT</td>\n",
       "      <td>202005</td>\n",
       "      <td>Platane</td>\n",
       "      <td>Platanus</td>\n",
       "      <td>orientalis</td>\n",
       "      <td>NaN</td>\n",
       "      <td>120170</td>\n",
       "      <td>20</td>\n",
       "      <td>A</td>\n",
       "      <td>0.0</td>\n",
       "      <td>48.898590</td>\n",
       "      <td>2.344364</td>\n",
       "    </tr>\n",
       "    <tr>\n",
       "      <th>173343</th>\n",
       "      <td>298211</td>\n",
       "      <td>Arbre</td>\n",
       "      <td>Alignement</td>\n",
       "      <td>PARIS 5E ARRDT</td>\n",
       "      <td>NaN</td>\n",
       "      <td>BOULEVARD DE PORT ROYAL</td>\n",
       "      <td>402001</td>\n",
       "      <td>Marronnier</td>\n",
       "      <td>Aesculus</td>\n",
       "      <td>x carnea</td>\n",
       "      <td>Briotii'</td>\n",
       "      <td>79120</td>\n",
       "      <td>10</td>\n",
       "      <td>A</td>\n",
       "      <td>0.0</td>\n",
       "      <td>48.837227</td>\n",
       "      <td>2.348598</td>\n",
       "    </tr>\n",
       "    <tr>\n",
       "      <th>147634</th>\n",
       "      <td>271402</td>\n",
       "      <td>Arbre</td>\n",
       "      <td>Alignement</td>\n",
       "      <td>PARIS 7E ARRDT</td>\n",
       "      <td>NaN</td>\n",
       "      <td>AVENUE BOSQUET</td>\n",
       "      <td>1202016</td>\n",
       "      <td>Platane</td>\n",
       "      <td>Platanus</td>\n",
       "      <td>occidentalis</td>\n",
       "      <td>NaN</td>\n",
       "      <td>65110</td>\n",
       "      <td>16</td>\n",
       "      <td>A</td>\n",
       "      <td>0.0</td>\n",
       "      <td>48.855390</td>\n",
       "      <td>2.305025</td>\n",
       "    </tr>\n",
       "    <tr>\n",
       "      <th>91256</th>\n",
       "      <td>212024</td>\n",
       "      <td>Arbre</td>\n",
       "      <td>Alignement</td>\n",
       "      <td>PARIS 12E ARRDT</td>\n",
       "      <td>NaN</td>\n",
       "      <td>RUE DE CHALON</td>\n",
       "      <td>202005</td>\n",
       "      <td>Micocoulier</td>\n",
       "      <td>Celtis</td>\n",
       "      <td>australis</td>\n",
       "      <td>NaN</td>\n",
       "      <td>30140</td>\n",
       "      <td>10</td>\n",
       "      <td>A</td>\n",
       "      <td>0.0</td>\n",
       "      <td>48.845542</td>\n",
       "      <td>2.374680</td>\n",
       "    </tr>\n",
       "    <tr>\n",
       "      <th>90605</th>\n",
       "      <td>211362</td>\n",
       "      <td>Arbre</td>\n",
       "      <td>Alignement</td>\n",
       "      <td>PARIS 5E ARRDT</td>\n",
       "      <td>34</td>\n",
       "      <td>BOULEVARD SAINT MARCEL</td>\n",
       "      <td>204025</td>\n",
       "      <td>Cedrele</td>\n",
       "      <td>Toona</td>\n",
       "      <td>sinensis</td>\n",
       "      <td>NaN</td>\n",
       "      <td>20130</td>\n",
       "      <td>16</td>\n",
       "      <td>A</td>\n",
       "      <td>0.0</td>\n",
       "      <td>48.839108</td>\n",
       "      <td>2.358677</td>\n",
       "    </tr>\n",
       "    <tr>\n",
       "      <th>71787</th>\n",
       "      <td>190080</td>\n",
       "      <td>Arbre</td>\n",
       "      <td>DASCO</td>\n",
       "      <td>PARIS 20E ARRDT</td>\n",
       "      <td>NaN</td>\n",
       "      <td>PLAINE (9) ELEM B</td>\n",
       "      <td>11110006</td>\n",
       "      <td>Tilleul</td>\n",
       "      <td>Tilia</td>\n",
       "      <td>tomentosa</td>\n",
       "      <td>NaN</td>\n",
       "      <td>18589</td>\n",
       "      <td>15</td>\n",
       "      <td>A</td>\n",
       "      <td>0.0</td>\n",
       "      <td>48.850037</td>\n",
       "      <td>2.400146</td>\n",
       "    </tr>\n",
       "    <tr>\n",
       "      <th>147235</th>\n",
       "      <td>270997</td>\n",
       "      <td>Arbre</td>\n",
       "      <td>Alignement</td>\n",
       "      <td>PARIS 7E ARRDT</td>\n",
       "      <td>NaN</td>\n",
       "      <td>QUAI BRANLY</td>\n",
       "      <td>503005</td>\n",
       "      <td>Paulownia</td>\n",
       "      <td>Paulownia</td>\n",
       "      <td>tomentosa</td>\n",
       "      <td>NaN</td>\n",
       "      <td>9155</td>\n",
       "      <td>15</td>\n",
       "      <td>A</td>\n",
       "      <td>0.0</td>\n",
       "      <td>48.858357</td>\n",
       "      <td>2.292727</td>\n",
       "    </tr>\n",
       "    <tr>\n",
       "      <th>164616</th>\n",
       "      <td>289121</td>\n",
       "      <td>Arbre</td>\n",
       "      <td>Alignement</td>\n",
       "      <td>PARIS 12E ARRDT</td>\n",
       "      <td>NaN</td>\n",
       "      <td>RUE FRANCOIS TRUFFAUT</td>\n",
       "      <td>301005</td>\n",
       "      <td>Platane</td>\n",
       "      <td>Platanus</td>\n",
       "      <td>x hispanica</td>\n",
       "      <td>NaN</td>\n",
       "      <td>9095</td>\n",
       "      <td>10</td>\n",
       "      <td>A</td>\n",
       "      <td>0.0</td>\n",
       "      <td>48.834558</td>\n",
       "      <td>2.387590</td>\n",
       "    </tr>\n",
       "    <tr>\n",
       "      <th>152303</th>\n",
       "      <td>276396</td>\n",
       "      <td>Arbre</td>\n",
       "      <td>Alignement</td>\n",
       "      <td>PARIS 7E ARRDT</td>\n",
       "      <td>NaN</td>\n",
       "      <td>ESPLANADE DES INVALIDES</td>\n",
       "      <td>402011</td>\n",
       "      <td>Tilleul</td>\n",
       "      <td>Tilia</td>\n",
       "      <td>tomentosa</td>\n",
       "      <td>NaN</td>\n",
       "      <td>9085</td>\n",
       "      <td>12</td>\n",
       "      <td>A</td>\n",
       "      <td>0.0</td>\n",
       "      <td>48.860368</td>\n",
       "      <td>2.314141</td>\n",
       "    </tr>\n",
       "  </tbody>\n",
       "</table>\n",
       "</div>"
      ],
      "text/plain": [
       "            id type_emplacement domanialite   arrondissement  \\\n",
       "149056  272885            Arbre  Alignement  PARIS 18E ARRDT   \n",
       "160432  284823            Arbre  Alignement  PARIS 18E ARRDT   \n",
       "173343  298211            Arbre  Alignement   PARIS 5E ARRDT   \n",
       "147634  271402            Arbre  Alignement   PARIS 7E ARRDT   \n",
       "91256   212024            Arbre  Alignement  PARIS 12E ARRDT   \n",
       "90605   211362            Arbre  Alignement   PARIS 5E ARRDT   \n",
       "71787   190080            Arbre       DASCO  PARIS 20E ARRDT   \n",
       "147235  270997            Arbre  Alignement   PARIS 7E ARRDT   \n",
       "164616  289121            Arbre  Alignement  PARIS 12E ARRDT   \n",
       "152303  276396            Arbre  Alignement   PARIS 7E ARRDT   \n",
       "\n",
       "       complement_addresse                                lieu id_emplacement  \\\n",
       "149056                 NaN                PLACE DE LA CHAPELLE         101026   \n",
       "160432                 NaN  AVENUE DE LA PORTE DE CLIGNANCOURT         202005   \n",
       "173343                 NaN             BOULEVARD DE PORT ROYAL         402001   \n",
       "147634                 NaN                      AVENUE BOSQUET        1202016   \n",
       "91256                  NaN                       RUE DE CHALON         202005   \n",
       "90605                   34              BOULEVARD SAINT MARCEL         204025   \n",
       "71787                  NaN                   PLAINE (9) ELEM B       11110006   \n",
       "147235                 NaN                         QUAI BRANLY         503005   \n",
       "164616                 NaN               RUE FRANCOIS TRUFFAUT         301005   \n",
       "152303                 NaN             ESPLANADE DES INVALIDES         402011   \n",
       "\n",
       "       libelle_francais      genre        espece   variete  circonference_cm  \\\n",
       "149056          Platane   Platanus   x hispanica       NaN            250255   \n",
       "160432          Platane   Platanus    orientalis       NaN            120170   \n",
       "173343       Marronnier   Aesculus      x carnea  Briotii'             79120   \n",
       "147634          Platane   Platanus  occidentalis       NaN             65110   \n",
       "91256       Micocoulier     Celtis     australis       NaN             30140   \n",
       "90605           Cedrele      Toona      sinensis       NaN             20130   \n",
       "71787           Tilleul      Tilia     tomentosa       NaN             18589   \n",
       "147235        Paulownia  Paulownia     tomentosa       NaN              9155   \n",
       "164616          Platane   Platanus   x hispanica       NaN              9095   \n",
       "152303          Tilleul      Tilia     tomentosa       NaN              9085   \n",
       "\n",
       "        hauteur_m stade_developpement  remarquable  geo_point_2d_a  \\\n",
       "149056         22                   A          0.0       48.884837   \n",
       "160432         20                   A          0.0       48.898590   \n",
       "173343         10                   A          0.0       48.837227   \n",
       "147634         16                   A          0.0       48.855390   \n",
       "91256          10                   A          0.0       48.845542   \n",
       "90605          16                   A          0.0       48.839108   \n",
       "71787          15                   A          0.0       48.850037   \n",
       "147235         15                   A          0.0       48.858357   \n",
       "164616         10                   A          0.0       48.834558   \n",
       "152303         12                   A          0.0       48.860368   \n",
       "\n",
       "        geo_point_2d_b  \n",
       "149056        2.360229  \n",
       "160432        2.344364  \n",
       "173343        2.348598  \n",
       "147634        2.305025  \n",
       "91256         2.374680  \n",
       "90605         2.358677  \n",
       "71787         2.400146  \n",
       "147235        2.292727  \n",
       "164616        2.387590  \n",
       "152303        2.314141  "
      ]
     },
     "execution_count": 338,
     "metadata": {},
     "output_type": "execute_result"
    }
   ],
   "source": [
    "df_copy.nlargest(n=10, columns='circonference_cm')"
   ]
  },
  {
   "cell_type": "code",
   "execution_count": 339,
   "id": "76ce063e-415a-44ea-95c3-3e09ea29a293",
   "metadata": {
    "collapsed": true,
    "jupyter": {
     "outputs_hidden": true
    },
    "tags": []
   },
   "outputs": [
    {
     "data": {
      "text/html": [
       "<div>\n",
       "<style scoped>\n",
       "    .dataframe tbody tr th:only-of-type {\n",
       "        vertical-align: middle;\n",
       "    }\n",
       "\n",
       "    .dataframe tbody tr th {\n",
       "        vertical-align: top;\n",
       "    }\n",
       "\n",
       "    .dataframe thead th {\n",
       "        text-align: right;\n",
       "    }\n",
       "</style>\n",
       "<table border=\"1\" class=\"dataframe\">\n",
       "  <thead>\n",
       "    <tr style=\"text-align: right;\">\n",
       "      <th></th>\n",
       "      <th>id</th>\n",
       "      <th>type_emplacement</th>\n",
       "      <th>domanialite</th>\n",
       "      <th>arrondissement</th>\n",
       "      <th>complement_addresse</th>\n",
       "      <th>lieu</th>\n",
       "      <th>id_emplacement</th>\n",
       "      <th>libelle_francais</th>\n",
       "      <th>genre</th>\n",
       "      <th>espece</th>\n",
       "      <th>variete</th>\n",
       "      <th>circonference_cm</th>\n",
       "      <th>hauteur_m</th>\n",
       "      <th>stade_developpement</th>\n",
       "      <th>remarquable</th>\n",
       "      <th>geo_point_2d_a</th>\n",
       "      <th>geo_point_2d_b</th>\n",
       "    </tr>\n",
       "  </thead>\n",
       "  <tbody>\n",
       "    <tr>\n",
       "      <th>1778</th>\n",
       "      <td>101922</td>\n",
       "      <td>Arbre</td>\n",
       "      <td>Jardin</td>\n",
       "      <td>PARIS 19E ARRDT</td>\n",
       "      <td>NaN</td>\n",
       "      <td>PARC DES BUTTES CHAUMONT</td>\n",
       "      <td>C0400032</td>\n",
       "      <td>Erable</td>\n",
       "      <td>Acer</td>\n",
       "      <td>platanoides</td>\n",
       "      <td>NaN</td>\n",
       "      <td>0</td>\n",
       "      <td>0</td>\n",
       "      <td>NaN</td>\n",
       "      <td>NaN</td>\n",
       "      <td>48.879620</td>\n",
       "      <td>2.384927</td>\n",
       "    </tr>\n",
       "    <tr>\n",
       "      <th>2332</th>\n",
       "      <td>102591</td>\n",
       "      <td>Arbre</td>\n",
       "      <td>Jardin</td>\n",
       "      <td>PARIS 17E ARRDT</td>\n",
       "      <td>NaN</td>\n",
       "      <td>PARC CLICHY-BATIGNOLLES-MARTIN LUTHER KING</td>\n",
       "      <td>000B0052</td>\n",
       "      <td>Magnolia</td>\n",
       "      <td>Magnolia</td>\n",
       "      <td>x soulangeana</td>\n",
       "      <td>Heaven Scent'</td>\n",
       "      <td>0</td>\n",
       "      <td>0</td>\n",
       "      <td>NaN</td>\n",
       "      <td>NaN</td>\n",
       "      <td>48.889704</td>\n",
       "      <td>2.315698</td>\n",
       "    </tr>\n",
       "    <tr>\n",
       "      <th>2333</th>\n",
       "      <td>102592</td>\n",
       "      <td>Arbre</td>\n",
       "      <td>Jardin</td>\n",
       "      <td>PARIS 17E ARRDT</td>\n",
       "      <td>NaN</td>\n",
       "      <td>PARC CLICHY-BATIGNOLLES-MARTIN LUTHER KING</td>\n",
       "      <td>000B0053</td>\n",
       "      <td>Magnolia</td>\n",
       "      <td>Magnolia</td>\n",
       "      <td>x soulangeana</td>\n",
       "      <td>Heaven Scent'</td>\n",
       "      <td>0</td>\n",
       "      <td>0</td>\n",
       "      <td>NaN</td>\n",
       "      <td>NaN</td>\n",
       "      <td>48.889706</td>\n",
       "      <td>2.315740</td>\n",
       "    </tr>\n",
       "    <tr>\n",
       "      <th>2405</th>\n",
       "      <td>102744</td>\n",
       "      <td>Arbre</td>\n",
       "      <td>Jardin</td>\n",
       "      <td>PARIS 20E ARRDT</td>\n",
       "      <td>NaN</td>\n",
       "      <td>SQUARE LEON FRAPIE</td>\n",
       "      <td>2</td>\n",
       "      <td>Platane</td>\n",
       "      <td>Platanus</td>\n",
       "      <td>x hispanica</td>\n",
       "      <td>NaN</td>\n",
       "      <td>0</td>\n",
       "      <td>0</td>\n",
       "      <td>JA</td>\n",
       "      <td>0.0</td>\n",
       "      <td>48.872276</td>\n",
       "      <td>2.411036</td>\n",
       "    </tr>\n",
       "    <tr>\n",
       "      <th>2430</th>\n",
       "      <td>102773</td>\n",
       "      <td>Arbre</td>\n",
       "      <td>Jardin</td>\n",
       "      <td>PARIS 17E ARRDT</td>\n",
       "      <td>NaN</td>\n",
       "      <td>PARC CLICHY-BATIGNOLLES-MARTIN LUTHER KING</td>\n",
       "      <td>000B0021</td>\n",
       "      <td>Magnolia</td>\n",
       "      <td>Magnolia</td>\n",
       "      <td>x soulangeana</td>\n",
       "      <td>Sundew'</td>\n",
       "      <td>0</td>\n",
       "      <td>0</td>\n",
       "      <td>NaN</td>\n",
       "      <td>NaN</td>\n",
       "      <td>48.889784</td>\n",
       "      <td>2.315513</td>\n",
       "    </tr>\n",
       "  </tbody>\n",
       "</table>\n",
       "</div>"
      ],
      "text/plain": [
       "          id type_emplacement domanialite   arrondissement  \\\n",
       "1778  101922            Arbre      Jardin  PARIS 19E ARRDT   \n",
       "2332  102591            Arbre      Jardin  PARIS 17E ARRDT   \n",
       "2333  102592            Arbre      Jardin  PARIS 17E ARRDT   \n",
       "2405  102744            Arbre      Jardin  PARIS 20E ARRDT   \n",
       "2430  102773            Arbre      Jardin  PARIS 17E ARRDT   \n",
       "\n",
       "     complement_addresse                                        lieu  \\\n",
       "1778                 NaN                    PARC DES BUTTES CHAUMONT   \n",
       "2332                 NaN  PARC CLICHY-BATIGNOLLES-MARTIN LUTHER KING   \n",
       "2333                 NaN  PARC CLICHY-BATIGNOLLES-MARTIN LUTHER KING   \n",
       "2405                 NaN                          SQUARE LEON FRAPIE   \n",
       "2430                 NaN  PARC CLICHY-BATIGNOLLES-MARTIN LUTHER KING   \n",
       "\n",
       "     id_emplacement libelle_francais     genre         espece        variete  \\\n",
       "1778       C0400032           Erable      Acer    platanoides            NaN   \n",
       "2332       000B0052         Magnolia  Magnolia  x soulangeana  Heaven Scent'   \n",
       "2333       000B0053         Magnolia  Magnolia  x soulangeana  Heaven Scent'   \n",
       "2405              2          Platane  Platanus    x hispanica            NaN   \n",
       "2430       000B0021         Magnolia  Magnolia  x soulangeana        Sundew'   \n",
       "\n",
       "      circonference_cm  hauteur_m stade_developpement  remarquable  \\\n",
       "1778                 0          0                 NaN          NaN   \n",
       "2332                 0          0                 NaN          NaN   \n",
       "2333                 0          0                 NaN          NaN   \n",
       "2405                 0          0                  JA          0.0   \n",
       "2430                 0          0                 NaN          NaN   \n",
       "\n",
       "      geo_point_2d_a  geo_point_2d_b  \n",
       "1778       48.879620        2.384927  \n",
       "2332       48.889704        2.315698  \n",
       "2333       48.889706        2.315740  \n",
       "2405       48.872276        2.411036  \n",
       "2430       48.889784        2.315513  "
      ]
     },
     "execution_count": 339,
     "metadata": {},
     "output_type": "execute_result"
    }
   ],
   "source": [
    "df_copy.nsmallest(n=5, columns=['hauteur_m', 'circonference_cm'])"
   ]
  },
  {
   "cell_type": "code",
   "execution_count": 340,
   "id": "e4504664-4c47-4aa4-8165-3a842b1d42ba",
   "metadata": {
    "collapsed": true,
    "jupyter": {
     "outputs_hidden": true
    }
   },
   "outputs": [
    {
     "data": {
      "text/plain": [
       "True"
      ]
     },
     "execution_count": 340,
     "metadata": {},
     "output_type": "execute_result"
    }
   ],
   "source": [
    "df_copy.equals(df_copy.sort_values(by='id'))"
   ]
  },
  {
   "cell_type": "code",
   "execution_count": 341,
   "id": "db8a886d-2645-42ea-9668-676437eed1d6",
   "metadata": {
    "collapsed": true,
    "jupyter": {
     "outputs_hidden": true
    },
    "tags": []
   },
   "outputs": [
    {
     "name": "stdout",
     "output_type": "stream",
     "text": [
      "<class 'pandas.core.frame.DataFrame'>\n",
      "RangeIndex: 200137 entries, 0 to 200136\n",
      "Data columns (total 17 columns):\n",
      " #   Column               Non-Null Count   Dtype  \n",
      "---  ------               --------------   -----  \n",
      " 0   id                   200137 non-null  int64  \n",
      " 1   type_emplacement     200137 non-null  object \n",
      " 2   domanialite          200136 non-null  object \n",
      " 3   arrondissement       200137 non-null  object \n",
      " 4   complement_addresse  30902 non-null   object \n",
      " 5   lieu                 200137 non-null  object \n",
      " 6   id_emplacement       200137 non-null  object \n",
      " 7   libelle_francais     198640 non-null  object \n",
      " 8   genre                200121 non-null  object \n",
      " 9   espece               198385 non-null  object \n",
      " 10  variete              36777 non-null   object \n",
      " 11  circonference_cm     200137 non-null  int64  \n",
      " 12  hauteur_m            200137 non-null  int64  \n",
      " 13  stade_developpement  132932 non-null  object \n",
      " 14  remarquable          137039 non-null  float64\n",
      " 15  geo_point_2d_a       200137 non-null  float64\n",
      " 16  geo_point_2d_b       200137 non-null  float64\n",
      "dtypes: float64(3), int64(3), object(11)\n",
      "memory usage: 26.0+ MB\n"
     ]
    }
   ],
   "source": [
    "df_copy.info()"
   ]
  },
  {
   "cell_type": "code",
   "execution_count": 373,
   "id": "bdf52598-3725-455e-96f3-f925e80368d5",
   "metadata": {
    "collapsed": true,
    "jupyter": {
     "outputs_hidden": true
    },
    "tags": []
   },
   "outputs": [
    {
     "data": {
      "text/plain": [
       "(39219, 17)"
      ]
     },
     "execution_count": 373,
     "metadata": {},
     "output_type": "execute_result"
    }
   ],
   "source": [
    "df_copy[df_copy.hauteur_m == 0].shape"
   ]
  },
  {
   "cell_type": "code",
   "execution_count": 374,
   "id": "4a0ad61d-7771-44bb-b6f1-a0466ae54777",
   "metadata": {
    "collapsed": true,
    "jupyter": {
     "outputs_hidden": true
    }
   },
   "outputs": [
    {
     "data": {
      "text/plain": [
       "genre\n",
       "Abelia               5.500000\n",
       "Abies                4.950000\n",
       "Acacia               3.333333\n",
       "Acca                 1.000000\n",
       "Acer                 7.049754\n",
       "                       ...   \n",
       "Zelkova              5.335260\n",
       "Ziziphus             0.000000\n",
       "x Chitalpa           3.235294\n",
       "x Cupressocyparis    5.957353\n",
       "x Sorbopyrus         0.000000\n",
       "Name: hauteur_m, Length: 175, dtype: float64"
      ]
     },
     "execution_count": 374,
     "metadata": {},
     "output_type": "execute_result"
    }
   ],
   "source": [
    "df_copy.groupby(['genre'])['hauteur_m'].mean()\n"
   ]
  },
  {
   "cell_type": "code",
   "execution_count": 393,
   "id": "87c8a29b-6354-41d4-8d56-9f83d19abe14",
   "metadata": {
    "collapsed": true,
    "jupyter": {
     "outputs_hidden": true
    },
    "tags": []
   },
   "outputs": [
    {
     "data": {
      "text/plain": [
       "Series([], Name: hauteur_m, dtype: int64)"
      ]
     },
     "execution_count": 393,
     "metadata": {},
     "output_type": "execute_result"
    }
   ],
   "source": [
    "df_copy[(df_copy.genre == 'Tetradium') & (df_copy.hauteur_m.isnull())].hauteur_m"
   ]
  },
  {
   "cell_type": "code",
   "execution_count": 395,
   "id": "546d1db6-5f81-4ddd-984e-8528e3bf7c10",
   "metadata": {
    "collapsed": true,
    "jupyter": {
     "outputs_hidden": true
    }
   },
   "outputs": [],
   "source": [
    "import numpy as np\n",
    "df_copy.hauteur_m.replace(0, np.nan, inplace=True)\n",
    "df_copy.circonference_cm.replace(0, np.nan, inplace=True)"
   ]
  },
  {
   "cell_type": "code",
   "execution_count": 396,
   "id": "a7d47c65-cbda-4f67-8dc9-9df2443dfc7b",
   "metadata": {
    "collapsed": true,
    "jupyter": {
     "outputs_hidden": true
    },
    "tags": []
   },
   "outputs": [
    {
     "data": {
      "text/plain": [
       "4        NaN\n",
       "5        NaN\n",
       "6        NaN\n",
       "56       NaN\n",
       "2181     NaN\n",
       "2182     NaN\n",
       "8954     NaN\n",
       "8959     NaN\n",
       "8960     NaN\n",
       "8961     NaN\n",
       "9009     NaN\n",
       "9089     NaN\n",
       "9192     NaN\n",
       "9374     NaN\n",
       "9375     NaN\n",
       "9376     NaN\n",
       "9377     NaN\n",
       "9378     NaN\n",
       "9379     NaN\n",
       "9380     NaN\n",
       "27550    NaN\n",
       "31269    NaN\n",
       "178858   NaN\n",
       "193320   NaN\n",
       "199579   NaN\n",
       "199581   NaN\n",
       "199583   NaN\n",
       "199586   NaN\n",
       "Name: hauteur_m, dtype: float64"
      ]
     },
     "execution_count": 396,
     "metadata": {},
     "output_type": "execute_result"
    }
   ],
   "source": [
    "df_copy[(df_copy.genre == 'Tetradium') & (df_copy.hauteur_m.isnull())].hauteur_m"
   ]
  },
  {
   "cell_type": "code",
   "execution_count": 377,
   "id": "6ac63a01-25c8-4b0f-a609-b77238ebe814",
   "metadata": {
    "collapsed": true,
    "jupyter": {
     "outputs_hidden": true
    },
    "tags": []
   },
   "outputs": [
    {
     "data": {
      "text/html": [
       "<div>\n",
       "<style scoped>\n",
       "    .dataframe tbody tr th:only-of-type {\n",
       "        vertical-align: middle;\n",
       "    }\n",
       "\n",
       "    .dataframe tbody tr th {\n",
       "        vertical-align: top;\n",
       "    }\n",
       "\n",
       "    .dataframe thead th {\n",
       "        text-align: right;\n",
       "    }\n",
       "</style>\n",
       "<table border=\"1\" class=\"dataframe\">\n",
       "  <thead>\n",
       "    <tr style=\"text-align: right;\">\n",
       "      <th></th>\n",
       "      <th>espece</th>\n",
       "      <th>genre</th>\n",
       "    </tr>\n",
       "  </thead>\n",
       "  <tbody>\n",
       "    <tr>\n",
       "      <th>10</th>\n",
       "      <td>n. sp.</td>\n",
       "      <td>Prunus</td>\n",
       "    </tr>\n",
       "    <tr>\n",
       "      <th>60</th>\n",
       "      <td>n. sp.</td>\n",
       "      <td>Thuja</td>\n",
       "    </tr>\n",
       "    <tr>\n",
       "      <th>62</th>\n",
       "      <td>n. sp.</td>\n",
       "      <td>Thuja</td>\n",
       "    </tr>\n",
       "    <tr>\n",
       "      <th>78</th>\n",
       "      <td>n. sp.</td>\n",
       "      <td>Prunus</td>\n",
       "    </tr>\n",
       "    <tr>\n",
       "      <th>79</th>\n",
       "      <td>n. sp.</td>\n",
       "      <td>Pyrus</td>\n",
       "    </tr>\n",
       "    <tr>\n",
       "      <th>...</th>\n",
       "      <td>...</td>\n",
       "      <td>...</td>\n",
       "    </tr>\n",
       "    <tr>\n",
       "      <th>200119</th>\n",
       "      <td>n. sp.</td>\n",
       "      <td>Diospyros</td>\n",
       "    </tr>\n",
       "    <tr>\n",
       "      <th>200122</th>\n",
       "      <td>n. sp.</td>\n",
       "      <td>Fraxinus</td>\n",
       "    </tr>\n",
       "    <tr>\n",
       "      <th>200128</th>\n",
       "      <td>n. sp.</td>\n",
       "      <td>Parrotia</td>\n",
       "    </tr>\n",
       "    <tr>\n",
       "      <th>200131</th>\n",
       "      <td>n. sp.</td>\n",
       "      <td>Ulmus</td>\n",
       "    </tr>\n",
       "    <tr>\n",
       "      <th>200135</th>\n",
       "      <td>n. sp.</td>\n",
       "      <td>Quercus</td>\n",
       "    </tr>\n",
       "  </tbody>\n",
       "</table>\n",
       "<p>9063 rows × 2 columns</p>\n",
       "</div>"
      ],
      "text/plain": [
       "        espece      genre\n",
       "10      n. sp.     Prunus\n",
       "60      n. sp.      Thuja\n",
       "62      n. sp.      Thuja\n",
       "78      n. sp.     Prunus\n",
       "79      n. sp.      Pyrus\n",
       "...        ...        ...\n",
       "200119  n. sp.  Diospyros\n",
       "200122  n. sp.   Fraxinus\n",
       "200128  n. sp.   Parrotia\n",
       "200131  n. sp.      Ulmus\n",
       "200135  n. sp.    Quercus\n",
       "\n",
       "[9063 rows x 2 columns]"
      ]
     },
     "execution_count": 377,
     "metadata": {},
     "output_type": "execute_result"
    }
   ],
   "source": [
    "df_copy.loc[df_copy.espece == 'n. sp.', ['espece', 'genre']]"
   ]
  },
  {
   "cell_type": "code",
   "execution_count": 380,
   "id": "94a0ba7e-68e7-4db5-a232-ce90cc49ee13",
   "metadata": {
    "collapsed": true,
    "jupyter": {
     "outputs_hidden": true
    }
   },
   "outputs": [
    {
     "data": {
      "text/plain": [
       "5302      15.0\n",
       "5477       9.0\n",
       "6169       6.0\n",
       "12721      5.0\n",
       "13388     10.0\n",
       "14220      3.0\n",
       "15086      4.0\n",
       "21238      5.0\n",
       "21793     15.0\n",
       "30404      5.0\n",
       "33287      3.0\n",
       "61787      9.0\n",
       "66452      7.0\n",
       "67470      5.0\n",
       "80413      3.0\n",
       "95217      5.0\n",
       "178465     8.0\n",
       "178579    10.0\n",
       "181805     5.0\n",
       "181806     3.0\n",
       "189005     4.0\n",
       "194199     5.0\n",
       "194201     5.0\n",
       "194202     5.0\n",
       "194233     5.0\n",
       "Name: hauteur_m, dtype: float64"
      ]
     },
     "execution_count": 380,
     "metadata": {},
     "output_type": "execute_result"
    }
   ],
   "source": [
    "df_copy[(df_copy.genre == 'Tetradium') & (df_copy.hauteur_m.notnull())].hauteur_m"
   ]
  },
  {
   "cell_type": "code",
   "execution_count": 397,
   "id": "e74272be-379f-4856-bb39-aa9a207751d1",
   "metadata": {
    "collapsed": true,
    "jupyter": {
     "outputs_hidden": true
    }
   },
   "outputs": [
    {
     "data": {
      "text/plain": [
       "6.36"
      ]
     },
     "execution_count": 397,
     "metadata": {},
     "output_type": "execute_result"
    }
   ],
   "source": [
    "df_copy[df_copy.genre == 'Tetradium'].hauteur_m.mean()"
   ]
  },
  {
   "cell_type": "code",
   "execution_count": 398,
   "id": "94a9f7f0-8ce0-42c3-a2bc-8f410dc8629f",
   "metadata": {
    "collapsed": true,
    "jupyter": {
     "outputs_hidden": true
    }
   },
   "outputs": [
    {
     "data": {
      "text/plain": [
       "6.36"
      ]
     },
     "execution_count": 398,
     "metadata": {},
     "output_type": "execute_result"
    }
   ],
   "source": [
    "df_copy[(df_copy.genre == 'Tetradium') & (df_copy.hauteur_m.notnull())].hauteur_m.mean()"
   ]
  },
  {
   "cell_type": "code",
   "execution_count": 399,
   "id": "c6a6cc13-c63a-4330-8e17-664c3d4588d9",
   "metadata": {
    "collapsed": true,
    "jupyter": {
     "outputs_hidden": true
    },
    "tags": []
   },
   "outputs": [
    {
     "data": {
      "text/plain": [
       "genre\n",
       "Abelia                5.500000\n",
       "Abies                 8.250000\n",
       "Acacia                5.000000\n",
       "Acca                  1.000000\n",
       "Acer                 10.341990\n",
       "                       ...    \n",
       "Zelkova               7.100000\n",
       "Ziziphus                   NaN\n",
       "x Chitalpa            3.437500\n",
       "x Cupressocyparis     8.864333\n",
       "x Sorbopyrus               NaN\n",
       "Name: hauteur_m, Length: 175, dtype: float64"
      ]
     },
     "execution_count": 399,
     "metadata": {},
     "output_type": "execute_result"
    }
   ],
   "source": [
    "df_copy.groupby(['genre'])['hauteur_m'].mean()"
   ]
  },
  {
   "cell_type": "code",
   "execution_count": null,
   "id": "ff185212-2703-4ccc-b2d8-790d4c6d1c90",
   "metadata": {
    "collapsed": true,
    "jupyter": {
     "outputs_hidden": true
    },
    "tags": []
   },
   "outputs": [],
   "source": [
    "# Importing important libraries\n",
    "import numpy as np\n",
    "import pandas as pd\n",
    "import seaborn as sns\n",
    "import matplotlib.pyplot as plt\n",
    "plt.style.use('seaborn')"
   ]
  },
  {
   "cell_type": "code",
   "execution_count": 401,
   "id": "b67bef29-0847-4e1b-9f26-8cc1db51c437",
   "metadata": {
    "collapsed": true,
    "jupyter": {
     "outputs_hidden": true
    }
   },
   "outputs": [],
   "source": [
    "df_tetradium = df_copy[(df_copy.genre == 'Tetradium') & (df_copy.hauteur_m.notnull())]"
   ]
  },
  {
   "cell_type": "code",
   "execution_count": 402,
   "id": "48689725-1070-4830-9862-c54357143a8b",
   "metadata": {
    "collapsed": true,
    "jupyter": {
     "outputs_hidden": true
    },
    "tags": []
   },
   "outputs": [
    {
     "data": {
      "text/plain": [
       "5302      15.0\n",
       "5477       9.0\n",
       "6169       6.0\n",
       "12721      5.0\n",
       "13388     10.0\n",
       "14220      3.0\n",
       "15086      4.0\n",
       "21238      5.0\n",
       "21793     15.0\n",
       "30404      5.0\n",
       "33287      3.0\n",
       "61787      9.0\n",
       "66452      7.0\n",
       "67470      5.0\n",
       "80413      3.0\n",
       "95217      5.0\n",
       "178465     8.0\n",
       "178579    10.0\n",
       "181805     5.0\n",
       "181806     3.0\n",
       "189005     4.0\n",
       "194199     5.0\n",
       "194201     5.0\n",
       "194202     5.0\n",
       "194233     5.0\n",
       "Name: hauteur_m, dtype: float64"
      ]
     },
     "execution_count": 402,
     "metadata": {},
     "output_type": "execute_result"
    }
   ],
   "source": [
    "df_tetradium['hauteur_m']"
   ]
  },
  {
   "cell_type": "code",
   "execution_count": 403,
   "id": "63d3c471-32d5-400f-b52b-9c62fa37bea2",
   "metadata": {
    "collapsed": true,
    "jupyter": {
     "outputs_hidden": true
    },
    "tags": []
   },
   "outputs": [
    {
     "data": {
      "image/png": "[encoded data removed]",
      "text/plain": [
       "<Figure size 500x500 with 1 Axes>"
      ]
     },
     "metadata": {},
     "output_type": "display_data"
    }
   ],
   "source": [
    "fig = plt.figure(figsize =(5, 5))\n",
    "plt.boxplot(df_tetradium['hauteur_m'])\n",
    "plt.xticks([1], ['hauteur en m'])\n",
    "plt.show()\n"
   ]
  },
  {
   "cell_type": "code",
   "execution_count": 404,
   "id": "a5dc7080-e4b8-4778-80af-1d0798b4bb1d",
   "metadata": {
    "collapsed": true,
    "jupyter": {
     "outputs_hidden": true
    },
    "tags": []
   },
   "outputs": [
    {
     "data": {
      "image/png": "[encoded data removed]",
      "text/plain": [
       "<Figure size 1500x500 with 1 Axes>"
      ]
     },
     "metadata": {},
     "output_type": "display_data"
    }
   ],
   "source": [
    "import matplotlib.pyplot as plt\n",
    "\n",
    "df_tetradium.plot(\n",
    "    kind='bar', y=['hauteur_m'], x='id', \n",
    "    title='Tree genre: tetradium',\n",
    "    figsize=(15, 5)\n",
    ").set_ylabel('Height in meters')\n",
    "plt.show()"
   ]
  },
  {
   "cell_type": "code",
   "execution_count": null,
   "id": "a51993e9-dd03-4f84-9c0c-ac2c04694e8a",
   "metadata": {
    "collapsed": true,
    "jupyter": {
     "outputs_hidden": true
    }
   },
   "outputs": [],
   "source": [
    "df_tetradium_without_outliers = df_tetradium[df_tetradium.hauteur_m.between(df_tetradium.hauteur_m.quantile(.25), df_tetradium.hauteur_m.quantile(.75))] # without outliers\n"
   ]
  },
  {
   "cell_type": "code",
   "execution_count": 345,
   "id": "34e0a246-8f01-42e9-92bc-454bff1f6c7b",
   "metadata": {
    "collapsed": true,
    "jupyter": {
     "outputs_hidden": true
    }
   },
   "outputs": [
    {
     "data": {
      "text/html": [
       "<div>\n",
       "<style scoped>\n",
       "    .dataframe tbody tr th:only-of-type {\n",
       "        vertical-align: middle;\n",
       "    }\n",
       "\n",
       "    .dataframe tbody tr th {\n",
       "        vertical-align: top;\n",
       "    }\n",
       "\n",
       "    .dataframe thead th {\n",
       "        text-align: right;\n",
       "    }\n",
       "</style>\n",
       "<table border=\"1\" class=\"dataframe\">\n",
       "  <thead>\n",
       "    <tr style=\"text-align: right;\">\n",
       "      <th></th>\n",
       "      <th>id</th>\n",
       "      <th>circonference_cm</th>\n",
       "      <th>hauteur_m</th>\n",
       "      <th>remarquable</th>\n",
       "      <th>geo_point_2d_a</th>\n",
       "      <th>geo_point_2d_b</th>\n",
       "    </tr>\n",
       "  </thead>\n",
       "  <tbody>\n",
       "    <tr>\n",
       "      <th>count</th>\n",
       "      <td>5.300000e+01</td>\n",
       "      <td>48.000000</td>\n",
       "      <td>53.000000</td>\n",
       "      <td>26.0</td>\n",
       "      <td>53.000000</td>\n",
       "      <td>53.000000</td>\n",
       "    </tr>\n",
       "    <tr>\n",
       "      <th>mean</th>\n",
       "      <td>5.631885e+05</td>\n",
       "      <td>47.270833</td>\n",
       "      <td>5.885341</td>\n",
       "      <td>0.0</td>\n",
       "      <td>48.864084</td>\n",
       "      <td>2.339530</td>\n",
       "    </tr>\n",
       "    <tr>\n",
       "      <th>std</th>\n",
       "      <td>7.954022e+05</td>\n",
       "      <td>29.746260</td>\n",
       "      <td>2.313928</td>\n",
       "      <td>0.0</td>\n",
       "      <td>0.027262</td>\n",
       "      <td>0.051027</td>\n",
       "    </tr>\n",
       "    <tr>\n",
       "      <th>min</th>\n",
       "      <td>9.987800e+04</td>\n",
       "      <td>15.000000</td>\n",
       "      <td>3.000000</td>\n",
       "      <td>0.0</td>\n",
       "      <td>48.819971</td>\n",
       "      <td>2.254727</td>\n",
       "    </tr>\n",
       "    <tr>\n",
       "      <th>25%</th>\n",
       "      <td>1.110680e+05</td>\n",
       "      <td>30.000000</td>\n",
       "      <td>5.000000</td>\n",
       "      <td>0.0</td>\n",
       "      <td>48.838415</td>\n",
       "      <td>2.314464</td>\n",
       "    </tr>\n",
       "    <tr>\n",
       "      <th>50%</th>\n",
       "      <td>1.181050e+05</td>\n",
       "      <td>38.000000</td>\n",
       "      <td>5.461538</td>\n",
       "      <td>0.0</td>\n",
       "      <td>48.872695</td>\n",
       "      <td>2.315351</td>\n",
       "    </tr>\n",
       "    <tr>\n",
       "      <th>75%</th>\n",
       "      <td>3.193330e+05</td>\n",
       "      <td>47.750000</td>\n",
       "      <td>5.461538</td>\n",
       "      <td>0.0</td>\n",
       "      <td>48.890488</td>\n",
       "      <td>2.369072</td>\n",
       "    </tr>\n",
       "    <tr>\n",
       "      <th>max</th>\n",
       "      <td>2.024195e+06</td>\n",
       "      <td>154.000000</td>\n",
       "      <td>15.000000</td>\n",
       "      <td>0.0</td>\n",
       "      <td>48.900034</td>\n",
       "      <td>2.454595</td>\n",
       "    </tr>\n",
       "  </tbody>\n",
       "</table>\n",
       "</div>"
      ],
      "text/plain": [
       "                 id  circonference_cm  hauteur_m  remarquable  geo_point_2d_a  \\\n",
       "count  5.300000e+01         48.000000  53.000000         26.0       53.000000   \n",
       "mean   5.631885e+05         47.270833   5.885341          0.0       48.864084   \n",
       "std    7.954022e+05         29.746260   2.313928          0.0        0.027262   \n",
       "min    9.987800e+04         15.000000   3.000000          0.0       48.819971   \n",
       "25%    1.110680e+05         30.000000   5.000000          0.0       48.838415   \n",
       "50%    1.181050e+05         38.000000   5.461538          0.0       48.872695   \n",
       "75%    3.193330e+05         47.750000   5.461538          0.0       48.890488   \n",
       "max    2.024195e+06        154.000000  15.000000          0.0       48.900034   \n",
       "\n",
       "       geo_point_2d_b  \n",
       "count       53.000000  \n",
       "mean         2.339530  \n",
       "std          0.051027  \n",
       "min          2.254727  \n",
       "25%          2.314464  \n",
       "50%          2.315351  \n",
       "75%          2.369072  \n",
       "max          2.454595  "
      ]
     },
     "execution_count": 345,
     "metadata": {},
     "output_type": "execute_result"
    }
   ],
   "source": [
    "df_tetradium.describe()"
   ]
  },
  {
   "cell_type": "code",
   "execution_count": 346,
   "id": "416db858-6cb2-479f-8523-2139e000c285",
   "metadata": {
    "collapsed": true,
    "jupyter": {
     "outputs_hidden": true
    }
   },
   "outputs": [
    {
     "data": {
      "text/html": [
       "<div>\n",
       "<style scoped>\n",
       "    .dataframe tbody tr th:only-of-type {\n",
       "        vertical-align: middle;\n",
       "    }\n",
       "\n",
       "    .dataframe tbody tr th {\n",
       "        vertical-align: top;\n",
       "    }\n",
       "\n",
       "    .dataframe thead th {\n",
       "        text-align: right;\n",
       "    }\n",
       "</style>\n",
       "<table border=\"1\" class=\"dataframe\">\n",
       "  <thead>\n",
       "    <tr style=\"text-align: right;\">\n",
       "      <th></th>\n",
       "      <th>id</th>\n",
       "      <th>circonference_cm</th>\n",
       "      <th>hauteur_m</th>\n",
       "      <th>remarquable</th>\n",
       "      <th>geo_point_2d_a</th>\n",
       "      <th>geo_point_2d_b</th>\n",
       "    </tr>\n",
       "  </thead>\n",
       "  <tbody>\n",
       "    <tr>\n",
       "      <th>count</th>\n",
       "      <td>1.300000e+01</td>\n",
       "      <td>13.000000</td>\n",
       "      <td>13.000000</td>\n",
       "      <td>11.0</td>\n",
       "      <td>13.000000</td>\n",
       "      <td>13.000000</td>\n",
       "    </tr>\n",
       "    <tr>\n",
       "      <th>mean</th>\n",
       "      <td>8.809405e+05</td>\n",
       "      <td>45.846154</td>\n",
       "      <td>5.461538</td>\n",
       "      <td>0.0</td>\n",
       "      <td>48.851936</td>\n",
       "      <td>2.337104</td>\n",
       "    </tr>\n",
       "    <tr>\n",
       "      <th>std</th>\n",
       "      <td>9.339968e+05</td>\n",
       "      <td>28.649742</td>\n",
       "      <td>0.967418</td>\n",
       "      <td>0.0</td>\n",
       "      <td>0.026239</td>\n",
       "      <td>0.036623</td>\n",
       "    </tr>\n",
       "    <tr>\n",
       "      <th>min</th>\n",
       "      <td>1.076250e+05</td>\n",
       "      <td>20.000000</td>\n",
       "      <td>5.000000</td>\n",
       "      <td>0.0</td>\n",
       "      <td>48.823222</td>\n",
       "      <td>2.282864</td>\n",
       "    </tr>\n",
       "    <tr>\n",
       "      <th>25%</th>\n",
       "      <td>1.352120e+05</td>\n",
       "      <td>27.000000</td>\n",
       "      <td>5.000000</td>\n",
       "      <td>0.0</td>\n",
       "      <td>48.830608</td>\n",
       "      <td>2.311733</td>\n",
       "    </tr>\n",
       "    <tr>\n",
       "      <th>50%</th>\n",
       "      <td>2.160800e+05</td>\n",
       "      <td>38.000000</td>\n",
       "      <td>5.000000</td>\n",
       "      <td>0.0</td>\n",
       "      <td>48.852126</td>\n",
       "      <td>2.351705</td>\n",
       "    </tr>\n",
       "    <tr>\n",
       "      <th>75%</th>\n",
       "      <td>2.017201e+06</td>\n",
       "      <td>50.000000</td>\n",
       "      <td>5.000000</td>\n",
       "      <td>0.0</td>\n",
       "      <td>48.872695</td>\n",
       "      <td>2.374765</td>\n",
       "    </tr>\n",
       "    <tr>\n",
       "      <th>max</th>\n",
       "      <td>2.017256e+06</td>\n",
       "      <td>110.000000</td>\n",
       "      <td>8.000000</td>\n",
       "      <td>0.0</td>\n",
       "      <td>48.900034</td>\n",
       "      <td>2.375494</td>\n",
       "    </tr>\n",
       "  </tbody>\n",
       "</table>\n",
       "</div>"
      ],
      "text/plain": [
       "                 id  circonference_cm  hauteur_m  remarquable  geo_point_2d_a  \\\n",
       "count  1.300000e+01         13.000000  13.000000         11.0       13.000000   \n",
       "mean   8.809405e+05         45.846154   5.461538          0.0       48.851936   \n",
       "std    9.339968e+05         28.649742   0.967418          0.0        0.026239   \n",
       "min    1.076250e+05         20.000000   5.000000          0.0       48.823222   \n",
       "25%    1.352120e+05         27.000000   5.000000          0.0       48.830608   \n",
       "50%    2.160800e+05         38.000000   5.000000          0.0       48.852126   \n",
       "75%    2.017201e+06         50.000000   5.000000          0.0       48.872695   \n",
       "max    2.017256e+06        110.000000   8.000000          0.0       48.900034   \n",
       "\n",
       "       geo_point_2d_b  \n",
       "count       13.000000  \n",
       "mean         2.337104  \n",
       "std          0.036623  \n",
       "min          2.282864  \n",
       "25%          2.311733  \n",
       "50%          2.351705  \n",
       "75%          2.374765  \n",
       "max          2.375494  "
      ]
     },
     "execution_count": 346,
     "metadata": {},
     "output_type": "execute_result"
    }
   ],
   "source": [
    "df_tetradium_without_outliers.describe()"
   ]
  },
  {
   "cell_type": "code",
   "execution_count": 408,
   "id": "5f3efed3-8376-44c9-bd80-f129a4840550",
   "metadata": {
    "collapsed": true,
    "jupyter": {
     "outputs_hidden": true
    }
   },
   "outputs": [],
   "source": [
    "mean_tetradium = df_tetradium_without_outliers.hauteur_m.mean()"
   ]
  },
  {
   "cell_type": "code",
   "execution_count": null,
   "id": "03dcefbd-aa35-4b6a-981a-60970462f7c2",
   "metadata": {
    "collapsed": true,
    "jupyter": {
     "outputs_hidden": true
    },
    "tags": []
   },
   "outputs": [],
   "source": [
    "df_copy.loc[(df_copy.genre == 'Tetradium'), ['hauteur_m']]"
   ]
  },
  {
   "cell_type": "code",
   "execution_count": null,
   "id": "ba281e75-6c88-40d4-a154-478e79e20405",
   "metadata": {
    "collapsed": true,
    "jupyter": {
     "outputs_hidden": true
    }
   },
   "outputs": [],
   "source": [
    "df_copy.loc[(df_copy.genre == 'Tetradium') & (df_copy.hauteur_m.isnull()), ['hauteur_m']] = mean_tetradium"
   ]
  },
  {
   "cell_type": "code",
   "execution_count": null,
   "id": "e3c2ccae-b923-42c3-b436-ed9c62ee9785",
   "metadata": {
    "collapsed": true,
    "jupyter": {
     "outputs_hidden": true
    },
    "tags": []
   },
   "outputs": [],
   "source": [
    "df_copy.loc[(df_copy.genre == 'Tetradium'), ['hauteur_m']]"
   ]
  },
  {
   "cell_type": "code",
   "execution_count": 407,
   "id": "02c2a3f6-f96c-49c9-9037-f52c7f48f657",
   "metadata": {
    "collapsed": true,
    "jupyter": {
     "outputs_hidden": true
    }
   },
   "outputs": [
    {
     "data": {
      "image/png": "[encoded data removed]",
      "text/plain": [
       "<Figure size 1500x500 with 1 Axes>"
      ]
     },
     "metadata": {},
     "output_type": "display_data"
    }
   ],
   "source": [
    "import matplotlib.pyplot as plt\n",
    "\n",
    "df_tetradium_without_outliers.plot(\n",
    "    kind='bar', y=['hauteur_m'], x='id', \n",
    "    title='Tree genre: tetradium',\n",
    "    figsize=(15, 5)\n",
    ").set_ylabel('Height in meters')\n",
    "plt.show()"
   ]
  },
  {
   "cell_type": "code",
   "execution_count": 412,
   "id": "d4be67f1-d887-4176-b12b-88281c73097c",
   "metadata": {
    "collapsed": true,
    "jupyter": {
     "outputs_hidden": true
    }
   },
   "outputs": [],
   "source": [
    "data = {'state': ['Ohio', 'Ohio', 'Ohio', 'Nevada', 'Nevada', 'Nevada'],\n",
    "           'year': [2000, 2001, 2002, 2001, 2002, 2003],\n",
    "           'pop': [1.5, 1.7, 3.6, 2.4, 2.9, 3.2]}\n",
    "frame = pd.DataFrame(data)"
   ]
  },
  {
   "cell_type": "code",
   "execution_count": 413,
   "id": "87a9109e-9ea8-4b7e-a390-b31c692044e0",
   "metadata": {
    "collapsed": true,
    "jupyter": {
     "outputs_hidden": true
    }
   },
   "outputs": [
    {
     "data": {
      "text/html": [
       "<div>\n",
       "<style scoped>\n",
       "    .dataframe tbody tr th:only-of-type {\n",
       "        vertical-align: middle;\n",
       "    }\n",
       "\n",
       "    .dataframe tbody tr th {\n",
       "        vertical-align: top;\n",
       "    }\n",
       "\n",
       "    .dataframe thead th {\n",
       "        text-align: right;\n",
       "    }\n",
       "</style>\n",
       "<table border=\"1\" class=\"dataframe\">\n",
       "  <thead>\n",
       "    <tr style=\"text-align: right;\">\n",
       "      <th></th>\n",
       "      <th>state</th>\n",
       "      <th>year</th>\n",
       "      <th>pop</th>\n",
       "    </tr>\n",
       "  </thead>\n",
       "  <tbody>\n",
       "    <tr>\n",
       "      <th>0</th>\n",
       "      <td>Ohio</td>\n",
       "      <td>2000</td>\n",
       "      <td>1.5</td>\n",
       "    </tr>\n",
       "    <tr>\n",
       "      <th>1</th>\n",
       "      <td>Ohio</td>\n",
       "      <td>2001</td>\n",
       "      <td>1.7</td>\n",
       "    </tr>\n",
       "    <tr>\n",
       "      <th>2</th>\n",
       "      <td>Ohio</td>\n",
       "      <td>2002</td>\n",
       "      <td>3.6</td>\n",
       "    </tr>\n",
       "    <tr>\n",
       "      <th>3</th>\n",
       "      <td>Nevada</td>\n",
       "      <td>2001</td>\n",
       "      <td>2.4</td>\n",
       "    </tr>\n",
       "    <tr>\n",
       "      <th>4</th>\n",
       "      <td>Nevada</td>\n",
       "      <td>2002</td>\n",
       "      <td>2.9</td>\n",
       "    </tr>\n",
       "    <tr>\n",
       "      <th>5</th>\n",
       "      <td>Nevada</td>\n",
       "      <td>2003</td>\n",
       "      <td>3.2</td>\n",
       "    </tr>\n",
       "  </tbody>\n",
       "</table>\n",
       "</div>"
      ],
      "text/plain": [
       "    state  year  pop\n",
       "0    Ohio  2000  1.5\n",
       "1    Ohio  2001  1.7\n",
       "2    Ohio  2002  3.6\n",
       "3  Nevada  2001  2.4\n",
       "4  Nevada  2002  2.9\n",
       "5  Nevada  2003  3.2"
      ]
     },
     "execution_count": 413,
     "metadata": {},
     "output_type": "execute_result"
    }
   ],
   "source": [
    "frame"
   ]
  },
  {
   "cell_type": "code",
   "execution_count": 414,
   "id": "3369996b-21d9-411f-8375-d19b2d0f6f4f",
   "metadata": {
    "collapsed": true,
    "jupyter": {
     "outputs_hidden": true
    }
   },
   "outputs": [
    {
     "data": {
      "text/html": [
       "<div>\n",
       "<style scoped>\n",
       "    .dataframe tbody tr th:only-of-type {\n",
       "        vertical-align: middle;\n",
       "    }\n",
       "\n",
       "    .dataframe tbody tr th {\n",
       "        vertical-align: top;\n",
       "    }\n",
       "\n",
       "    .dataframe thead th {\n",
       "        text-align: right;\n",
       "    }\n",
       "</style>\n",
       "<table border=\"1\" class=\"dataframe\">\n",
       "  <thead>\n",
       "    <tr style=\"text-align: right;\">\n",
       "      <th></th>\n",
       "      <th>state</th>\n",
       "      <th>year</th>\n",
       "      <th>pop</th>\n",
       "    </tr>\n",
       "  </thead>\n",
       "  <tbody>\n",
       "    <tr>\n",
       "      <th>0</th>\n",
       "      <td>Ohio</td>\n",
       "      <td>2000</td>\n",
       "      <td>1.5</td>\n",
       "    </tr>\n",
       "    <tr>\n",
       "      <th>1</th>\n",
       "      <td>Ohio</td>\n",
       "      <td>2001</td>\n",
       "      <td>1.7</td>\n",
       "    </tr>\n",
       "    <tr>\n",
       "      <th>2</th>\n",
       "      <td>Ohio</td>\n",
       "      <td>2002</td>\n",
       "      <td>3.6</td>\n",
       "    </tr>\n",
       "    <tr>\n",
       "      <th>3</th>\n",
       "      <td>Nevada</td>\n",
       "      <td>2001</td>\n",
       "      <td>2.4</td>\n",
       "    </tr>\n",
       "    <tr>\n",
       "      <th>4</th>\n",
       "      <td>Nevada</td>\n",
       "      <td>2002</td>\n",
       "      <td>2.9</td>\n",
       "    </tr>\n",
       "  </tbody>\n",
       "</table>\n",
       "</div>"
      ],
      "text/plain": [
       "    state  year  pop\n",
       "0    Ohio  2000  1.5\n",
       "1    Ohio  2001  1.7\n",
       "2    Ohio  2002  3.6\n",
       "3  Nevada  2001  2.4\n",
       "4  Nevada  2002  2.9"
      ]
     },
     "execution_count": 414,
     "metadata": {},
     "output_type": "execute_result"
    }
   ],
   "source": [
    "frame.head()"
   ]
  },
  {
   "cell_type": "code",
   "execution_count": 417,
   "id": "832cd78d-216e-4c2f-86fa-25b79a2ed9fe",
   "metadata": {
    "collapsed": true,
    "jupyter": {
     "outputs_hidden": true
    }
   },
   "outputs": [],
   "source": [
    "frame2 = pd.DataFrame(data, columns=['year', 'pop', 'bar'])"
   ]
  },
  {
   "cell_type": "code",
   "execution_count": 418,
   "id": "48f025d7-156f-46c3-87fc-c9e7d9449f78",
   "metadata": {
    "collapsed": true,
    "jupyter": {
     "outputs_hidden": true
    }
   },
   "outputs": [
    {
     "data": {
      "text/html": [
       "<div>\n",
       "<style scoped>\n",
       "    .dataframe tbody tr th:only-of-type {\n",
       "        vertical-align: middle;\n",
       "    }\n",
       "\n",
       "    .dataframe tbody tr th {\n",
       "        vertical-align: top;\n",
       "    }\n",
       "\n",
       "    .dataframe thead th {\n",
       "        text-align: right;\n",
       "    }\n",
       "</style>\n",
       "<table border=\"1\" class=\"dataframe\">\n",
       "  <thead>\n",
       "    <tr style=\"text-align: right;\">\n",
       "      <th></th>\n",
       "      <th>year</th>\n",
       "      <th>pop</th>\n",
       "      <th>bar</th>\n",
       "    </tr>\n",
       "  </thead>\n",
       "  <tbody>\n",
       "    <tr>\n",
       "      <th>0</th>\n",
       "      <td>2000</td>\n",
       "      <td>1.5</td>\n",
       "      <td>NaN</td>\n",
       "    </tr>\n",
       "    <tr>\n",
       "      <th>1</th>\n",
       "      <td>2001</td>\n",
       "      <td>1.7</td>\n",
       "      <td>NaN</td>\n",
       "    </tr>\n",
       "    <tr>\n",
       "      <th>2</th>\n",
       "      <td>2002</td>\n",
       "      <td>3.6</td>\n",
       "      <td>NaN</td>\n",
       "    </tr>\n",
       "    <tr>\n",
       "      <th>3</th>\n",
       "      <td>2001</td>\n",
       "      <td>2.4</td>\n",
       "      <td>NaN</td>\n",
       "    </tr>\n",
       "    <tr>\n",
       "      <th>4</th>\n",
       "      <td>2002</td>\n",
       "      <td>2.9</td>\n",
       "      <td>NaN</td>\n",
       "    </tr>\n",
       "    <tr>\n",
       "      <th>5</th>\n",
       "      <td>2003</td>\n",
       "      <td>3.2</td>\n",
       "      <td>NaN</td>\n",
       "    </tr>\n",
       "  </tbody>\n",
       "</table>\n",
       "</div>"
      ],
      "text/plain": [
       "   year  pop  bar\n",
       "0  2000  1.5  NaN\n",
       "1  2001  1.7  NaN\n",
       "2  2002  3.6  NaN\n",
       "3  2001  2.4  NaN\n",
       "4  2002  2.9  NaN\n",
       "5  2003  3.2  NaN"
      ]
     },
     "execution_count": 418,
     "metadata": {},
     "output_type": "execute_result"
    }
   ],
   "source": [
    "frame2"
   ]
  },
  {
   "cell_type": "code",
   "execution_count": 419,
   "id": "e0908e13-559e-412c-9cd8-eef5f6498633",
   "metadata": {
    "collapsed": true,
    "jupyter": {
     "outputs_hidden": true
    }
   },
   "outputs": [
    {
     "data": {
      "text/plain": [
       "0    2000\n",
       "1    2001\n",
       "2    2002\n",
       "3    2001\n",
       "4    2002\n",
       "5    2003\n",
       "Name: year, dtype: int64"
      ]
     },
     "execution_count": 419,
     "metadata": {},
     "output_type": "execute_result"
    }
   ],
   "source": [
    "frame.year"
   ]
  },
  {
   "cell_type": "code",
   "execution_count": 420,
   "id": "8eab89c3-2156-435f-88a9-00806228b20d",
   "metadata": {
    "collapsed": true,
    "jupyter": {
     "outputs_hidden": true
    }
   },
   "outputs": [
    {
     "data": {
      "text/plain": [
       "0    2000\n",
       "1    2001\n",
       "2    2002\n",
       "3    2001\n",
       "4    2002\n",
       "5    2003\n",
       "Name: year, dtype: int64"
      ]
     },
     "execution_count": 420,
     "metadata": {},
     "output_type": "execute_result"
    }
   ],
   "source": [
    "frame['year']"
   ]
  },
  {
   "cell_type": "code",
   "execution_count": 424,
   "id": "5d5f07c6-d311-4316-894c-e01f5a69b41b",
   "metadata": {
    "collapsed": true,
    "jupyter": {
     "outputs_hidden": true
    }
   },
   "outputs": [],
   "source": [
    "frame2 = pd.DataFrame(data, index=['one', 'two', 'three', 'four', 'five', 'six'])"
   ]
  },
  {
   "cell_type": "code",
   "execution_count": 425,
   "id": "87ec8fd3-7516-47e8-b402-294ae50a784a",
   "metadata": {
    "collapsed": true,
    "jupyter": {
     "outputs_hidden": true
    }
   },
   "outputs": [
    {
     "data": {
      "text/html": [
       "<div>\n",
       "<style scoped>\n",
       "    .dataframe tbody tr th:only-of-type {\n",
       "        vertical-align: middle;\n",
       "    }\n",
       "\n",
       "    .dataframe tbody tr th {\n",
       "        vertical-align: top;\n",
       "    }\n",
       "\n",
       "    .dataframe thead th {\n",
       "        text-align: right;\n",
       "    }\n",
       "</style>\n",
       "<table border=\"1\" class=\"dataframe\">\n",
       "  <thead>\n",
       "    <tr style=\"text-align: right;\">\n",
       "      <th></th>\n",
       "      <th>state</th>\n",
       "      <th>year</th>\n",
       "      <th>pop</th>\n",
       "    </tr>\n",
       "  </thead>\n",
       "  <tbody>\n",
       "    <tr>\n",
       "      <th>one</th>\n",
       "      <td>Ohio</td>\n",
       "      <td>2000</td>\n",
       "      <td>1.5</td>\n",
       "    </tr>\n",
       "    <tr>\n",
       "      <th>two</th>\n",
       "      <td>Ohio</td>\n",
       "      <td>2001</td>\n",
       "      <td>1.7</td>\n",
       "    </tr>\n",
       "    <tr>\n",
       "      <th>three</th>\n",
       "      <td>Ohio</td>\n",
       "      <td>2002</td>\n",
       "      <td>3.6</td>\n",
       "    </tr>\n",
       "    <tr>\n",
       "      <th>four</th>\n",
       "      <td>Nevada</td>\n",
       "      <td>2001</td>\n",
       "      <td>2.4</td>\n",
       "    </tr>\n",
       "    <tr>\n",
       "      <th>five</th>\n",
       "      <td>Nevada</td>\n",
       "      <td>2002</td>\n",
       "      <td>2.9</td>\n",
       "    </tr>\n",
       "    <tr>\n",
       "      <th>six</th>\n",
       "      <td>Nevada</td>\n",
       "      <td>2003</td>\n",
       "      <td>3.2</td>\n",
       "    </tr>\n",
       "  </tbody>\n",
       "</table>\n",
       "</div>"
      ],
      "text/plain": [
       "        state  year  pop\n",
       "one      Ohio  2000  1.5\n",
       "two      Ohio  2001  1.7\n",
       "three    Ohio  2002  3.6\n",
       "four   Nevada  2001  2.4\n",
       "five   Nevada  2002  2.9\n",
       "six    Nevada  2003  3.2"
      ]
     },
     "execution_count": 425,
     "metadata": {},
     "output_type": "execute_result"
    }
   ],
   "source": [
    "frame2"
   ]
  },
  {
   "cell_type": "code",
   "execution_count": 429,
   "id": "fec9723b-73ff-4492-b8f4-fddcde8e4c5c",
   "metadata": {
    "collapsed": true,
    "jupyter": {
     "outputs_hidden": true
    }
   },
   "outputs": [
    {
     "data": {
      "text/plain": [
       "state    Ohio\n",
       "year     2000\n",
       "pop       1.5\n",
       "Name: one, dtype: object"
      ]
     },
     "execution_count": 429,
     "metadata": {},
     "output_type": "execute_result"
    }
   ],
   "source": [
    "frame2.loc['one']"
   ]
  },
  {
   "cell_type": "code",
   "execution_count": 428,
   "id": "ee222cf6-cad7-4352-acdb-369de3e109ad",
   "metadata": {
    "collapsed": true,
    "jupyter": {
     "outputs_hidden": true
    }
   },
   "outputs": [
    {
     "data": {
      "text/html": [
       "<div>\n",
       "<style scoped>\n",
       "    .dataframe tbody tr th:only-of-type {\n",
       "        vertical-align: middle;\n",
       "    }\n",
       "\n",
       "    .dataframe tbody tr th {\n",
       "        vertical-align: top;\n",
       "    }\n",
       "\n",
       "    .dataframe thead th {\n",
       "        text-align: right;\n",
       "    }\n",
       "</style>\n",
       "<table border=\"1\" class=\"dataframe\">\n",
       "  <thead>\n",
       "    <tr style=\"text-align: right;\">\n",
       "      <th></th>\n",
       "      <th>state</th>\n",
       "      <th>year</th>\n",
       "      <th>pop</th>\n",
       "    </tr>\n",
       "  </thead>\n",
       "  <tbody>\n",
       "    <tr>\n",
       "      <th>one</th>\n",
       "      <td>Ohio</td>\n",
       "      <td>2000</td>\n",
       "      <td>1.5</td>\n",
       "    </tr>\n",
       "    <tr>\n",
       "      <th>two</th>\n",
       "      <td>Ohio</td>\n",
       "      <td>2001</td>\n",
       "      <td>1.7</td>\n",
       "    </tr>\n",
       "  </tbody>\n",
       "</table>\n",
       "</div>"
      ],
      "text/plain": [
       "    state  year  pop\n",
       "one  Ohio  2000  1.5\n",
       "two  Ohio  2001  1.7"
      ]
     },
     "execution_count": 428,
     "metadata": {},
     "output_type": "execute_result"
    }
   ],
   "source": [
    "frame2.loc[['one','two']]"
   ]
  },
  {
   "cell_type": "code",
   "execution_count": 9,
   "id": "9570b80d-8f41-4bd9-8532-07df28ab952d",
   "metadata": {
    "collapsed": true,
    "jupyter": {
     "outputs_hidden": true
    }
   },
   "outputs": [
    {
     "data": {
      "text/plain": [
       "Index(['id', 'type_emplacement', 'domanialite', 'arrondissement',\n",
       "       'complement_addresse', 'numero', 'lieu', 'id_emplacement',\n",
       "       'libelle_francais', 'genre', 'espece', 'variete', 'circonference_cm',\n",
       "       'hauteur_m', 'stade_developpement', 'remarquable', 'geo_point_2d_a',\n",
       "       'geo_point_2d_b'],\n",
       "      dtype='object')"
      ]
     },
     "execution_count": 9,
     "metadata": {},
     "output_type": "execute_result"
    }
   ],
   "source": [
    "df.columns"
   ]
  },
  {
   "cell_type": "code",
   "execution_count": 43,
   "id": "5833e16c-f42f-4ee8-83e1-52a17ad25120",
   "metadata": {
    "collapsed": true,
    "jupyter": {
     "outputs_hidden": true
    }
   },
   "outputs": [],
   "source": [
    "df.numero.fillna(0, inplace=True)"
   ]
  },
  {
   "cell_type": "code",
   "execution_count": 48,
   "id": "40f6a640-1b20-420b-9a7d-54aa939729be",
   "metadata": {
    "collapsed": true,
    "jupyter": {
     "outputs_hidden": true
    }
   },
   "outputs": [
    {
     "data": {
      "text/html": [
       "<div>\n",
       "<style scoped>\n",
       "    .dataframe tbody tr th:only-of-type {\n",
       "        vertical-align: middle;\n",
       "    }\n",
       "\n",
       "    .dataframe tbody tr th {\n",
       "        vertical-align: top;\n",
       "    }\n",
       "\n",
       "    .dataframe thead th {\n",
       "        text-align: right;\n",
       "    }\n",
       "</style>\n",
       "<table border=\"1\" class=\"dataframe\">\n",
       "  <thead>\n",
       "    <tr style=\"text-align: right;\">\n",
       "      <th></th>\n",
       "      <th>id</th>\n",
       "      <th>type_emplacement</th>\n",
       "      <th>domanialite</th>\n",
       "      <th>arrondissement</th>\n",
       "      <th>complement_addresse</th>\n",
       "      <th>numero</th>\n",
       "      <th>lieu</th>\n",
       "      <th>id_emplacement</th>\n",
       "      <th>libelle_francais</th>\n",
       "      <th>genre</th>\n",
       "      <th>espece</th>\n",
       "      <th>variete</th>\n",
       "      <th>circonference_cm</th>\n",
       "      <th>hauteur_m</th>\n",
       "      <th>stade_developpement</th>\n",
       "      <th>remarquable</th>\n",
       "      <th>geo_point_2d_a</th>\n",
       "      <th>geo_point_2d_b</th>\n",
       "    </tr>\n",
       "  </thead>\n",
       "  <tbody>\n",
       "  </tbody>\n",
       "</table>\n",
       "</div>"
      ],
      "text/plain": [
       "Empty DataFrame\n",
       "Columns: [id, type_emplacement, domanialite, arrondissement, complement_addresse, numero, lieu, id_emplacement, libelle_francais, genre, espece, variete, circonference_cm, hauteur_m, stade_developpement, remarquable, geo_point_2d_a, geo_point_2d_b]\n",
       "Index: []"
      ]
     },
     "execution_count": 48,
     "metadata": {},
     "output_type": "execute_result"
    }
   ],
   "source": [
    "df[df.duplicated()]"
   ]
  },
  {
   "cell_type": "code",
   "execution_count": 55,
   "id": "e9794611-acd2-4cc8-9d6b-e4b934c31e50",
   "metadata": {
    "collapsed": true,
    "jupyter": {
     "outputs_hidden": true
    }
   },
   "outputs": [
    {
     "data": {
      "text/plain": [
       "Series([], Name: hauteur_m, dtype: float64)"
      ]
     },
     "execution_count": 55,
     "metadata": {},
     "output_type": "execute_result"
    }
   ],
   "source": [
    "df.hauteur_m[df.hauteur_m.between(35, 40)]"
   ]
  },
  {
   "cell_type": "code",
   "execution_count": 53,
   "id": "6e08b3a8-258d-492d-826c-b8ddb813c6a6",
   "metadata": {
    "collapsed": true,
    "jupyter": {
     "outputs_hidden": true
    }
   },
   "outputs": [
    {
     "data": {
      "text/plain": [
       "0         20.0\n",
       "1         65.0\n",
       "2         90.0\n",
       "3         60.0\n",
       "4         38.0\n",
       "          ... \n",
       "200132     NaN\n",
       "200133     NaN\n",
       "200134     NaN\n",
       "200135     NaN\n",
       "200136     NaN\n",
       "Name: circonference_cm, Length: 200137, dtype: float64"
      ]
     },
     "execution_count": 53,
     "metadata": {},
     "output_type": "execute_result"
    }
   ],
   "source": [
    "import numpy as np\n",
    "df.hauteur_m.replace([0, ], np.nan)\n",
    "df['hauteur_m'].mask((df['hauteur_m'] >=35) | (df['hauteur_m'] == 0), np.nan, inplace=True)\n",
    "\n",
    "df.circonference_cm.replace(0, np.nan)"
   ]
  },
  {
   "cell_type": "code",
   "execution_count": 69,
   "id": "e603a2b0-3757-44d3-ae47-7238eb1087ff",
   "metadata": {
    "collapsed": true,
    "jupyter": {
     "outputs_hidden": true
    }
   },
   "outputs": [
    {
     "data": {
      "text/html": [
       "<div>\n",
       "<style scoped>\n",
       "    .dataframe tbody tr th:only-of-type {\n",
       "        vertical-align: middle;\n",
       "    }\n",
       "\n",
       "    .dataframe tbody tr th {\n",
       "        vertical-align: top;\n",
       "    }\n",
       "\n",
       "    .dataframe thead th {\n",
       "        text-align: right;\n",
       "    }\n",
       "</style>\n",
       "<table border=\"1\" class=\"dataframe\">\n",
       "  <thead>\n",
       "    <tr style=\"text-align: right;\">\n",
       "      <th></th>\n",
       "      <th>HAUTEUR_M</th>\n",
       "    </tr>\n",
       "  </thead>\n",
       "  <tbody>\n",
       "    <tr>\n",
       "      <th>4518</th>\n",
       "      <td>40.0</td>\n",
       "    </tr>\n",
       "    <tr>\n",
       "      <th>4524</th>\n",
       "      <td>40.0</td>\n",
       "    </tr>\n",
       "    <tr>\n",
       "      <th>4534</th>\n",
       "      <td>45.0</td>\n",
       "    </tr>\n",
       "    <tr>\n",
       "      <th>4537</th>\n",
       "      <td>45.0</td>\n",
       "    </tr>\n",
       "    <tr>\n",
       "      <th>4553</th>\n",
       "      <td>40.0</td>\n",
       "    </tr>\n",
       "    <tr>\n",
       "      <th>...</th>\n",
       "      <td>...</td>\n",
       "    </tr>\n",
       "    <tr>\n",
       "      <th>194157</th>\n",
       "      <td>50.0</td>\n",
       "    </tr>\n",
       "    <tr>\n",
       "      <th>194182</th>\n",
       "      <td>65.0</td>\n",
       "    </tr>\n",
       "    <tr>\n",
       "      <th>194812</th>\n",
       "      <td>65.0</td>\n",
       "    </tr>\n",
       "    <tr>\n",
       "      <th>197026</th>\n",
       "      <td>65.0</td>\n",
       "    </tr>\n",
       "    <tr>\n",
       "      <th>197060</th>\n",
       "      <td>55.0</td>\n",
       "    </tr>\n",
       "  </tbody>\n",
       "</table>\n",
       "<p>157 rows × 1 columns</p>\n",
       "</div>"
      ],
      "text/plain": [
       "        HAUTEUR_M\n",
       "4518         40.0\n",
       "4524         40.0\n",
       "4534         45.0\n",
       "4537         45.0\n",
       "4553         40.0\n",
       "...           ...\n",
       "194157       50.0\n",
       "194182       65.0\n",
       "194812       65.0\n",
       "197026       65.0\n",
       "197060       55.0\n",
       "\n",
       "[157 rows x 1 columns]"
      ]
     },
     "execution_count": 69,
     "metadata": {},
     "output_type": "execute_result"
    }
   ],
   "source": [
    "df.loc[(df.HAUTEUR_M >= 40), ['HAUTEUR_M']]"
   ]
  },
  {
   "cell_type": "code",
   "execution_count": 65,
   "id": "553ae2c0-3ff7-4f80-afd6-914313db4fdf",
   "metadata": {
    "collapsed": true,
    "jupyter": {
     "outputs_hidden": true
    }
   },
   "outputs": [],
   "source": [
    "df.loc[df['HAUTEUR_M'] >= 70, 'HAUTEUR_M'] = np.nan"
   ]
  },
  {
   "cell_type": "code",
   "execution_count": 70,
   "id": "ad1f505f-ffe1-406c-a991-2ea1c5b79ae1",
   "metadata": {
    "collapsed": true,
    "jupyter": {
     "outputs_hidden": true
    }
   },
   "outputs": [],
   "source": [
    "by_genre = df.groupby(['genre'])"
   ]
  },
  {
   "cell_type": "code",
   "execution_count": 74,
   "id": "911e6c64-2ce1-4dfc-a4d0-6e9e2ccb683a",
   "metadata": {
    "collapsed": true,
    "jupyter": {
     "outputs_hidden": true
    }
   },
   "outputs": [
    {
     "name": "stdout",
     "output_type": "stream",
     "text": [
      "<class 'pandas.core.frame.DataFrame'>\n",
      "RangeIndex: 200137 entries, 0 to 200136\n",
      "Data columns (total 18 columns):\n",
      " #   Column               Non-Null Count   Dtype  \n",
      "---  ------               --------------   -----  \n",
      " 0   id                   200137 non-null  int64  \n",
      " 1   type_emplacement     200137 non-null  object \n",
      " 2   domanialite          200136 non-null  object \n",
      " 3   arrondissement       200137 non-null  object \n",
      " 4   complement_addresse  30902 non-null   object \n",
      " 5   numero               200137 non-null  int64  \n",
      " 6   lieu                 200137 non-null  object \n",
      " 7   id_emplacement       200137 non-null  object \n",
      " 8   libelle_francais     198640 non-null  object \n",
      " 9   genre                200121 non-null  object \n",
      " 10  espece               198385 non-null  object \n",
      " 11  variete              36777 non-null   object \n",
      " 12  circonference_cm     200137 non-null  int64  \n",
      " 13  hauteur_m            160384 non-null  float64\n",
      " 14  stade_developpement  132932 non-null  object \n",
      " 15  remarquable          137039 non-null  float64\n",
      " 16  geo_point_2d_a       200137 non-null  float64\n",
      " 17  geo_point_2d_b       200137 non-null  float64\n",
      "dtypes: float64(4), int64(3), object(11)\n",
      "memory usage: 27.5+ MB\n"
     ]
    }
   ],
   "source": [
    "df.info()"
   ]
  },
  {
   "cell_type": "code",
   "execution_count": 75,
   "id": "43f4ff4d-1da0-4f9f-941f-fae5642636d7",
   "metadata": {
    "collapsed": true,
    "jupyter": {
     "outputs_hidden": true
    }
   },
   "outputs": [
    {
     "data": {
      "text/plain": [
       "0     Aesculus\n",
       "1        Taxus\n",
       "2        Taxus\n",
       "3         Acer\n",
       "4    Tetradium\n",
       "5    Tetradium\n",
       "6    Tetradium\n",
       "7     Platanus\n",
       "8      Sophora\n",
       "9      Sophora\n",
       "Name: genre, dtype: object"
      ]
     },
     "execution_count": 75,
     "metadata": {},
     "output_type": "execute_result"
    }
   ],
   "source": [
    "df.genre[:10]"
   ]
  },
  {
   "cell_type": "code",
   "execution_count": 76,
   "id": "a9db7aa6-2bd8-46c6-ae77-cfeea6455b0c",
   "metadata": {
    "collapsed": true,
    "jupyter": {
     "outputs_hidden": true
    }
   },
   "outputs": [],
   "source": [
    "genre_counts = df['genre'].value_counts()"
   ]
  },
  {
   "cell_type": "code",
   "execution_count": 83,
   "id": "b4e16f37-325b-4626-8f7c-23f6ff3ccff4",
   "metadata": {
    "collapsed": true,
    "jupyter": {
     "outputs_hidden": true
    }
   },
   "outputs": [
    {
     "name": "stdout",
     "output_type": "stream",
     "text": [
      "Platanus        42591\n",
      "Aesculus        25341\n",
      "Tilia           21550\n",
      "Acer            18471\n",
      "Sophora         11830\n",
      "                ...  \n",
      "Sycopsis            1\n",
      "Enkianthus          1\n",
      "Euscaphis           1\n",
      "Phyllanthus         1\n",
      "Washingtonia        1\n",
      "Name: genre, Length: 175, dtype: int64\n"
     ]
    }
   ],
   "source": [
    "print(genre_counts)"
   ]
  },
  {
   "cell_type": "code",
   "execution_count": 88,
   "id": "c08af247-f28d-447c-9363-e38c1586e5f4",
   "metadata": {
    "collapsed": true,
    "jupyter": {
     "outputs_hidden": true
    }
   },
   "outputs": [
    {
     "data": {
      "text/plain": [
       "<AxesSubplot: >"
      ]
     },
     "execution_count": 88,
     "metadata": {},
     "output_type": "execute_result"
    },
    {
     "data": {
      "image/png": "[encoded data removed]",
      "text/plain": [
       "<Figure size 640x480 with 1 Axes>"
      ]
     },
     "metadata": {},
     "output_type": "display_data"
    }
   ],
   "source": [
    "import seaborn as sns\n",
    "subset = genre_counts[:30]\n",
    "sns.barplot(y=subset.index, x=subset.values)"
   ]
  },
  {
   "cell_type": "code",
   "execution_count": 89,
   "id": "486513cb-496b-4d27-bb89-3199399af8bb",
   "metadata": {
    "collapsed": true,
    "jupyter": {
     "outputs_hidden": true
    }
   },
   "outputs": [],
   "source": [
    "by_genre = df.groupby(['genre'])"
   ]
  },
  {
   "cell_type": "code",
   "execution_count": 92,
   "id": "929da3e4-4716-4abe-b88c-fb22b780720f",
   "metadata": {
    "collapsed": true,
    "jupyter": {
     "outputs_hidden": true
    }
   },
   "outputs": [],
   "source": [
    "agg_counts = by_genre.size()"
   ]
  },
  {
   "cell_type": "code",
   "execution_count": 97,
   "id": "523bd42d-67fb-4b6c-bf4f-d11f3c4d31d7",
   "metadata": {
    "collapsed": true,
    "jupyter": {
     "outputs_hidden": true
    }
   },
   "outputs": [
    {
     "data": {
      "text/plain": [
       "1143.5485714285714"
      ]
     },
     "execution_count": 97,
     "metadata": {},
     "output_type": "execute_result"
    }
   ],
   "source": [
    "agg_counts.sort_values(ascending=False).mean()"
   ]
  },
  {
   "cell_type": "code",
   "execution_count": 86,
   "id": "4659bcd1-1728-42c3-b473-70ff5f960af7",
   "metadata": {
    "collapsed": true,
    "jupyter": {
     "outputs_hidden": true
    }
   },
   "outputs": [
    {
     "data": {
      "text/plain": [
       "['aaa', 'bb', 'aa', 'ccc']"
      ]
     },
     "execution_count": 86,
     "metadata": {},
     "output_type": "execute_result"
    }
   ],
   "source": [
    "text = \"aaabbaaccc\"\n",
    "\n",
    "from itertools import groupby\n",
    "[''.join(g) for _, g in groupby(text)]"
   ]
  }
 ],
 "metadata": {
  "kernelspec": {
   "display_name": "Python 3 (ipykernel)",
   "language": "python",
   "name": "python3"
  },
  "language_info": {
   "codemirror_mode": {
    "name": "ipython",
    "version": 3
   },
   "file_extension": ".py",
   "mimetype": "text/x-python",
   "name": "python",
   "nbconvert_exporter": "python",
   "pygments_lexer": "ipython3",
   "version": "3.10.4"
  }
 },
 "nbformat": 4,
 "nbformat_minor": 5
}
