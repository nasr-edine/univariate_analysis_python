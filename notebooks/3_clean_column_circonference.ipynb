{
 "cells": [
  {
   "cell_type": "code",
   "execution_count": 1,
   "id": "05d59887-a9e1-4971-bf8c-8b7dd5663b7a",
   "metadata": {
    "tags": []
   },
   "outputs": [],
   "source": [
    "%%capture\n",
    "%run ./2_clean_column_hauteur.ipynb"
   ]
  },
  {
   "cell_type": "markdown",
   "id": "8293a0c6-3c30-4177-947c-03a11369b0c8",
   "metadata": {
    "tags": []
   },
   "source": [
    "## Mark Missing Values"
   ]
  },
  {
   "cell_type": "markdown",
   "id": "135fcf42-8224-4a62-a00a-92426b199558",
   "metadata": {},
   "source": [
    "A value of zero does not make sense for the height of a tree and indicates an invalid or missing value"
   ]
  },
  {
   "cell_type": "code",
   "execution_count": 2,
   "id": "4ce0cec0-a2e9-447e-a665-bb10aa88cdfa",
   "metadata": {},
   "outputs": [
    {
     "name": "stdout",
     "output_type": "stream",
     "text": [
      "hauteur_m           0\n",
      "circonference_cm    0\n",
      "dtype: int64\n"
     ]
    }
   ],
   "source": [
    "# count the number of values equal to 0 for each column\n",
    "num_missing = (df[['hauteur_m', 'circonference_cm']] == 0).sum()\n",
    "# report the results\n",
    "print(num_missing)"
   ]
  },
  {
   "cell_type": "markdown",
   "id": "fecbc428-28cf-4605-878a-0efde732781d",
   "metadata": {},
   "source": [
    "marking missing values with nan values"
   ]
  },
  {
   "cell_type": "code",
   "execution_count": 3,
   "id": "896f5693-3c62-431d-95c0-c37c9a760e6c",
   "metadata": {},
   "outputs": [],
   "source": [
    "# replace '0' values with 'nan'\n",
    "df[['hauteur_m','circonference_cm']] = df[['hauteur_m','circonference_cm']].replace(0, np.nan)"
   ]
  },
  {
   "cell_type": "markdown",
   "id": "3f6c2a25-cda9-46e8-a897-1f0206dcdb05",
   "metadata": {},
   "source": [
    "Also a tree circumference greater than 8 meters doesn't exist in Paris see the link below: [Records circonference des arbres a Paris](https://www.monumentaltrees.com/fr/recordsdecirconference/fra/paris/)"
   ]
  },
  {
   "cell_type": "code",
   "execution_count": 4,
   "id": "80f85dbb-ae02-4ccc-a578-ba44e30e6265",
   "metadata": {},
   "outputs": [
    {
     "data": {
      "text/plain": [
       "74"
      ]
     },
     "execution_count": 4,
     "metadata": {},
     "output_type": "execute_result"
    }
   ],
   "source": [
    "# count the number of values greather than 800\n",
    "len(df[df['circonference_cm'] >= 800])"
   ]
  },
  {
   "cell_type": "code",
   "execution_count": 5,
   "id": "827abe51-c173-4f3f-b74c-0839b39d2abe",
   "metadata": {},
   "outputs": [],
   "source": [
    "# replace values greather than 800cm with 'nan'\n",
    "df.loc[df.circonference_cm >= 800, 'circonference_cm'] = np.nan"
   ]
  },
  {
   "cell_type": "code",
   "execution_count": 6,
   "id": "e67b1bd6-4fb2-4044-87fb-274ba6cf5848",
   "metadata": {},
   "outputs": [
    {
     "data": {
      "text/plain": [
       "11831"
      ]
     },
     "execution_count": 6,
     "metadata": {},
     "output_type": "execute_result"
    }
   ],
   "source": [
    "df['circonference_cm'].isnull().sum()"
   ]
  },
  {
   "cell_type": "markdown",
   "id": "fd96337c-2fdd-422e-a3bd-670bf9b336c1",
   "metadata": {},
   "source": [
    "### Fill missing values with Mean of Group"
   ]
  },
  {
   "cell_type": "markdown",
   "id": "3cad133c-b747-4ef6-a39d-dd4f7a45f214",
   "metadata": {},
   "source": [
    "We can fill the missing values using fillna and groupby."
   ]
  },
  {
   "cell_type": "code",
   "execution_count": 7,
   "id": "1f8b8b23-9928-49da-bd14-5cbf3dc74d3c",
   "metadata": {},
   "outputs": [],
   "source": [
    "df['circonference_cm'].fillna(df.groupby('genre')['circonference_cm'].transform('mean'), inplace = True)"
   ]
  },
  {
   "cell_type": "markdown",
   "id": "0a53292d-e903-4d0e-a73c-cc08da118e07",
   "metadata": {},
   "source": [
    "## Outlier Identification and Replacement"
   ]
  },
  {
   "cell_type": "markdown",
   "id": "33fbe6b1-f0f7-4651-907f-54f576b9d7ca",
   "metadata": {},
   "source": [
    "### Identify outliers with boxplot"
   ]
  },
  {
   "cell_type": "code",
   "execution_count": 8,
   "id": "cdbd33d5-cfb0-4eab-abf8-339e72c836d7",
   "metadata": {},
   "outputs": [
    {
     "data": {
      "image/png": "[encoded data removed]",
      "text/plain": [
       "<Figure size 640x480 with 1 Axes>"
      ]
     },
     "metadata": {},
     "output_type": "display_data"
    }
   ],
   "source": [
    "sns.boxplot(x=df['circonference_cm'], showmeans=True);"
   ]
  },
  {
   "cell_type": "markdown",
   "id": "dbcb669c-a6c7-426e-92ec-504e7c8219c9",
   "metadata": {},
   "source": [
    "### Identify outliers with Standard Deviation Method"
   ]
  },
  {
   "cell_type": "code",
   "execution_count": 9,
   "id": "b5f331fa-ab16-4969-8640-48e5f02e73b3",
   "metadata": {},
   "outputs": [
    {
     "name": "stdout",
     "output_type": "stream",
     "text": [
      "89.08666234328071 56.22193366513786 -79.57913865213287 257.75246333869427\n"
     ]
    }
   ],
   "source": [
    "# calculate summary statistics\n",
    "data_mean, data_std = np.mean(df.circonference_cm), np.std(df.circonference_cm)\n",
    "# define outliers\n",
    "cut_off = data_std * 3\n",
    "lower, upper = data_mean - cut_off, data_mean + cut_off\n",
    "print(data_mean, data_std, lower, upper)"
   ]
  },
  {
   "cell_type": "code",
   "execution_count": 10,
   "id": "1e292445-d268-4415-bbe6-7b82f53f5975",
   "metadata": {},
   "outputs": [
    {
     "data": {
      "text/plain": [
       "258.0"
      ]
     },
     "execution_count": 10,
     "metadata": {},
     "output_type": "execute_result"
    }
   ],
   "source": [
    "# identify outliers\n",
    "outliers = [x for x in df.circonference_cm if x < lower or x > upper]\n",
    "min(outliers)\n",
    "# max(outliers)"
   ]
  },
  {
   "cell_type": "markdown",
   "id": "1c701c0c-df6b-4c0a-8ee5-94fa71619023",
   "metadata": {},
   "source": [
    "### Identify outliers with Interquartile Range Method"
   ]
  },
  {
   "cell_type": "code",
   "execution_count": 11,
   "id": "a79bf8ec-1be2-4cda-adf0-ec23a95b3751",
   "metadata": {},
   "outputs": [
    {
     "name": "stdout",
     "output_type": "stream",
     "text": [
      "Percentiles: 25th=49.000, 75th=115.000, IQR=66.000\n"
     ]
    }
   ],
   "source": [
    "from numpy import percentile\n",
    "# calculate interquartile range\n",
    "data = df.circonference_cm[df.circonference_cm.notnull()]\n",
    "q25, q75 = percentile(data, 25), percentile(data, 75)\n",
    "iqr = q75 - q25\n",
    "print('Percentiles: 25th=%.3f, 75th=%.3f, IQR=%.3f' % (q25, q75, iqr))"
   ]
  },
  {
   "cell_type": "code",
   "execution_count": 12,
   "id": "16355b86-6e94-4cfe-8ba5-9bb4cd925ba6",
   "metadata": {},
   "outputs": [
    {
     "name": "stdout",
     "output_type": "stream",
     "text": [
      "Identified outliers: 5678\n"
     ]
    },
    {
     "data": {
      "text/plain": [
       "215.0"
      ]
     },
     "execution_count": 12,
     "metadata": {},
     "output_type": "execute_result"
    }
   ],
   "source": [
    "# calculate the outlier cutoff\n",
    "cut_off = iqr * 1.5\n",
    "lower, upper = q25 - cut_off, q75 + cut_off\n",
    "# identify outliers\n",
    "outliers = [x for x in data if x < lower or x > upper] \n",
    "print('Identified outliers: %d' % len(outliers))\n",
    "outliers.sort()\n",
    "min(outliers)"
   ]
  },
  {
   "cell_type": "markdown",
   "id": "ebb8be49-a6d2-4263-8cd8-2f50f0fa0c0f",
   "metadata": {},
   "source": [
    "### Replacing Outliers with upper bound Value"
   ]
  },
  {
   "cell_type": "code",
   "execution_count": 13,
   "id": "e8b6ea02-626d-4d45-bd58-1f05fee4abb3",
   "metadata": {},
   "outputs": [],
   "source": [
    "df['circonference_cm'] = np.where(df['circonference_cm'] > upper, upper, df['circonference_cm'])"
   ]
  },
  {
   "cell_type": "code",
   "execution_count": 14,
   "id": "5a9bbb7f-9fbf-400c-ad75-8c72e4a6b7c1",
   "metadata": {},
   "outputs": [
    {
     "data": {
      "image/png": "[encoded data removed]",
      "text/plain": [
       "<Figure size 640x480 with 1 Axes>"
      ]
     },
     "metadata": {},
     "output_type": "display_data"
    }
   ],
   "source": [
    "sns.boxplot(x=df['circonference_cm'], showmeans=True);"
   ]
  },
  {
   "cell_type": "code",
   "execution_count": 15,
   "id": "605c2ece-e7bc-4bed-8804-9b11a3fdc70a",
   "metadata": {
    "tags": []
   },
   "outputs": [
    {
     "data": {
      "text/plain": [
       "5"
      ]
     },
     "execution_count": 15,
     "metadata": {},
     "output_type": "execute_result"
    }
   ],
   "source": [
    "len(df[df.circonference_cm.isnull()])"
   ]
  },
  {
   "cell_type": "markdown",
   "id": "73b98a3b-2e41-4a18-9fe5-a905bb3a6b37",
   "metadata": {},
   "source": [
    "### Drop rows that has NaN values on hauteur_m columns"
   ]
  },
  {
   "cell_type": "code",
   "execution_count": 16,
   "id": "7e34d7ba-b80d-4af1-a9e6-0a00912dd063",
   "metadata": {},
   "outputs": [],
   "source": [
    "df=df.dropna(subset=['circonference_cm'])"
   ]
  },
  {
   "cell_type": "code",
   "execution_count": 17,
   "id": "170ebd19-dd9b-49c1-a9eb-e2a4c0c0e607",
   "metadata": {
    "tags": []
   },
   "outputs": [
    {
     "data": {
      "text/plain": [
       "0"
      ]
     },
     "execution_count": 17,
     "metadata": {},
     "output_type": "execute_result"
    }
   ],
   "source": [
    "len(df[df.circonference_cm.isnull()])"
   ]
  }
 ],
 "metadata": {
  "kernelspec": {
   "display_name": "Python 3 (ipykernel)",
   "language": "python",
   "name": "python3"
  },
  "language_info": {
   "codemirror_mode": {
    "name": "ipython",
    "version": 3
   },
   "file_extension": ".py",
   "mimetype": "text/x-python",
   "name": "python",
   "nbconvert_exporter": "python",
   "pygments_lexer": "ipython3",
   "version": "3.10.4"
  }
 },
 "nbformat": 4,
 "nbformat_minor": 5
}
