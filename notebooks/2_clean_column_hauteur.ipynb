{
 "cells": [
  {
   "cell_type": "code",
   "execution_count": 1,
   "id": "0c8fe166-4eea-4230-9bf7-5e82868194ff",
   "metadata": {
    "tags": []
   },
   "outputs": [],
   "source": [
    "%%capture\n",
    "%run ./1_prep_dataset.ipynb"
   ]
  },
  {
   "cell_type": "markdown",
   "id": "e3810013-1158-49b0-aa3d-bf5e94fce4f0",
   "metadata": {},
   "source": [
    "## Mark Missing Values"
   ]
  },
  {
   "cell_type": "markdown",
   "id": "22ece20e-e762-4f3f-a8ad-9896e06d029a",
   "metadata": {},
   "source": [
    "A value of zero does not make sense for the height of a tree and indicates an invalid or missing value"
   ]
  },
  {
   "cell_type": "code",
   "execution_count": 2,
   "id": "056d8560-573c-497e-bdf2-c920d93be470",
   "metadata": {},
   "outputs": [
    {
     "name": "stdout",
     "output_type": "stream",
     "text": [
      "hauteur_m           24853\n",
      "circonference_cm    11803\n",
      "dtype: int64\n"
     ]
    }
   ],
   "source": [
    "# count the number of values equal to 0 for each column\n",
    "num_missing = (df[['hauteur_m', 'circonference_cm']] == 0).sum()\n",
    "# report the results\n",
    "print(num_missing)"
   ]
  },
  {
   "cell_type": "markdown",
   "id": "0d094852-213c-439c-950f-c466b9e2b178",
   "metadata": {},
   "source": [
    "marking missing values with nan values"
   ]
  },
  {
   "cell_type": "code",
   "execution_count": 3,
   "id": "0b718508-b19e-4985-855e-39c9a5ce9119",
   "metadata": {},
   "outputs": [],
   "source": [
    "# replace '0' values with 'nan'\n",
    "df[['hauteur_m','circonference_cm']] = df[['hauteur_m','circonference_cm']].replace(0, np.nan)"
   ]
  },
  {
   "cell_type": "markdown",
   "id": "3fe3fe7c-023d-4f61-8a76-b7ccf7843189",
   "metadata": {},
   "source": [
    "Also a tree height greater than 50 meters is not possible in Paris see the link below: [Records hauteur des arbres a Paris](https://www.monumentaltrees.com/fr/recordsdhauteur/fra/paris/)"
   ]
  },
  {
   "cell_type": "code",
   "execution_count": 4,
   "id": "16e4890a-0f77-4897-9d74-2552a830cb0d",
   "metadata": {},
   "outputs": [
    {
     "data": {
      "text/plain": [
       "448"
      ]
     },
     "execution_count": 4,
     "metadata": {},
     "output_type": "execute_result"
    }
   ],
   "source": [
    "# count the number of values greather than 50\n",
    "len(df[df['hauteur_m'] >= 50])"
   ]
  },
  {
   "cell_type": "code",
   "execution_count": 5,
   "id": "6fc8015b-d3e3-4d1e-95d8-c312ae6f4eea",
   "metadata": {},
   "outputs": [],
   "source": [
    "# replace values greather than 50m with 'nan'\n",
    "df.loc[df.hauteur_m >= 50, 'hauteur_m'] = np.nan"
   ]
  },
  {
   "cell_type": "code",
   "execution_count": 6,
   "id": "36b2ec6c-1e35-4f9f-8c94-2abcca771747",
   "metadata": {},
   "outputs": [
    {
     "data": {
      "text/plain": [
       "hauteur_m           25301\n",
       "circonference_cm    11803\n",
       "dtype: int64"
      ]
     },
     "execution_count": 6,
     "metadata": {},
     "output_type": "execute_result"
    }
   ],
   "source": [
    "df[['hauteur_m', 'circonference_cm']].isnull().sum()"
   ]
  },
  {
   "cell_type": "markdown",
   "id": "6a592ca3-5c4c-4c92-81ce-e48a2c6efa42",
   "metadata": {},
   "source": [
    "### Fill missing values with Mean of Group"
   ]
  },
  {
   "cell_type": "markdown",
   "id": "e976aa2b-e3ef-4317-9b8f-08f78bbaf8bb",
   "metadata": {},
   "source": [
    "We can fill the missing values using group level statistics."
   ]
  },
  {
   "cell_type": "code",
   "execution_count": 7,
   "id": "fbebaf5d-6bd2-4c54-a145-d3aaece20c7b",
   "metadata": {},
   "outputs": [],
   "source": [
    "df['hauteur_m'].fillna(df.groupby('genre')['hauteur_m'].transform('mean'), inplace = True)"
   ]
  },
  {
   "cell_type": "markdown",
   "id": "cd4ae61e-528f-44e7-8073-33d45af749f7",
   "metadata": {},
   "source": [
    "## Outlier Identification and Replacement"
   ]
  },
  {
   "cell_type": "markdown",
   "id": "6eee904a-ede0-4088-af27-1a5540e221a2",
   "metadata": {},
   "source": [
    "### Identify outliers with boxplot"
   ]
  },
  {
   "cell_type": "code",
   "execution_count": 8,
   "id": "f8979850-1ce4-4acb-91a0-89f660c682b9",
   "metadata": {},
   "outputs": [
    {
     "data": {
      "image/png": "[encoded data removed]",
      "text/plain": [
       "<Figure size 640x480 with 1 Axes>"
      ]
     },
     "metadata": {},
     "output_type": "display_data"
    }
   ],
   "source": [
    "sns.boxplot(x=df['hauteur_m']);"
   ]
  },
  {
   "cell_type": "markdown",
   "id": "83dc5064-2fc4-494b-971b-6e22c3b4bec0",
   "metadata": {},
   "source": [
    "### Identify outliers with Standard Deviation Method"
   ]
  },
  {
   "cell_type": "code",
   "execution_count": 9,
   "id": "ab6d1b79-7e30-4edc-8944-3127fba5a06b",
   "metadata": {},
   "outputs": [
    {
     "name": "stdout",
     "output_type": "stream",
     "text": [
      "10.120300822881946 4.768587765782791 -4.185462474466428 24.426064120230322\n"
     ]
    }
   ],
   "source": [
    "# calculate summary statistics\n",
    "data_mean, data_std = np.mean(df.hauteur_m), np.std(df.hauteur_m)\n",
    "# define outliers\n",
    "cut_off = data_std * 3\n",
    "lower, upper = data_mean - cut_off, data_mean + cut_off\n",
    "print(data_mean, data_std, lower, upper)"
   ]
  },
  {
   "cell_type": "code",
   "execution_count": 10,
   "id": "e3b6e22e-0692-4623-91b8-b96506925dec",
   "metadata": {},
   "outputs": [
    {
     "data": {
      "text/plain": [
       "25.0"
      ]
     },
     "execution_count": 10,
     "metadata": {},
     "output_type": "execute_result"
    }
   ],
   "source": [
    "# identify outliers\n",
    "outliers = [x for x in df.hauteur_m if x < lower or x > upper]\n",
    "min(outliers)\n",
    "# max(outliers)"
   ]
  },
  {
   "cell_type": "markdown",
   "id": "e2c00244-7996-4542-8182-8509d3006e62",
   "metadata": {},
   "source": [
    "### Identify outliers with Interquartile Range Method"
   ]
  },
  {
   "cell_type": "code",
   "execution_count": 11,
   "id": "c4a9903e-f4d6-4876-8379-84f8b99c6ef5",
   "metadata": {},
   "outputs": [
    {
     "name": "stdout",
     "output_type": "stream",
     "text": [
      "Percentiles: 25th=6.000, 75th=12.812, IQR=6.812\n"
     ]
    }
   ],
   "source": [
    "from numpy import percentile\n",
    "# calculate interquartile range\n",
    "data = df.hauteur_m[df.hauteur_m.notnull()]\n",
    "q25, q75 = percentile(data, 25), percentile(data, 75)\n",
    "iqr = q75 - q25\n",
    "print('Percentiles: 25th=%.3f, 75th=%.3f, IQR=%.3f' % (q25, q75, iqr))"
   ]
  },
  {
   "cell_type": "code",
   "execution_count": 12,
   "id": "818ebbf5-a946-4951-94c7-7db850677d0a",
   "metadata": {},
   "outputs": [
    {
     "name": "stdout",
     "output_type": "stream",
     "text": [
      "Identified outliers: 2438\n"
     ]
    },
    {
     "data": {
      "text/plain": [
       "24.0"
      ]
     },
     "execution_count": 12,
     "metadata": {},
     "output_type": "execute_result"
    }
   ],
   "source": [
    "# calculate the outlier cutoff\n",
    "cut_off = iqr * 1.5\n",
    "lower, upper = q25 - cut_off, q75 + cut_off\n",
    "# identify outliers\n",
    "outliers = [x for x in data if x < lower or x > upper] \n",
    "print('Identified outliers: %d' % len(outliers))\n",
    "outliers.sort()\n",
    "min(outliers)"
   ]
  },
  {
   "cell_type": "markdown",
   "id": "bfa5debd-77d3-481b-8e0f-0957b66c6c47",
   "metadata": {},
   "source": [
    "### Replacing Outliers with uper bound Value"
   ]
  },
  {
   "cell_type": "code",
   "execution_count": 13,
   "id": "e32c3024-acd8-40dd-9e7f-4aaa71ff7065",
   "metadata": {},
   "outputs": [],
   "source": [
    "df['hauteur_m'] = np.where(df['hauteur_m'] > upper, upper, df['hauteur_m'])"
   ]
  },
  {
   "cell_type": "code",
   "execution_count": 14,
   "id": "5919c0e5-5502-4add-a5fd-2f03be9f58b6",
   "metadata": {},
   "outputs": [
    {
     "data": {
      "image/png": "[encoded data removed]",
      "text/plain": [
       "<Figure size 640x480 with 1 Axes>"
      ]
     },
     "metadata": {},
     "output_type": "display_data"
    }
   ],
   "source": [
    "sns.boxplot(x=df['hauteur_m']);"
   ]
  },
  {
   "cell_type": "markdown",
   "id": "9ce455a4-56bc-4b2e-94a9-fe5a058bca8c",
   "metadata": {},
   "source": [
    "### Drop rows that has NaN values on hauteur_m columns"
   ]
  },
  {
   "cell_type": "code",
   "execution_count": 15,
   "id": "cec2b37e-3543-4fe5-b0aa-7eb45a42c95d",
   "metadata": {},
   "outputs": [],
   "source": [
    "df=df.dropna(subset=['hauteur_m'])"
   ]
  },
  {
   "cell_type": "code",
   "execution_count": 16,
   "id": "012a2110-a676-45b3-bde3-6f0bc2fddf6e",
   "metadata": {
    "tags": []
   },
   "outputs": [
    {
     "data": {
      "text/plain": [
       "0"
      ]
     },
     "execution_count": 16,
     "metadata": {},
     "output_type": "execute_result"
    }
   ],
   "source": [
    "len(df[df.hauteur_m.isnull()])"
   ]
  }
 ],
 "metadata": {
  "kernelspec": {
   "display_name": "Python 3 (ipykernel)",
   "language": "python",
   "name": "python3"
  },
  "language_info": {
   "codemirror_mode": {
    "name": "ipython",
    "version": 3
   },
   "file_extension": ".py",
   "mimetype": "text/x-python",
   "name": "python",
   "nbconvert_exporter": "python",
   "pygments_lexer": "ipython3",
   "version": "3.10.4"
  }
 },
 "nbformat": 4,
 "nbformat_minor": 5
}
