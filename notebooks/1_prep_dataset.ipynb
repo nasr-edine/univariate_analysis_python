{
 "cells": [
  {
   "cell_type": "markdown",
   "id": "7b506042-839e-4e45-84e0-e6c464f3e91f",
   "metadata": {
    "tags": []
   },
   "source": [
    "# Project in Data Science: Maintaining Urban Trees in Paris."
   ]
  },
  {
   "cell_type": "markdown",
   "id": "a75dcf74-b87c-4e13-82b7-119d7a0634b0",
   "metadata": {},
   "source": [
    "### Notebook by [Nasr-edine DRAI](https://www.hackerrank.com/d_nasredine)\n",
    "\n"
   ]
  },
  {
   "cell_type": "markdown",
   "id": "87971538-cfc1-40f0-9313-c9a47379d7a7",
   "metadata": {},
   "source": [
    "### [Openclassrooms](https://openclassrooms.com/en/)"
   ]
  },
  {
   "cell_type": "markdown",
   "id": "b62ba904-9ad8-4e03-9120-64dc678233b0",
   "metadata": {},
   "source": [
    "## Verify Python Virtual Environments"
   ]
  },
  {
   "cell_type": "markdown",
   "id": "d600a9bf-ed33-42bb-ac3c-20281cbdd412",
   "metadata": {},
   "source": [
    "#### Check the Version of the Python Interpreter"
   ]
  },
  {
   "cell_type": "code",
   "execution_count": 1,
   "id": "4f31cd88-be45-441c-a1ae-c89f9bbe92be",
   "metadata": {
    "tags": []
   },
   "outputs": [
    {
     "name": "stdout",
     "output_type": "stream",
     "text": [
      "Python 3.10.4\n"
     ]
    }
   ],
   "source": [
    "!python --version"
   ]
  },
  {
   "cell_type": "markdown",
   "id": "a7f604fb-a020-491a-80f6-a3a3ec182fcf",
   "metadata": {},
   "source": [
    "#### Verify that I'm using the right virtual environment"
   ]
  },
  {
   "cell_type": "code",
   "execution_count": 2,
   "id": "bff6a253-4430-427d-b488-13fdfbd1a80d",
   "metadata": {
    "tags": []
   },
   "outputs": [
    {
     "name": "stdout",
     "output_type": "stream",
     "text": [
      "pip 22.3.1 from /Users/drainasr-edine/github/ingenieur_ia/P2_drai_nasr-edine/ia_project_2_env/lib/python3.10/site-packages/pip (python 3.10)\n"
     ]
    }
   ],
   "source": [
    "!pip -V"
   ]
  },
  {
   "cell_type": "markdown",
   "id": "2ce5fb9d-2fd6-4423-af87-287bca92d787",
   "metadata": {
    "tags": []
   },
   "source": [
    "#### Check Installed Modules in Python"
   ]
  },
  {
   "cell_type": "markdown",
   "id": "49a78766-2dbd-4c9a-844f-6865b87d1013",
   "metadata": {},
   "source": [
    "Run through this notebook to make sure my environment is properly setup. Be sure to launch Jupyter from inside the virtual environment."
   ]
  },
  {
   "cell_type": "code",
   "execution_count": 3,
   "id": "1bf72e19-eceb-4066-87a4-c4ce5c80644b",
   "metadata": {},
   "outputs": [
    {
     "name": "stdout",
     "output_type": "stream",
     "text": [
      "/Users/drainasr-edine/github/ingenieur_ia/P2_drai_nasr-edine\n"
     ]
    }
   ],
   "source": [
    "import os, sys\n",
    "\n",
    "parent = os.path.abspath('..')\n",
    "sys.path.insert(1, parent)\n",
    "print(parent)"
   ]
  },
  {
   "cell_type": "code",
   "execution_count": 4,
   "id": "e60dbe70-53c3-43ff-aa1b-e368cab8c4c4",
   "metadata": {
    "tags": []
   },
   "outputs": [
    {
     "name": "stdout",
     "output_type": "stream",
     "text": [
      "Using Python in /Users/drainasr-edine/github/ingenieur_ia/P2_drai_nasr-edine/ia_project_2_env:\n",
      "\u001b[42m[ OK ]\u001b[0m Python is version 3.10.4 (main, Jul 17 2022, 13:52:49) [Clang 13.1.6 (clang-1316.0.21.2.5)]\n",
      "\n",
      "\u001b[42m[ OK ]\u001b[0m jupyterlab\n",
      "\u001b[42m[ OK ]\u001b[0m matplotlib\n",
      "\u001b[42m[ OK ]\u001b[0m numpy\n",
      "\u001b[42m[ OK ]\u001b[0m pandas\n",
      "\u001b[42m[ OK ]\u001b[0m seaborn\n",
      "\u001b[42m[ OK ]\u001b[0m statsmodels\n",
      "\u001b[42m[ OK ]\u001b[0m folium\n"
     ]
    }
   ],
   "source": [
    "from src.check_environment import run_checks\n",
    "run_checks()"
   ]
  },
  {
   "cell_type": "markdown",
   "id": "dcd0909f-b766-45f1-b936-1f5f6648a775",
   "metadata": {},
   "source": [
    "## Import Python library for data analysis"
   ]
  },
  {
   "cell_type": "code",
   "execution_count": 5,
   "id": "6517d2a2-34d0-406f-bc05-f5049102cc30",
   "metadata": {
    "tags": []
   },
   "outputs": [],
   "source": [
    "# Data manipulation\n",
    "import numpy as np\n",
    "import pandas as pd\n",
    "import statsmodels as sm\n",
    "\n",
    "# Visualizations\n",
    "import matplotlib.pyplot as plt\n",
    "import seaborn as sns\n",
    "import folium\n",
    "from folium.plugins import HeatMap"
   ]
  },
  {
   "cell_type": "markdown",
   "id": "9f5540b6-dbe5-4cbe-9ab5-53654b9fe74a",
   "metadata": {},
   "source": [
    "## Collecting the data"
   ]
  },
  {
   "cell_type": "markdown",
   "id": "c84952af-f99f-439d-868a-bcdacbc25f23",
   "metadata": {
    "tags": []
   },
   "source": [
    "#### Creating a `DataFrame` by Reading in a CSV File"
   ]
  },
  {
   "cell_type": "markdown",
   "id": "e094de56-4d66-4a80-9234-5617d768ed46",
   "metadata": {},
   "source": [
    "We will read in a CSV file using `pandas`. "
   ]
  },
  {
   "cell_type": "code",
   "execution_count": 6,
   "id": "f45993d4-cec5-46be-a455-c15c63ce51cd",
   "metadata": {
    "tags": []
   },
   "outputs": [],
   "source": [
    "df = pd.read_csv('../data/p2_arbres_fr.csv', sep=';')  # Creating the dataframe"
   ]
  },
  {
   "cell_type": "markdown",
   "id": "9511b0cd-3756-473c-867f-e9ff69a13260",
   "metadata": {},
   "source": [
    "## Quick Examining dataframe"
   ]
  },
  {
   "cell_type": "markdown",
   "id": "bf1020cf-0b7a-4acf-8a4f-928175bb228e",
   "metadata": {},
   "source": [
    "#### Is it empty?"
   ]
  },
  {
   "cell_type": "code",
   "execution_count": 7,
   "id": "ff4271ed-ad33-474d-a05f-34fc677c51e8",
   "metadata": {
    "tags": []
   },
   "outputs": [
    {
     "data": {
      "text/plain": [
       "False"
      ]
     },
     "execution_count": 7,
     "metadata": {},
     "output_type": "execute_result"
    }
   ],
   "source": [
    "df.empty"
   ]
  },
  {
   "cell_type": "markdown",
   "id": "de8d5789-a99d-4c52-9f0b-f981e80c1dc5",
   "metadata": {},
   "source": [
    "#### What are the dimensions?"
   ]
  },
  {
   "cell_type": "markdown",
   "id": "2b250b0d-dc98-4e8d-a786-48fc9f2dad4e",
   "metadata": {
    "tags": []
   },
   "source": [
    "We find the dimensions with the `shape` attribute as (rows, columns)."
   ]
  },
  {
   "cell_type": "code",
   "execution_count": 8,
   "id": "840e1158-e523-44c5-9786-f72573bc1cc2",
   "metadata": {
    "tags": []
   },
   "outputs": [
    {
     "data": {
      "text/plain": [
       "(200137, 18)"
      ]
     },
     "execution_count": 8,
     "metadata": {},
     "output_type": "execute_result"
    }
   ],
   "source": [
    "df.shape"
   ]
  },
  {
   "cell_type": "markdown",
   "id": "f686b94f-2fa3-40b6-9fff-8c23c15b5c26",
   "metadata": {},
   "source": [
    "#### What columns do we have?"
   ]
  },
  {
   "cell_type": "code",
   "execution_count": 9,
   "id": "ab042b48-fe73-4ccb-81ea-895fe4d5b935",
   "metadata": {
    "tags": []
   },
   "outputs": [
    {
     "data": {
      "text/plain": [
       "Index(['id', 'type_emplacement', 'domanialite', 'arrondissement',\n",
       "       'complement_addresse', 'numero', 'lieu', 'id_emplacement',\n",
       "       'libelle_francais', 'genre', 'espece', 'variete', 'circonference_cm',\n",
       "       'hauteur_m', 'stade_developpement', 'remarquable', 'geo_point_2d_a',\n",
       "       'geo_point_2d_b'],\n",
       "      dtype='object')"
      ]
     },
     "execution_count": 9,
     "metadata": {},
     "output_type": "execute_result"
    }
   ],
   "source": [
    "df.columns"
   ]
  },
  {
   "cell_type": "markdown",
   "id": "7fa7204f-2dab-4ab8-b87f-7542665dff1f",
   "metadata": {},
   "source": [
    "#### What data types do we have?"
   ]
  },
  {
   "cell_type": "markdown",
   "id": "7e811976-06ce-4aa3-a223-f8a45809eafe",
   "metadata": {
    "tags": []
   },
   "source": [
    "We find the data types with the `dtypes` attribute:"
   ]
  },
  {
   "cell_type": "code",
   "execution_count": 10,
   "id": "bdce943f-a234-43ad-8d6b-90aaf915cb81",
   "metadata": {
    "tags": []
   },
   "outputs": [
    {
     "data": {
      "text/plain": [
       "id                       int64\n",
       "type_emplacement        object\n",
       "domanialite             object\n",
       "arrondissement          object\n",
       "complement_addresse     object\n",
       "numero                 float64\n",
       "lieu                    object\n",
       "id_emplacement          object\n",
       "libelle_francais        object\n",
       "genre                   object\n",
       "espece                  object\n",
       "variete                 object\n",
       "circonference_cm         int64\n",
       "hauteur_m                int64\n",
       "stade_developpement     object\n",
       "remarquable            float64\n",
       "geo_point_2d_a         float64\n",
       "geo_point_2d_b         float64\n",
       "dtype: object"
      ]
     },
     "execution_count": 10,
     "metadata": {},
     "output_type": "execute_result"
    }
   ],
   "source": [
    "df.dtypes"
   ]
  },
  {
   "cell_type": "markdown",
   "id": "f7ee363e-c7a3-4cfb-9b4d-3787a53bde2a",
   "metadata": {},
   "source": [
    "#### What does the data look like?\n",
    "View rows from the top with `head()`:"
   ]
  },
  {
   "cell_type": "code",
   "execution_count": 11,
   "id": "3abd524d-d807-4283-908e-7d05d13ad379",
   "metadata": {
    "tags": []
   },
   "outputs": [
    {
     "data": {
      "text/html": [
       "<div>\n",
       "<style scoped>\n",
       "    .dataframe tbody tr th:only-of-type {\n",
       "        vertical-align: middle;\n",
       "    }\n",
       "\n",
       "    .dataframe tbody tr th {\n",
       "        vertical-align: top;\n",
       "    }\n",
       "\n",
       "    .dataframe thead th {\n",
       "        text-align: right;\n",
       "    }\n",
       "</style>\n",
       "<table border=\"1\" class=\"dataframe\">\n",
       "  <thead>\n",
       "    <tr style=\"text-align: right;\">\n",
       "      <th></th>\n",
       "      <th>id</th>\n",
       "      <th>type_emplacement</th>\n",
       "      <th>domanialite</th>\n",
       "      <th>arrondissement</th>\n",
       "      <th>complement_addresse</th>\n",
       "      <th>numero</th>\n",
       "      <th>lieu</th>\n",
       "      <th>id_emplacement</th>\n",
       "      <th>libelle_francais</th>\n",
       "      <th>genre</th>\n",
       "      <th>espece</th>\n",
       "      <th>variete</th>\n",
       "      <th>circonference_cm</th>\n",
       "      <th>hauteur_m</th>\n",
       "      <th>stade_developpement</th>\n",
       "      <th>remarquable</th>\n",
       "      <th>geo_point_2d_a</th>\n",
       "      <th>geo_point_2d_b</th>\n",
       "    </tr>\n",
       "  </thead>\n",
       "  <tbody>\n",
       "    <tr>\n",
       "      <th>0</th>\n",
       "      <td>99874</td>\n",
       "      <td>Arbre</td>\n",
       "      <td>Jardin</td>\n",
       "      <td>PARIS 7E ARRDT</td>\n",
       "      <td>NaN</td>\n",
       "      <td>NaN</td>\n",
       "      <td>MAIRIE DU 7E 116 RUE DE GRENELLE PARIS 7E</td>\n",
       "      <td>19</td>\n",
       "      <td>Marronnier</td>\n",
       "      <td>Aesculus</td>\n",
       "      <td>hippocastanum</td>\n",
       "      <td>NaN</td>\n",
       "      <td>20</td>\n",
       "      <td>5</td>\n",
       "      <td>NaN</td>\n",
       "      <td>0.0</td>\n",
       "      <td>48.857620</td>\n",
       "      <td>2.320962</td>\n",
       "    </tr>\n",
       "    <tr>\n",
       "      <th>1</th>\n",
       "      <td>99875</td>\n",
       "      <td>Arbre</td>\n",
       "      <td>Jardin</td>\n",
       "      <td>PARIS 7E ARRDT</td>\n",
       "      <td>NaN</td>\n",
       "      <td>NaN</td>\n",
       "      <td>MAIRIE DU 7E 116 RUE DE GRENELLE PARIS 7E</td>\n",
       "      <td>20</td>\n",
       "      <td>If</td>\n",
       "      <td>Taxus</td>\n",
       "      <td>baccata</td>\n",
       "      <td>NaN</td>\n",
       "      <td>65</td>\n",
       "      <td>8</td>\n",
       "      <td>A</td>\n",
       "      <td>NaN</td>\n",
       "      <td>48.857656</td>\n",
       "      <td>2.321031</td>\n",
       "    </tr>\n",
       "  </tbody>\n",
       "</table>\n",
       "</div>"
      ],
      "text/plain": [
       "      id type_emplacement domanialite  arrondissement complement_addresse  \\\n",
       "0  99874            Arbre      Jardin  PARIS 7E ARRDT                 NaN   \n",
       "1  99875            Arbre      Jardin  PARIS 7E ARRDT                 NaN   \n",
       "\n",
       "   numero                                       lieu id_emplacement  \\\n",
       "0     NaN  MAIRIE DU 7E 116 RUE DE GRENELLE PARIS 7E             19   \n",
       "1     NaN  MAIRIE DU 7E 116 RUE DE GRENELLE PARIS 7E             20   \n",
       "\n",
       "  libelle_francais     genre         espece variete  circonference_cm  \\\n",
       "0       Marronnier  Aesculus  hippocastanum     NaN                20   \n",
       "1               If     Taxus        baccata     NaN                65   \n",
       "\n",
       "   hauteur_m stade_developpement  remarquable  geo_point_2d_a  geo_point_2d_b  \n",
       "0          5                 NaN          0.0       48.857620        2.320962  \n",
       "1          8                   A          NaN       48.857656        2.321031  "
      ]
     },
     "execution_count": 11,
     "metadata": {},
     "output_type": "execute_result"
    }
   ],
   "source": [
    "df.head(2)"
   ]
  },
  {
   "cell_type": "markdown",
   "id": "16a12547-d8f3-489e-8182-7c4144abd61b",
   "metadata": {},
   "source": [
    "View rows from the bottom with `tail()`."
   ]
  },
  {
   "cell_type": "code",
   "execution_count": 12,
   "id": "16d14e61-5541-4dbd-a42d-b7a348c348b7",
   "metadata": {
    "tags": []
   },
   "outputs": [
    {
     "data": {
      "text/html": [
       "<div>\n",
       "<style scoped>\n",
       "    .dataframe tbody tr th:only-of-type {\n",
       "        vertical-align: middle;\n",
       "    }\n",
       "\n",
       "    .dataframe tbody tr th {\n",
       "        vertical-align: top;\n",
       "    }\n",
       "\n",
       "    .dataframe thead th {\n",
       "        text-align: right;\n",
       "    }\n",
       "</style>\n",
       "<table border=\"1\" class=\"dataframe\">\n",
       "  <thead>\n",
       "    <tr style=\"text-align: right;\">\n",
       "      <th></th>\n",
       "      <th>id</th>\n",
       "      <th>type_emplacement</th>\n",
       "      <th>domanialite</th>\n",
       "      <th>arrondissement</th>\n",
       "      <th>complement_addresse</th>\n",
       "      <th>numero</th>\n",
       "      <th>lieu</th>\n",
       "      <th>id_emplacement</th>\n",
       "      <th>libelle_francais</th>\n",
       "      <th>genre</th>\n",
       "      <th>espece</th>\n",
       "      <th>variete</th>\n",
       "      <th>circonference_cm</th>\n",
       "      <th>hauteur_m</th>\n",
       "      <th>stade_developpement</th>\n",
       "      <th>remarquable</th>\n",
       "      <th>geo_point_2d_a</th>\n",
       "      <th>geo_point_2d_b</th>\n",
       "    </tr>\n",
       "  </thead>\n",
       "  <tbody>\n",
       "    <tr>\n",
       "      <th>200135</th>\n",
       "      <td>2024744</td>\n",
       "      <td>Arbre</td>\n",
       "      <td>Jardin</td>\n",
       "      <td>BOIS DE VINCENNES</td>\n",
       "      <td>NaN</td>\n",
       "      <td>NaN</td>\n",
       "      <td>ARBORETUM DE L ECOLE DU BREUIL - ROUTE DE LA F...</td>\n",
       "      <td>720170154</td>\n",
       "      <td>Chêne</td>\n",
       "      <td>Quercus</td>\n",
       "      <td>n. sp.</td>\n",
       "      <td>NaN</td>\n",
       "      <td>0</td>\n",
       "      <td>0</td>\n",
       "      <td>NaN</td>\n",
       "      <td>0.0</td>\n",
       "      <td>48.822522</td>\n",
       "      <td>2.455956</td>\n",
       "    </tr>\n",
       "    <tr>\n",
       "      <th>200136</th>\n",
       "      <td>2024745</td>\n",
       "      <td>Arbre</td>\n",
       "      <td>Jardin</td>\n",
       "      <td>BOIS DE VINCENNES</td>\n",
       "      <td>NaN</td>\n",
       "      <td>NaN</td>\n",
       "      <td>ARBORETUM DE L ECOLE DU BREUIL - ROUTE DE LA F...</td>\n",
       "      <td>720170155</td>\n",
       "      <td>Raisinier</td>\n",
       "      <td>Hovenia</td>\n",
       "      <td>dulcis</td>\n",
       "      <td>NaN</td>\n",
       "      <td>0</td>\n",
       "      <td>0</td>\n",
       "      <td>NaN</td>\n",
       "      <td>0.0</td>\n",
       "      <td>48.820445</td>\n",
       "      <td>2.454856</td>\n",
       "    </tr>\n",
       "  </tbody>\n",
       "</table>\n",
       "</div>"
      ],
      "text/plain": [
       "             id type_emplacement domanialite     arrondissement  \\\n",
       "200135  2024744            Arbre      Jardin  BOIS DE VINCENNES   \n",
       "200136  2024745            Arbre      Jardin  BOIS DE VINCENNES   \n",
       "\n",
       "       complement_addresse  numero  \\\n",
       "200135                 NaN     NaN   \n",
       "200136                 NaN     NaN   \n",
       "\n",
       "                                                     lieu id_emplacement  \\\n",
       "200135  ARBORETUM DE L ECOLE DU BREUIL - ROUTE DE LA F...      720170154   \n",
       "200136  ARBORETUM DE L ECOLE DU BREUIL - ROUTE DE LA F...      720170155   \n",
       "\n",
       "       libelle_francais    genre  espece variete  circonference_cm  hauteur_m  \\\n",
       "200135            Chêne  Quercus  n. sp.     NaN                 0          0   \n",
       "200136        Raisinier  Hovenia  dulcis     NaN                 0          0   \n",
       "\n",
       "       stade_developpement  remarquable  geo_point_2d_a  geo_point_2d_b  \n",
       "200135                 NaN          0.0       48.822522        2.455956  \n",
       "200136                 NaN          0.0       48.820445        2.454856  "
      ]
     },
     "execution_count": 12,
     "metadata": {},
     "output_type": "execute_result"
    }
   ],
   "source": [
    "df.tail(2)"
   ]
  },
  {
   "cell_type": "markdown",
   "id": "1642320c-7a86-43f1-a936-d32f1c87a47f",
   "metadata": {},
   "source": [
    "## Describing and Summarizing"
   ]
  },
  {
   "cell_type": "markdown",
   "id": "fffd4ee7-6211-4c26-88d1-6be3cb5a29b2",
   "metadata": {
    "tags": []
   },
   "source": [
    "#### Get summary statistics"
   ]
  },
  {
   "cell_type": "code",
   "execution_count": 13,
   "id": "b97aa3c7-1450-4562-a2d6-936be91e4435",
   "metadata": {
    "tags": []
   },
   "outputs": [
    {
     "data": {
      "text/html": [
       "<div>\n",
       "<style scoped>\n",
       "    .dataframe tbody tr th:only-of-type {\n",
       "        vertical-align: middle;\n",
       "    }\n",
       "\n",
       "    .dataframe tbody tr th {\n",
       "        vertical-align: top;\n",
       "    }\n",
       "\n",
       "    .dataframe thead th {\n",
       "        text-align: right;\n",
       "    }\n",
       "</style>\n",
       "<table border=\"1\" class=\"dataframe\">\n",
       "  <thead>\n",
       "    <tr style=\"text-align: right;\">\n",
       "      <th></th>\n",
       "      <th>id</th>\n",
       "      <th>numero</th>\n",
       "      <th>circonference_cm</th>\n",
       "      <th>hauteur_m</th>\n",
       "      <th>remarquable</th>\n",
       "      <th>geo_point_2d_a</th>\n",
       "      <th>geo_point_2d_b</th>\n",
       "    </tr>\n",
       "  </thead>\n",
       "  <tbody>\n",
       "    <tr>\n",
       "      <th>count</th>\n",
       "      <td>2.001370e+05</td>\n",
       "      <td>0.0</td>\n",
       "      <td>200137.000000</td>\n",
       "      <td>200137.000000</td>\n",
       "      <td>137039.000000</td>\n",
       "      <td>200137.000000</td>\n",
       "      <td>200137.000000</td>\n",
       "    </tr>\n",
       "    <tr>\n",
       "      <th>mean</th>\n",
       "      <td>3.872027e+05</td>\n",
       "      <td>NaN</td>\n",
       "      <td>83.380479</td>\n",
       "      <td>13.110509</td>\n",
       "      <td>0.001343</td>\n",
       "      <td>48.854491</td>\n",
       "      <td>2.348208</td>\n",
       "    </tr>\n",
       "    <tr>\n",
       "      <th>std</th>\n",
       "      <td>5.456032e+05</td>\n",
       "      <td>NaN</td>\n",
       "      <td>673.190213</td>\n",
       "      <td>1971.217387</td>\n",
       "      <td>0.036618</td>\n",
       "      <td>0.030234</td>\n",
       "      <td>0.051220</td>\n",
       "    </tr>\n",
       "    <tr>\n",
       "      <th>min</th>\n",
       "      <td>9.987400e+04</td>\n",
       "      <td>NaN</td>\n",
       "      <td>0.000000</td>\n",
       "      <td>0.000000</td>\n",
       "      <td>0.000000</td>\n",
       "      <td>48.742290</td>\n",
       "      <td>2.210241</td>\n",
       "    </tr>\n",
       "    <tr>\n",
       "      <th>25%</th>\n",
       "      <td>1.559270e+05</td>\n",
       "      <td>NaN</td>\n",
       "      <td>30.000000</td>\n",
       "      <td>5.000000</td>\n",
       "      <td>0.000000</td>\n",
       "      <td>48.835021</td>\n",
       "      <td>2.307530</td>\n",
       "    </tr>\n",
       "    <tr>\n",
       "      <th>50%</th>\n",
       "      <td>2.210780e+05</td>\n",
       "      <td>NaN</td>\n",
       "      <td>70.000000</td>\n",
       "      <td>8.000000</td>\n",
       "      <td>0.000000</td>\n",
       "      <td>48.854162</td>\n",
       "      <td>2.351095</td>\n",
       "    </tr>\n",
       "    <tr>\n",
       "      <th>75%</th>\n",
       "      <td>2.741020e+05</td>\n",
       "      <td>NaN</td>\n",
       "      <td>115.000000</td>\n",
       "      <td>12.000000</td>\n",
       "      <td>0.000000</td>\n",
       "      <td>48.876447</td>\n",
       "      <td>2.386838</td>\n",
       "    </tr>\n",
       "    <tr>\n",
       "      <th>max</th>\n",
       "      <td>2.024745e+06</td>\n",
       "      <td>NaN</td>\n",
       "      <td>250255.000000</td>\n",
       "      <td>881818.000000</td>\n",
       "      <td>1.000000</td>\n",
       "      <td>48.911485</td>\n",
       "      <td>2.469759</td>\n",
       "    </tr>\n",
       "  </tbody>\n",
       "</table>\n",
       "</div>"
      ],
      "text/plain": [
       "                 id  numero  circonference_cm      hauteur_m    remarquable  \\\n",
       "count  2.001370e+05     0.0     200137.000000  200137.000000  137039.000000   \n",
       "mean   3.872027e+05     NaN         83.380479      13.110509       0.001343   \n",
       "std    5.456032e+05     NaN        673.190213    1971.217387       0.036618   \n",
       "min    9.987400e+04     NaN          0.000000       0.000000       0.000000   \n",
       "25%    1.559270e+05     NaN         30.000000       5.000000       0.000000   \n",
       "50%    2.210780e+05     NaN         70.000000       8.000000       0.000000   \n",
       "75%    2.741020e+05     NaN        115.000000      12.000000       0.000000   \n",
       "max    2.024745e+06     NaN     250255.000000  881818.000000       1.000000   \n",
       "\n",
       "       geo_point_2d_a  geo_point_2d_b  \n",
       "count   200137.000000   200137.000000  \n",
       "mean        48.854491        2.348208  \n",
       "std          0.030234        0.051220  \n",
       "min         48.742290        2.210241  \n",
       "25%         48.835021        2.307530  \n",
       "50%         48.854162        2.351095  \n",
       "75%         48.876447        2.386838  \n",
       "max         48.911485        2.469759  "
      ]
     },
     "execution_count": 13,
     "metadata": {},
     "output_type": "execute_result"
    }
   ],
   "source": [
    "df.describe()"
   ]
  },
  {
   "cell_type": "markdown",
   "id": "f0e73606-d6ff-4cfe-bac8-c9199c6057c0",
   "metadata": {},
   "source": [
    "#### Getting extra info and finding nulls"
   ]
  },
  {
   "cell_type": "markdown",
   "id": "3cca552d-0461-423f-94d0-24e52fa2650a",
   "metadata": {},
   "source": [
    "Let’s print the full summary of the dataframe."
   ]
  },
  {
   "cell_type": "code",
   "execution_count": 14,
   "id": "eb33dfa9-c68d-460e-bb9b-92a22d7bed70",
   "metadata": {
    "tags": []
   },
   "outputs": [
    {
     "name": "stdout",
     "output_type": "stream",
     "text": [
      "<class 'pandas.core.frame.DataFrame'>\n",
      "RangeIndex: 200137 entries, 0 to 200136\n",
      "Data columns (total 18 columns):\n",
      " #   Column               Non-Null Count   Dtype  \n",
      "---  ------               --------------   -----  \n",
      " 0   id                   200137 non-null  int64  \n",
      " 1   type_emplacement     200137 non-null  object \n",
      " 2   domanialite          200136 non-null  object \n",
      " 3   arrondissement       200137 non-null  object \n",
      " 4   complement_addresse  30902 non-null   object \n",
      " 5   numero               0 non-null       float64\n",
      " 6   lieu                 200137 non-null  object \n",
      " 7   id_emplacement       200137 non-null  object \n",
      " 8   libelle_francais     198640 non-null  object \n",
      " 9   genre                200121 non-null  object \n",
      " 10  espece               198385 non-null  object \n",
      " 11  variete              36777 non-null   object \n",
      " 12  circonference_cm     200137 non-null  int64  \n",
      " 13  hauteur_m            200137 non-null  int64  \n",
      " 14  stade_developpement  132932 non-null  object \n",
      " 15  remarquable          137039 non-null  float64\n",
      " 16  geo_point_2d_a       200137 non-null  float64\n",
      " 17  geo_point_2d_b       200137 non-null  float64\n",
      "dtypes: float64(4), int64(3), object(11)\n",
      "memory usage: 27.5+ MB\n"
     ]
    }
   ],
   "source": [
    "df.info()"
   ]
  },
  {
   "cell_type": "markdown",
   "id": "ad95491a-c8cb-4626-bae4-209dc7d62cf4",
   "metadata": {},
   "source": [
    "## Cleaning the data"
   ]
  },
  {
   "cell_type": "markdown",
   "id": "c92ce8f0-22af-4d5d-a150-03c25c6c6cbe",
   "metadata": {},
   "source": [
    "#### Columns That are empty"
   ]
  },
  {
   "cell_type": "code",
   "execution_count": 15,
   "id": "604e73fe-5944-45fd-a28e-14fd8808fba7",
   "metadata": {
    "tags": []
   },
   "outputs": [
    {
     "data": {
      "text/plain": [
       "id                          0\n",
       "type_emplacement            0\n",
       "domanialite                 1\n",
       "arrondissement              0\n",
       "complement_addresse    169235\n",
       "numero                 200137\n",
       "lieu                        0\n",
       "id_emplacement              0\n",
       "libelle_francais         1497\n",
       "genre                      16\n",
       "espece                   1752\n",
       "variete                163360\n",
       "circonference_cm            0\n",
       "hauteur_m                   0\n",
       "stade_developpement     67205\n",
       "remarquable             63098\n",
       "geo_point_2d_a              0\n",
       "geo_point_2d_b              0\n",
       "dtype: int64"
      ]
     },
     "execution_count": 15,
     "metadata": {},
     "output_type": "execute_result"
    }
   ],
   "source": [
    "df.isnull().sum()"
   ]
  },
  {
   "cell_type": "markdown",
   "id": "34db4080-1c86-477a-b1f0-17a7e70fe874",
   "metadata": {},
   "source": [
    "We have a column `numero` empty. We can drop empty column"
   ]
  },
  {
   "cell_type": "code",
   "execution_count": 16,
   "id": "599a91ec-6ff9-4ade-abee-321f385a68e9",
   "metadata": {
    "tags": []
   },
   "outputs": [
    {
     "name": "stdout",
     "output_type": "stream",
     "text": [
      "column is empty ?: True\n"
     ]
    }
   ],
   "source": [
    "print(\"column is empty ?:\", df.numero.isnull().values.all())\n",
    "df.drop('numero', axis=1, inplace=True)\n"
   ]
  },
  {
   "cell_type": "code",
   "execution_count": 17,
   "id": "5a32c2b1-d099-4d00-bcf3-899df3fdb741",
   "metadata": {},
   "outputs": [
    {
     "data": {
      "text/plain": [
       "(200137, 17)"
      ]
     },
     "execution_count": 17,
     "metadata": {},
     "output_type": "execute_result"
    }
   ],
   "source": [
    "df.shape"
   ]
  },
  {
   "cell_type": "markdown",
   "id": "f543b769-d027-47fe-b32a-b42a8552f689",
   "metadata": {},
   "source": [
    "#### Columns That Contain a Single Value"
   ]
  },
  {
   "cell_type": "code",
   "execution_count": 18,
   "id": "2529bdae-859b-460e-807e-f0985a4cc9ec",
   "metadata": {
    "tags": []
   },
   "outputs": [
    {
     "data": {
      "text/plain": [
       "id                     200137\n",
       "type_emplacement            1\n",
       "domanialite                 9\n",
       "arrondissement             25\n",
       "complement_addresse      3795\n",
       "lieu                     6921\n",
       "id_emplacement          69040\n",
       "libelle_francais          192\n",
       "genre                     175\n",
       "espece                    539\n",
       "variete                   436\n",
       "circonference_cm          531\n",
       "hauteur_m                 143\n",
       "stade_developpement         4\n",
       "remarquable                 2\n",
       "geo_point_2d_a         200107\n",
       "geo_point_2d_b         200114\n",
       "dtype: int64"
      ]
     },
     "execution_count": 18,
     "metadata": {},
     "output_type": "execute_result"
    }
   ],
   "source": [
    "df.nunique()"
   ]
  },
  {
   "cell_type": "code",
   "execution_count": 19,
   "id": "6de4da89-9aa6-47f0-8c4e-81ba897a3b4e",
   "metadata": {
    "tags": []
   },
   "outputs": [
    {
     "name": "stdout",
     "output_type": "stream",
     "text": [
      "type_emplacement\n"
     ]
    }
   ],
   "source": [
    "# get number of unique values for each column \n",
    "counts = df.nunique()\n",
    "# record columns to delete\n",
    "to_del = [i for i,v in enumerate(counts) if v == 1]\n",
    "for column in to_del:\n",
    "    print(df.columns[column])"
   ]
  },
  {
   "cell_type": "code",
   "execution_count": 20,
   "id": "c4ee1e47-9918-4f2d-961e-d8372e785e44",
   "metadata": {},
   "outputs": [],
   "source": [
    "# drop useless columns\n",
    "df.drop(df.columns[to_del], axis=1, inplace=True)"
   ]
  },
  {
   "cell_type": "code",
   "execution_count": 21,
   "id": "1d699edb-79d9-4d4c-a686-0f3bce44e785",
   "metadata": {},
   "outputs": [
    {
     "data": {
      "text/plain": [
       "(200137, 16)"
      ]
     },
     "execution_count": 21,
     "metadata": {},
     "output_type": "execute_result"
    }
   ],
   "source": [
    "df.shape"
   ]
  },
  {
   "cell_type": "markdown",
   "id": "6646fcbc-0d3e-482a-b204-6152703c7112",
   "metadata": {},
   "source": [
    "#### Columns That have Very Few Values"
   ]
  },
  {
   "cell_type": "code",
   "execution_count": 22,
   "id": "b5a68d6e-3459-4bf1-9f2c-5805c43c5f44",
   "metadata": {
    "tags": []
   },
   "outputs": [
    {
     "name": "stdout",
     "output_type": "stream",
     "text": [
      "domanialite, 9, 0.0%\n",
      "arrondissement, 25, 0.0%\n",
      "libelle_francais, 192, 0.1%\n",
      "genre, 175, 0.1%\n",
      "espece, 539, 0.3%\n",
      "variete, 436, 0.2%\n",
      "circonference_cm, 531, 0.3%\n",
      "hauteur_m, 143, 0.1%\n",
      "stade_developpement, 4, 0.0%\n",
      "remarquable, 2, 0.0%\n"
     ]
    }
   ],
   "source": [
    "# summarize the number of unique values in each column \n",
    "for column in  df.columns:\n",
    "    num = df[column].nunique()\n",
    "    percentage = float(num) / df.shape[0] * 100 \n",
    "    if percentage < 1:\n",
    "        print('%s, %d, %.1f%%' % (column, num, percentage))"
   ]
  },
  {
   "cell_type": "code",
   "execution_count": 23,
   "id": "c2e7889d-19f3-4092-8389-756d85e622cf",
   "metadata": {
    "tags": []
   },
   "outputs": [
    {
     "data": {
      "text/plain": [
       "0.0    136855\n",
       "1.0       184\n",
       "Name: remarquable, dtype: int64"
      ]
     },
     "execution_count": 23,
     "metadata": {},
     "output_type": "execute_result"
    }
   ],
   "source": [
    "df.remarquable.value_counts()"
   ]
  },
  {
   "cell_type": "markdown",
   "id": "2872d02b-fb96-4c5e-b3a4-44d7839e44f5",
   "metadata": {},
   "source": [
    "column REMARQUABLE has very few unique values and have a small variance."
   ]
  },
  {
   "cell_type": "code",
   "execution_count": 24,
   "id": "2848894e-4dad-4bfb-88bf-f8baaf0b3ac4",
   "metadata": {
    "tags": []
   },
   "outputs": [
    {
     "data": {
      "text/plain": [
       "0.0013408904555056327"
      ]
     },
     "execution_count": 24,
     "metadata": {},
     "output_type": "execute_result"
    }
   ],
   "source": [
    "df.remarquable.var()\n"
   ]
  },
  {
   "cell_type": "code",
   "execution_count": 25,
   "id": "703ed4fb-f917-4c68-abf7-bdfe4810edab",
   "metadata": {},
   "outputs": [
    {
     "name": "stdout",
     "output_type": "stream",
     "text": [
      "remarquable, 63098, 31.5%\n"
     ]
    }
   ],
   "source": [
    "null_value = df.remarquable.isnull().sum()\n",
    "percentage = float(null_value) / df.shape[0] * 100 \n",
    "print('%s, %d, %.1f%%' % (df.remarquable.name, null_value, percentage))"
   ]
  },
  {
   "cell_type": "code",
   "execution_count": 26,
   "id": "c3191b14-ea6e-49a2-94cd-2b2fa94e2eb5",
   "metadata": {},
   "outputs": [],
   "source": [
    "# drop useless columns\n",
    "# df.drop('remarquable', axis=1, inplace=True)\n"
   ]
  },
  {
   "cell_type": "markdown",
   "id": "302aff33-dfd5-4ae9-8020-febd2794d7b9",
   "metadata": {
    "tags": []
   },
   "source": [
    "#### Rows That Contain Duplicate Data"
   ]
  },
  {
   "cell_type": "code",
   "execution_count": 27,
   "id": "ebdc4edc-090a-4cd3-b4c4-9aec0afef79b",
   "metadata": {},
   "outputs": [
    {
     "name": "stdout",
     "output_type": "stream",
     "text": [
      "False\n"
     ]
    }
   ],
   "source": [
    "# calculate duplicates\n",
    "dups = df.duplicated()\n",
    "# report if there are any duplicates \n",
    "print(dups.any())"
   ]
  },
  {
   "cell_type": "markdown",
   "id": "710661e1-789d-4eca-9531-247d3468982a",
   "metadata": {},
   "source": [
    "#### Rows That Contain values outisde Paris"
   ]
  },
  {
   "cell_type": "markdown",
   "id": "f3ec37af-cad6-4efd-a956-7ba4afbf992a",
   "metadata": {},
   "source": [
    "We have values that do not correspond to Paris District"
   ]
  },
  {
   "cell_type": "code",
   "execution_count": 28,
   "id": "3b12efff-c100-444c-b734-c7b04f9e81e2",
   "metadata": {
    "tags": []
   },
   "outputs": [
    {
     "data": {
      "text/plain": [
       "['HAUTS-DE-SEINE', 'SEINE-SAINT-DENIS', 'VAL-DE-MARNE']"
      ]
     },
     "execution_count": 28,
     "metadata": {},
     "output_type": "execute_result"
    }
   ],
   "source": [
    "arr_list = df['arrondissement'].unique()\n",
    "arr_list.sort()\n",
    "not_in_paris = []\n",
    "for district in arr_list:\n",
    "    if not (district.startswith(\"PARIS\") or district.startswith(\"BOIS\")):\n",
    "        not_in_paris.append(district)\n",
    "not_in_paris"
   ]
  },
  {
   "cell_type": "markdown",
   "id": "061e6db3-1563-45e9-a787-90b6b9d5d61f",
   "metadata": {},
   "source": [
    "I remove:\n",
    "    - HAUTS-DE-SEINE\n",
    "    - SEINE-SAINT-DENIS\n",
    "    - VAL-DE-MARNE \n",
    "because it's outside of Paris. \n",
    "\n",
    "But I Keep:\n",
    "    - Bois de Boulogne\n",
    "    - Bois de Vincennes \n",
    "because it is the property of Paris"
   ]
  },
  {
   "cell_type": "markdown",
   "id": "8133ee19-7203-4a46-bd59-12af4c5b747e",
   "metadata": {},
   "source": [
    "selecting rows where location is in Paris Districts only"
   ]
  },
  {
   "cell_type": "code",
   "execution_count": 29,
   "id": "839dc5cc-243a-4913-9dd3-e94a236702aa",
   "metadata": {},
   "outputs": [],
   "source": [
    "df = df[~df['arrondissement'].isin(not_in_paris)]\n",
    "\n"
   ]
  }
 ],
 "metadata": {
  "kernelspec": {
   "display_name": "Python 3 (ipykernel)",
   "language": "python",
   "name": "python3"
  },
  "language_info": {
   "codemirror_mode": {
    "name": "ipython",
    "version": 3
   },
   "file_extension": ".py",
   "mimetype": "text/x-python",
   "name": "python",
   "nbconvert_exporter": "python",
   "pygments_lexer": "ipython3",
   "version": "3.10.4"
  }
 },
 "nbformat": 4,
 "nbformat_minor": 5
}
