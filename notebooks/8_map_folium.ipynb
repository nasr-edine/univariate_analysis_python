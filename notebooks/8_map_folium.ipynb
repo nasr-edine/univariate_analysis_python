{
 "cells": [
  {
   "cell_type": "code",
   "execution_count": 1,
   "id": "1661c36d-7dd3-4a75-ac0a-f44e41aac190",
   "metadata": {
    "tags": []
   },
   "outputs": [],
   "source": [
    "%%capture\n",
    "%run ./4_column_domanialite.ipynb"
   ]
  },
  {
   "cell_type": "code",
   "execution_count": 2,
   "id": "db2e898d-18ec-494a-bb6a-7b5457bfd9ff",
   "metadata": {},
   "outputs": [],
   "source": [
    "import folium"
   ]
  },
  {
   "cell_type": "code",
   "execution_count": 3,
   "id": "c8a23aa1-88ef-422a-8f48-d555f1fecd8f",
   "metadata": {},
   "outputs": [],
   "source": [
    "m = folium.Map(location=[df.geo_point_2d_a.mean(), \n",
    "                           df.geo_point_2d_b.mean()], \n",
    "                        zoom_start=12, control_scale=True)"
   ]
  },
  {
   "cell_type": "markdown",
   "id": "b2f05e31-0556-4ccb-a597-637dd6d1b69f",
   "metadata": {},
   "source": [
    "## Tallest tree in paris"
   ]
  },
  {
   "cell_type": "code",
   "execution_count": 4,
   "id": "c06d5b00-71f1-456c-b78e-68609cdbbc2c",
   "metadata": {},
   "outputs": [
    {
     "data": {
      "text/plain": [
       "id                              100439\n",
       "domanialite                     Jardin\n",
       "arrondissement         PARIS 12E ARRDT\n",
       "complement_addresse                NaN\n",
       "lieu                     PARC DE BERCY\n",
       "id_emplacement                     722\n",
       "libelle_francais               Platane\n",
       "genre                         Platanus\n",
       "espece                     x hispanica\n",
       "variete                            NaN\n",
       "circonference_cm                 214.0\n",
       "hauteur_m                    23.031143\n",
       "stade_developpement                NaN\n",
       "remarquable                        NaN\n",
       "geo_point_2d_a               48.835025\n",
       "geo_point_2d_b                2.384074\n",
       "Name: 388, dtype: object"
      ]
     },
     "execution_count": 4,
     "metadata": {},
     "output_type": "execute_result"
    }
   ],
   "source": [
    "tallest_tree = df.loc[df.hauteur_m.idxmax()]\n",
    "tallest_tree"
   ]
  },
  {
   "cell_type": "code",
   "execution_count": 5,
   "id": "ac1607cf-4315-493b-86b3-db3d4da1a5cc",
   "metadata": {},
   "outputs": [],
   "source": [
    "geo_point_2d_a = tallest_tree['geo_point_2d_a']\n",
    "geo_point_2d_b = tallest_tree['geo_point_2d_b']\n",
    "folium.Marker(\n",
    "    [geo_point_2d_a, geo_point_2d_b], popup=\"<i>Tallest tree in Paris</i>\", tooltip=\"Tallest tree\"\n",
    ").add_to(m);"
   ]
  },
  {
   "cell_type": "markdown",
   "id": "09ca5452-d3bd-4127-a08f-e7560ac8248a",
   "metadata": {},
   "source": [
    "## Smallest tree in paris"
   ]
  },
  {
   "cell_type": "code",
   "execution_count": 6,
   "id": "a07ea173-b082-463c-8eae-40ecfdca55fa",
   "metadata": {
    "tags": []
   },
   "outputs": [
    {
     "data": {
      "text/plain": [
       "id                                                       111370\n",
       "domanialite                                              Jardin\n",
       "arrondissement                                  PARIS 16E ARRDT\n",
       "complement_addresse                                          92\n",
       "lieu                   JARDIN DE L AVENUE FOCH / 10 AVENUE FOCH\n",
       "id_emplacement                                           602006\n",
       "libelle_francais                                            Pin\n",
       "genre                                                     Pinus\n",
       "espece                                     nigra subsp. laricio\n",
       "variete                                                     NaN\n",
       "circonference_cm                                           10.0\n",
       "hauteur_m                                                   1.0\n",
       "stade_developpement                                           J\n",
       "remarquable                                                 0.0\n",
       "geo_point_2d_a                                        48.872252\n",
       "geo_point_2d_b                                         2.276666\n",
       "Name: 9281, dtype: object"
      ]
     },
     "execution_count": 6,
     "metadata": {},
     "output_type": "execute_result"
    }
   ],
   "source": [
    "df.loc[df.hauteur_m.idxmin()]"
   ]
  },
  {
   "cell_type": "code",
   "execution_count": 7,
   "id": "49524cc7-4723-455c-acc7-a2a2d7961005",
   "metadata": {},
   "outputs": [],
   "source": [
    "geo_point_2d_a = df.loc[df.hauteur_m.idxmin()]['geo_point_2d_a']\n",
    "geo_point_2d_b = df.loc[df.hauteur_m.idxmin()]['geo_point_2d_b']\n",
    "folium.Marker(\n",
    "    [geo_point_2d_a, geo_point_2d_b], popup=\"<b>Smallest tree in Paris</b>\", tooltip=\"Smallest tree\"\n",
    ").add_to(m);"
   ]
  },
  {
   "cell_type": "markdown",
   "id": "3f7c8cbc-068f-4d9b-a97c-20bca769242b",
   "metadata": {},
   "source": [
    "## Rarest tree in paris"
   ]
  },
  {
   "cell_type": "code",
   "execution_count": 8,
   "id": "af7470a7-361e-4323-8bac-db7a11725065",
   "metadata": {},
   "outputs": [
    {
     "data": {
      "text/plain": [
       "Idesia                 1\n",
       "Brachychiton           1\n",
       "Genista                1\n",
       "Pistacia               1\n",
       "Fremontodendron        1\n",
       "                   ...  \n",
       "Sophora            11050\n",
       "Acer               13900\n",
       "Tilia              19281\n",
       "Aesculus           22717\n",
       "Platanus           39685\n",
       "Name: genre, Length: 147, dtype: int64"
      ]
     },
     "execution_count": 8,
     "metadata": {},
     "output_type": "execute_result"
    }
   ],
   "source": [
    "df.genre.value_counts(ascending=True)"
   ]
  },
  {
   "cell_type": "code",
   "execution_count": 9,
   "id": "4f205ce5-e205-4cbb-a8eb-3d768d378082",
   "metadata": {},
   "outputs": [],
   "source": [
    "geo_point_2d_a = df.loc[df.genre=='Idesia','geo_point_2d_a'].values[0]\n",
    "geo_point_2d_b = df.loc[df.genre=='Idesia','geo_point_2d_b'].values[0]\n",
    "folium.Marker(\n",
    "    [geo_point_2d_a, geo_point_2d_b], popup=\"<b>Rarest tree in Paris</b>\", tooltip=\"Rarest tree\"\n",
    ").add_to(m);"
   ]
  },
  {
   "cell_type": "markdown",
   "id": "ccdfd007-1c89-4075-8aa5-29a4ac888988",
   "metadata": {},
   "source": [
    "#### Show special trees with Folium map"
   ]
  },
  {
   "cell_type": "code",
   "execution_count": 10,
   "id": "ea836b2c-9ccb-49bb-8ee8-c85e8ca6cf8a",
   "metadata": {},
   "outputs": [
    {
     "data": {
      "text/html": [
       "<div style=\"width:100%;\"><div style=\"position:relative;width:100%;height:0;padding-bottom:60%;\"><span style=\"color:#565656\">Make this Notebook Trusted to load map: File -> Trust Notebook</span><iframe srcdoc=\"&lt;!DOCTYPE html&gt;\n",
       "&lt;html&gt;\n",
       "&lt;head&gt;\n",
       "    \n",
       "    &lt;meta http-equiv=&quot;content-type&quot; content=&quot;text/html; charset=UTF-8&quot; /&gt;\n",
       "    \n",
       "        &lt;script&gt;\n",
       "            L_NO_TOUCH = false;\n",
       "            L_DISABLE_3D = false;\n",
       "        &lt;/script&gt;\n",
       "    \n",
       "    &lt;style&gt;html, body {width: 100%;height: 100%;margin: 0;padding: 0;}&lt;/style&gt;\n",
       "    &lt;style&gt;#map {position:absolute;top:0;bottom:0;right:0;left:0;}&lt;/style&gt;\n",
       "    &lt;script src=&quot;https://cdn.jsdelivr.net/npm/leaflet@1.6.0/dist/leaflet.js&quot;&gt;&lt;/script&gt;\n",
       "    &lt;script src=&quot;https://code.jquery.com/jquery-1.12.4.min.js&quot;&gt;&lt;/script&gt;\n",
       "    &lt;script src=&quot;https://maxcdn.bootstrapcdn.com/bootstrap/3.2.0/js/bootstrap.min.js&quot;&gt;&lt;/script&gt;\n",
       "    &lt;script src=&quot;https://cdnjs.cloudflare.com/ajax/libs/Leaflet.awesome-markers/2.0.2/leaflet.awesome-markers.js&quot;&gt;&lt;/script&gt;\n",
       "    &lt;link rel=&quot;stylesheet&quot; href=&quot;https://cdn.jsdelivr.net/npm/leaflet@1.6.0/dist/leaflet.css&quot;/&gt;\n",
       "    &lt;link rel=&quot;stylesheet&quot; href=&quot;https://maxcdn.bootstrapcdn.com/bootstrap/3.2.0/css/bootstrap.min.css&quot;/&gt;\n",
       "    &lt;link rel=&quot;stylesheet&quot; href=&quot;https://maxcdn.bootstrapcdn.com/bootstrap/3.2.0/css/bootstrap-theme.min.css&quot;/&gt;\n",
       "    &lt;link rel=&quot;stylesheet&quot; href=&quot;https://maxcdn.bootstrapcdn.com/font-awesome/4.6.3/css/font-awesome.min.css&quot;/&gt;\n",
       "    &lt;link rel=&quot;stylesheet&quot; href=&quot;https://cdnjs.cloudflare.com/ajax/libs/Leaflet.awesome-markers/2.0.2/leaflet.awesome-markers.css&quot;/&gt;\n",
       "    &lt;link rel=&quot;stylesheet&quot; href=&quot;https://cdn.jsdelivr.net/gh/python-visualization/folium/folium/templates/leaflet.awesome.rotate.min.css&quot;/&gt;\n",
       "    \n",
       "            &lt;meta name=&quot;viewport&quot; content=&quot;width=device-width,\n",
       "                initial-scale=1.0, maximum-scale=1.0, user-scalable=no&quot; /&gt;\n",
       "            &lt;style&gt;\n",
       "                #map_97646209141518a62f6b901f56f21aeb {\n",
       "                    position: relative;\n",
       "                    width: 100.0%;\n",
       "                    height: 100.0%;\n",
       "                    left: 0.0%;\n",
       "                    top: 0.0%;\n",
       "                }\n",
       "            &lt;/style&gt;\n",
       "        \n",
       "&lt;/head&gt;\n",
       "&lt;body&gt;\n",
       "    \n",
       "    \n",
       "            &lt;div class=&quot;folium-map&quot; id=&quot;map_97646209141518a62f6b901f56f21aeb&quot; &gt;&lt;/div&gt;\n",
       "        \n",
       "&lt;/body&gt;\n",
       "&lt;script&gt;\n",
       "    \n",
       "    \n",
       "            var map_97646209141518a62f6b901f56f21aeb = L.map(\n",
       "                &quot;map_97646209141518a62f6b901f56f21aeb&quot;,\n",
       "                {\n",
       "                    center: [48.855645409179324, 2.345320843922845],\n",
       "                    crs: L.CRS.EPSG3857,\n",
       "                    zoom: 12,\n",
       "                    zoomControl: true,\n",
       "                    preferCanvas: false,\n",
       "                }\n",
       "            );\n",
       "            L.control.scale().addTo(map_97646209141518a62f6b901f56f21aeb);\n",
       "\n",
       "            \n",
       "\n",
       "        \n",
       "    \n",
       "            var tile_layer_6715c51f6620e9951d824549267bd65b = L.tileLayer(\n",
       "                &quot;https://{s}.tile.openstreetmap.org/{z}/{x}/{y}.png&quot;,\n",
       "                {&quot;attribution&quot;: &quot;Data by \\u0026copy; \\u003ca href=\\&quot;http://openstreetmap.org\\&quot;\\u003eOpenStreetMap\\u003c/a\\u003e, under \\u003ca href=\\&quot;http://www.openstreetmap.org/copyright\\&quot;\\u003eODbL\\u003c/a\\u003e.&quot;, &quot;detectRetina&quot;: false, &quot;maxNativeZoom&quot;: 18, &quot;maxZoom&quot;: 18, &quot;minZoom&quot;: 0, &quot;noWrap&quot;: false, &quot;opacity&quot;: 1, &quot;subdomains&quot;: &quot;abc&quot;, &quot;tms&quot;: false}\n",
       "            ).addTo(map_97646209141518a62f6b901f56f21aeb);\n",
       "        \n",
       "    \n",
       "            var marker_fb248b85d24987974b573a6552cb1c1c = L.marker(\n",
       "                [48.8350250251, 2.3840736068],\n",
       "                {}\n",
       "            ).addTo(map_97646209141518a62f6b901f56f21aeb);\n",
       "        \n",
       "    \n",
       "        var popup_09c188f4bd719ddb26ed43220a9b2b1f = L.popup({&quot;maxWidth&quot;: &quot;100%&quot;});\n",
       "\n",
       "        \n",
       "            \n",
       "                var html_da2648d11efd15f820fbc5c18c3a2b14 = $(`&lt;div id=&quot;html_da2648d11efd15f820fbc5c18c3a2b14&quot; style=&quot;width: 100.0%; height: 100.0%;&quot;&gt;&lt;i&gt;Tallest tree in Paris&lt;/i&gt;&lt;/div&gt;`)[0];\n",
       "                popup_09c188f4bd719ddb26ed43220a9b2b1f.setContent(html_da2648d11efd15f820fbc5c18c3a2b14);\n",
       "            \n",
       "        \n",
       "\n",
       "        marker_fb248b85d24987974b573a6552cb1c1c.bindPopup(popup_09c188f4bd719ddb26ed43220a9b2b1f)\n",
       "        ;\n",
       "\n",
       "        \n",
       "    \n",
       "    \n",
       "            marker_fb248b85d24987974b573a6552cb1c1c.bindTooltip(\n",
       "                `&lt;div&gt;\n",
       "                     Tallest tree\n",
       "                 &lt;/div&gt;`,\n",
       "                {&quot;sticky&quot;: true}\n",
       "            );\n",
       "        \n",
       "    \n",
       "            var marker_d8de1fe04411fce2acdaaf2c0b05039b = L.marker(\n",
       "                [48.8722523037, 2.2766657566],\n",
       "                {}\n",
       "            ).addTo(map_97646209141518a62f6b901f56f21aeb);\n",
       "        \n",
       "    \n",
       "        var popup_27c22c883bb8d5f3065a53c6864005ee = L.popup({&quot;maxWidth&quot;: &quot;100%&quot;});\n",
       "\n",
       "        \n",
       "            \n",
       "                var html_f8d236e2f96c756ef0bc1cd5baf82bcc = $(`&lt;div id=&quot;html_f8d236e2f96c756ef0bc1cd5baf82bcc&quot; style=&quot;width: 100.0%; height: 100.0%;&quot;&gt;&lt;b&gt;Smallest tree in Paris&lt;/b&gt;&lt;/div&gt;`)[0];\n",
       "                popup_27c22c883bb8d5f3065a53c6864005ee.setContent(html_f8d236e2f96c756ef0bc1cd5baf82bcc);\n",
       "            \n",
       "        \n",
       "\n",
       "        marker_d8de1fe04411fce2acdaaf2c0b05039b.bindPopup(popup_27c22c883bb8d5f3065a53c6864005ee)\n",
       "        ;\n",
       "\n",
       "        \n",
       "    \n",
       "    \n",
       "            marker_d8de1fe04411fce2acdaaf2c0b05039b.bindTooltip(\n",
       "                `&lt;div&gt;\n",
       "                     Smallest tree\n",
       "                 &lt;/div&gt;`,\n",
       "                {&quot;sticky&quot;: true}\n",
       "            );\n",
       "        \n",
       "    \n",
       "            var marker_f634ca30c98d4312aaefd13961921c31 = L.marker(\n",
       "                [48.8791384913, 2.3109315267],\n",
       "                {}\n",
       "            ).addTo(map_97646209141518a62f6b901f56f21aeb);\n",
       "        \n",
       "    \n",
       "        var popup_102b86db0d281a0f083ccc29546ba186 = L.popup({&quot;maxWidth&quot;: &quot;100%&quot;});\n",
       "\n",
       "        \n",
       "            \n",
       "                var html_1944ecea81bc23617c635b79fffe05ef = $(`&lt;div id=&quot;html_1944ecea81bc23617c635b79fffe05ef&quot; style=&quot;width: 100.0%; height: 100.0%;&quot;&gt;&lt;b&gt;Rarest tree in Paris&lt;/b&gt;&lt;/div&gt;`)[0];\n",
       "                popup_102b86db0d281a0f083ccc29546ba186.setContent(html_1944ecea81bc23617c635b79fffe05ef);\n",
       "            \n",
       "        \n",
       "\n",
       "        marker_f634ca30c98d4312aaefd13961921c31.bindPopup(popup_102b86db0d281a0f083ccc29546ba186)\n",
       "        ;\n",
       "\n",
       "        \n",
       "    \n",
       "    \n",
       "            marker_f634ca30c98d4312aaefd13961921c31.bindTooltip(\n",
       "                `&lt;div&gt;\n",
       "                     Rarest tree\n",
       "                 &lt;/div&gt;`,\n",
       "                {&quot;sticky&quot;: true}\n",
       "            );\n",
       "        \n",
       "&lt;/script&gt;\n",
       "&lt;/html&gt;\" style=\"position:absolute;width:100%;height:100%;left:0;top:0;border:none !important;\" allowfullscreen webkitallowfullscreen mozallowfullscreen></iframe></div></div>"
      ],
      "text/plain": [
       "<folium.folium.Map at 0x111039810>"
      ]
     },
     "execution_count": 10,
     "metadata": {},
     "output_type": "execute_result"
    }
   ],
   "source": [
    "m"
   ]
  }
 ],
 "metadata": {
  "kernelspec": {
   "display_name": "Python 3 (ipykernel)",
   "language": "python",
   "name": "python3"
  },
  "language_info": {
   "codemirror_mode": {
    "name": "ipython",
    "version": 3
   },
   "file_extension": ".py",
   "mimetype": "text/x-python",
   "name": "python",
   "nbconvert_exporter": "python",
   "pygments_lexer": "ipython3",
   "version": "3.10.4"
  }
 },
 "nbformat": 4,
 "nbformat_minor": 5
}
