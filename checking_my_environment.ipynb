{
 "cells": [
  {
   "cell_type": "markdown",
   "id": "c93d8c50-93fe-4cd2-a628-0b7c31d36c80",
   "metadata": {
    "tags": []
   },
   "source": [
    "# Checking my environment for the 2rd project\n",
    "Run through this notebook to make sure my environment is properly setup. Be sure to launch Jupyter from inside the virtual environment."
   ]
  },
  {
   "cell_type": "code",
   "execution_count": 1,
   "id": "1332bffd-abb3-4793-bbe8-8efcf87e0401",
   "metadata": {},
   "outputs": [
    {
     "name": "stdout",
     "output_type": "stream",
     "text": [
      "Using Python in /Users/drainasr-edine/github/ingenieur_ia/P2_drai_nasr-edine/ia_project_2_env:\n",
      "\u001b[42m[ OK ]\u001b[0m Python is version 3.10.4 (main, Jul 17 2022, 13:52:49) [Clang 13.1.6 (clang-1316.0.21.2.5)]\n",
      "\n",
      "\u001b[42m[ OK ]\u001b[0m jupyterlab\n",
      "\u001b[42m[ OK ]\u001b[0m matplotlib\n",
      "\u001b[42m[ OK ]\u001b[0m numpy\n",
      "\u001b[42m[ OK ]\u001b[0m pandas\n",
      "\u001b[42m[ OK ]\u001b[0m sklearn\n",
      "\u001b[42m[ OK ]\u001b[0m scipy\n",
      "\u001b[42m[ OK ]\u001b[0m seaborn\n"
     ]
    }
   ],
   "source": [
    "from check_environment import run_checks\n",
    "run_checks()"
   ]
  },
  {
   "cell_type": "code",
   "execution_count": null,
   "id": "c9657db8-4ba1-421b-b93d-ec845896c647",
   "metadata": {},
   "outputs": [],
   "source": []
  }
 ],
 "metadata": {
  "kernelspec": {
   "display_name": "Python 3 (ipykernel)",
   "language": "python",
   "name": "python3"
  },
  "language_info": {
   "codemirror_mode": {
    "name": "ipython",
    "version": 3
   },
   "file_extension": ".py",
   "mimetype": "text/x-python",
   "name": "python",
   "nbconvert_exporter": "python",
   "pygments_lexer": "ipython3",
   "version": "3.10.4"
  }
 },
 "nbformat": 4,
 "nbformat_minor": 5
}
